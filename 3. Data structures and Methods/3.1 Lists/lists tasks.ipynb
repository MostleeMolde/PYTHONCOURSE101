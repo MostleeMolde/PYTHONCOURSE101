{
  "nbformat": 4,
  "nbformat_minor": 0,
  "metadata": {
    "interpreter": {
      "hash": "fd61235da8d855c081cbd5d7c6398e4c179a40a950675235256f7f30499f1124"
    },
    "kernelspec": {
      "display_name": "Python 3.7.4 64-bit ('base': conda)",
      "name": "python3"
    },
    "language_info": {
      "codemirror_mode": {
        "name": "ipython",
        "version": 3
      },
      "file_extension": ".py",
      "mimetype": "text/x-python",
      "name": "python",
      "nbconvert_exporter": "python",
      "pygments_lexer": "ipython3",
      "version": "3.7.4"
    },
    "orig_nbformat": 4,
    "colab": {
      "name": "lists tasks.ipynb",
      "provenance": []
    }
  },
  "cells": [
    {
      "cell_type": "markdown",
      "metadata": {
        "id": "Gkm3UF-W0pxS"
      },
      "source": [
        "# TASK 1\n",
        "use negative indexing to return the 3rd value in the list\n",
        "--"
      ]
    },
    {
      "cell_type": "code",
      "metadata": {
        "id": "Ulxwwa3J0pxU",
        "outputId": "7e00cbdd-40eb-4329-ac5d-09286ed343a3",
        "colab": {
          "base_uri": "https://localhost:8080/",
          "height": 37
        }
      },
      "source": [
        "var = [\"I\", \"am\", \"the\", \"third\", \"index\"]\n",
        "#TODO\n",
        "var[-3]"
      ],
      "execution_count": 1,
      "outputs": [
        {
          "output_type": "execute_result",
          "data": {
            "application/vnd.google.colaboratory.intrinsic+json": {
              "type": "string"
            },
            "text/plain": [
              "'the'"
            ]
          },
          "metadata": {},
          "execution_count": 1
        }
      ]
    },
    {
      "cell_type": "markdown",
      "metadata": {
        "id": "922_uQdC0pxU"
      },
      "source": [
        "# TASK 2\n",
        "Slice the list so that the following gets returned:\n",
        "`[(5, 10), (11, -2), (8, -12)]`\n",
        "--"
      ]
    },
    {
      "cell_type": "code",
      "metadata": {
        "id": "gBtMqolc0pxV",
        "outputId": "8990539b-c7d3-4df5-c42f-cdace971c421",
        "colab": {
          "base_uri": "https://localhost:8080/"
        }
      },
      "source": [
        "points = [(23, 56),  (5, 10), (11, -2), (8, -12),  (-5, -5), (0, 4)]\n",
        "#TODO\n",
        "points[1:4]"
      ],
      "execution_count": 4,
      "outputs": [
        {
          "output_type": "execute_result",
          "data": {
            "text/plain": [
              "[(5, 10), (11, -2), (8, -12)]"
            ]
          },
          "metadata": {},
          "execution_count": 4
        }
      ]
    },
    {
      "cell_type": "markdown",
      "metadata": {
        "id": "zUKCGWkp0pxV"
      },
      "source": [
        "# TASK 3\n",
        "Slice the list so that everything after the 3rd position gets returned.\n",
        "--"
      ]
    },
    {
      "cell_type": "code",
      "metadata": {
        "id": "CXOUGo_40pxV",
        "outputId": "4a6167fa-3e76-4d9c-8758-5b727045705d",
        "colab": {
          "base_uri": "https://localhost:8080/"
        }
      },
      "source": [
        "prices = [4.99, 3.50, 99.99, 10.00, 5.85, 6.90, .25, 55.00]\n",
        "#TODO\n",
        "prices[3:]"
      ],
      "execution_count": 6,
      "outputs": [
        {
          "output_type": "execute_result",
          "data": {
            "text/plain": [
              "[10.0, 5.85, 6.9, 0.25, 55.0]"
            ]
          },
          "metadata": {},
          "execution_count": 6
        }
      ]
    },
    {
      "cell_type": "markdown",
      "metadata": {
        "id": "ebv9C4Vw0pxW"
      },
      "source": [
        "# TASK 4\n",
        "Slice the string so that the following gets returned: **\"Battery life\"**\n",
        "---"
      ]
    },
    {
      "cell_type": "code",
      "metadata": {
        "id": "Q_Qgxm1Q0pxW",
        "outputId": "c42e101f-93f3-4e98-878f-feffb2aecac2",
        "colab": {
          "base_uri": "https://localhost:8080/",
          "height": 37
        }
      },
      "source": [
        "message = \"Amazing battery life. And a 14‑inch or 16‑inch Liquid Retina XDR display.\"\n",
        "#TODO\n",
        "message[8:20]"
      ],
      "execution_count": 9,
      "outputs": [
        {
          "output_type": "execute_result",
          "data": {
            "application/vnd.google.colaboratory.intrinsic+json": {
              "type": "string"
            },
            "text/plain": [
              "'battery life'"
            ]
          },
          "metadata": {},
          "execution_count": 9
        }
      ]
    },
    {
      "cell_type": "markdown",
      "metadata": {
        "id": "eQmDnZhr0pxW"
      },
      "source": [
        "# TASK 5\n",
        "In this example we have a list of words and we want to create a new list with only the last character from each word. Convert the for loop that does this below into a list comprehension.\n",
        "---"
      ]
    },
    {
      "cell_type": "code",
      "metadata": {
        "id": "3AsrqN8a0pxX",
        "outputId": "c012a0cb-0585-4d45-9e6e-2dc0e0b5f3a7",
        "colab": {
          "base_uri": "https://localhost:8080/"
        }
      },
      "source": [
        "var = [\"Hello\", \"Washburn\", \"big\", \"banana\", \"saw\", \"dad\"]\n",
        "new = [word[-1] for word in var]\n",
        "new\n",
        "\n",
        "#TODO\n"
      ],
      "execution_count": 12,
      "outputs": [
        {
          "output_type": "execute_result",
          "data": {
            "text/plain": [
              "['o', 'n', 'g', 'a', 'w', 'd']"
            ]
          },
          "metadata": {},
          "execution_count": 12
        }
      ]
    },
    {
      "cell_type": "markdown",
      "metadata": {
        "id": "gJ2wTPzE0pxX"
      },
      "source": [
        "# TASK 6\n",
        "In this example, we have a for loop that iterates over a list of numbers and squares them. For each number in the list, a tuple is created with the original number and its squared value which is then appended to a new list resulting in a list of tuples. Convert the for loop implementation into a list comprehension.\n",
        "----\n",
        "\n",
        "### Example Output:\n",
        "[(5, 25), (11, 121), (8, 64)]"
      ]
    },
    {
      "cell_type": "code",
      "metadata": {
        "id": "uKkE52hk0pxY",
        "outputId": "541a4f60-7229-43bf-ab63-a94501656759",
        "colab": {
          "base_uri": "https://localhost:8080/"
        }
      },
      "source": [
        "var = [.554, 32.5, 88.88, 43.5, 32, 54, 62, 100]\n",
        "new = []\n",
        "for value in var:\n",
        "    tup = (value, value ** 2)\n",
        "    new.append(tup)\n",
        "\n",
        "#TODO\n",
        "new = [(value,value**2) for value in var]\n",
        "new"
      ],
      "execution_count": 15,
      "outputs": [
        {
          "output_type": "execute_result",
          "data": {
            "text/plain": [
              "[(0.554, 0.3069160000000001),\n",
              " (32.5, 1056.25),\n",
              " (88.88, 7899.654399999999),\n",
              " (43.5, 1892.25),\n",
              " (32, 1024),\n",
              " (54, 2916),\n",
              " (62, 3844),\n",
              " (100, 10000)]"
            ]
          },
          "metadata": {},
          "execution_count": 15
        }
      ]
    },
    {
      "cell_type": "markdown",
      "metadata": {
        "id": "Z7CY3KkU0pxY"
      },
      "source": [
        "# TASK 7\n",
        "Write a list comprehension to create a list of cubed values (to the power of 3) from 1 to 15.\n",
        "---"
      ]
    },
    {
      "cell_type": "code",
      "metadata": {
        "id": "A3TPdnBu0pxZ",
        "outputId": "b999b67c-c745-421c-afe3-71b8a7245d72",
        "colab": {
          "base_uri": "https://localhost:8080/"
        }
      },
      "source": [
        "#TODO\n",
        "nums = [i**3 for i in range(1,16)]\n",
        "nums"
      ],
      "execution_count": 16,
      "outputs": [
        {
          "output_type": "execute_result",
          "data": {
            "text/plain": [
              "[1, 8, 27, 64, 125, 216, 343, 512, 729, 1000, 1331, 1728, 2197, 2744, 3375]"
            ]
          },
          "metadata": {},
          "execution_count": 16
        }
      ]
    },
    {
      "cell_type": "markdown",
      "metadata": {
        "id": "OePLcJ_c0pxZ"
      },
      "source": [
        "# TASK 8\n",
        "Write a list comprehension to create the numbers 0 to 100 and assign it to the variable `hundred`. Then write a for loop or list comprehension to create a new list with only the even numbers from the `hundred` list.\n",
        "---\n",
        "\n",
        "### Example output\n",
        "`[0, 2, 4, 6, 8, 10, 12, ... 100]`"
      ]
    },
    {
      "cell_type": "code",
      "metadata": {
        "id": "FiZfuSQd0pxa",
        "outputId": "11d6ead3-62f2-42aa-9d1d-de30fefd073b",
        "colab": {
          "base_uri": "https://localhost:8080/"
        }
      },
      "source": [
        "#TODO\n",
        "hundred = [i for i in range(1,101)]\n",
        "even = [i for i in hundred if i%2 == 0]\n",
        "even"
      ],
      "execution_count": 17,
      "outputs": [
        {
          "output_type": "execute_result",
          "data": {
            "text/plain": [
              "[2,\n",
              " 4,\n",
              " 6,\n",
              " 8,\n",
              " 10,\n",
              " 12,\n",
              " 14,\n",
              " 16,\n",
              " 18,\n",
              " 20,\n",
              " 22,\n",
              " 24,\n",
              " 26,\n",
              " 28,\n",
              " 30,\n",
              " 32,\n",
              " 34,\n",
              " 36,\n",
              " 38,\n",
              " 40,\n",
              " 42,\n",
              " 44,\n",
              " 46,\n",
              " 48,\n",
              " 50,\n",
              " 52,\n",
              " 54,\n",
              " 56,\n",
              " 58,\n",
              " 60,\n",
              " 62,\n",
              " 64,\n",
              " 66,\n",
              " 68,\n",
              " 70,\n",
              " 72,\n",
              " 74,\n",
              " 76,\n",
              " 78,\n",
              " 80,\n",
              " 82,\n",
              " 84,\n",
              " 86,\n",
              " 88,\n",
              " 90,\n",
              " 92,\n",
              " 94,\n",
              " 96,\n",
              " 98,\n",
              " 100]"
            ]
          },
          "metadata": {},
          "execution_count": 17
        }
      ]
    },
    {
      "cell_type": "markdown",
      "metadata": {
        "id": "RUHlHm-t0pxb"
      },
      "source": [
        "# TASK 9\n",
        "Calculate and return the median value of the list *(May need to use floor division -> `//`)*\n",
        "--\n",
        "\n",
        "### Example output:\n",
        "`[43, 54, 22, 12, 78] -> meadian = 43` \n",
        "\n",
        "**The median is the middle index of a sorted list of numbers**"
      ]
    },
    {
      "cell_type": "code",
      "metadata": {
        "id": "hWyzqkg80pxb",
        "outputId": "210b4094-9bdd-49b1-da1b-1444f7a25bf2",
        "colab": {
          "base_uri": "https://localhost:8080/"
        }
      },
      "source": [
        "#TODO:\n",
        "var = [4, 5, 2, 4, 6]\n",
        "var.sort()\n",
        "median = len(var) // 2 \n",
        "median"
      ],
      "execution_count": 19,
      "outputs": [
        {
          "output_type": "execute_result",
          "data": {
            "text/plain": [
              "2"
            ]
          },
          "metadata": {},
          "execution_count": 19
        }
      ]
    },
    {
      "cell_type": "markdown",
      "metadata": {
        "id": "OSDr2ZXb0pxc"
      },
      "source": [
        "# TASK 10\n",
        "write a for loop that removes and returns the values in the last index of the list. Print the values as they're returned.\n",
        "\n",
        "**Sample output:**\n",
        "[1,2,3]\n",
        "> value = 3, [1,2]\n",
        "\n",
        "> value = 2, [1]\n",
        "\n",
        "> value = 1, []\n"
      ]
    },
    {
      "cell_type": "code",
      "metadata": {
        "id": "l-l_SUOb0pxc",
        "outputId": "03a1ba1a-db64-40ec-f618-3d6a33774e02",
        "colab": {
          "base_uri": "https://localhost:8080/"
        }
      },
      "source": [
        "var = [\"last\", True, 5+5, False, [1,2,3], \"first\"]\n",
        "#TODO:\n",
        "for i in range(len(var)):\n",
        "  print(var.pop())"
      ],
      "execution_count": 20,
      "outputs": [
        {
          "output_type": "stream",
          "name": "stdout",
          "text": [
            "first\n",
            "[1, 2, 3]\n",
            "False\n",
            "10\n",
            "True\n",
            "last\n"
          ]
        }
      ]
    },
    {
      "cell_type": "markdown",
      "metadata": {
        "id": "0_AkTxpq0pxc"
      },
      "source": [
        "# TASK 11\n",
        "\n",
        "Below is a list of numbers, some of which are repeated. Use a list comprehension or for loop to count how many times each number appears and create a tuple with the original number and its count. Append the tuple to a new list to create a list of tuples.\n",
        "---\n",
        "\n",
        "### Example output:\n",
        "`[1,2,2,2,3,4,4,4,5,5,6,6,7,7,7,8,8,8,8,8] -> [(1, 1), (2, 3), (4, 3), (5, 2), (6, 2), (7, 3), (8, 5)]`\n",
        "\n",
        "\n",
        "***DO NOT USE THE COUNTER METHOD FROM COLLECTIONS***\n"
      ]
    },
    {
      "cell_type": "code",
      "metadata": {
        "id": "Nofm_qXE0pxd",
        "outputId": "85d1e8d5-2e52-4af6-b269-0bd8092538d2",
        "colab": {
          "base_uri": "https://localhost:8080/"
        }
      },
      "source": [
        "values = [10, 10, 2, 43, 43, 90, 2, 2, 10, 5, 68, 86, 86, 86, 86, 100, 0.5, .5, .5, 10, 19, 20, 20, 20, 20, 20, 20, 20, 20]\n",
        "values.sort()\n",
        "unique = list(set(values))\n",
        "unique.sort()\n",
        "thing = []\n",
        "for i in unique:\n",
        "  original_values = i\n",
        "  freq = values.count(i)\n",
        "  thing.append((original_values,freq))\n",
        "thing\n",
        "\n"
      ],
      "execution_count": 38,
      "outputs": [
        {
          "output_type": "execute_result",
          "data": {
            "text/plain": [
              "[(0.5, 3),\n",
              " (2, 3),\n",
              " (5, 1),\n",
              " (10, 4),\n",
              " (19, 1),\n",
              " (20, 8),\n",
              " (43, 2),\n",
              " (68, 1),\n",
              " (86, 4),\n",
              " (90, 1),\n",
              " (100, 1)]"
            ]
          },
          "metadata": {},
          "execution_count": 38
        }
      ]
    },
    {
      "cell_type": "code",
      "metadata": {
        "id": "lGgpf85m6b9I"
      },
      "source": [
        ""
      ],
      "execution_count": null,
      "outputs": []
    }
  ]
}