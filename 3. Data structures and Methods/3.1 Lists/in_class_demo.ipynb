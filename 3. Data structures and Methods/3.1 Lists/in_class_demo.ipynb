{
  "nbformat": 4,
  "nbformat_minor": 0,
  "metadata": {
    "interpreter": {
      "hash": "fd61235da8d855c081cbd5d7c6398e4c179a40a950675235256f7f30499f1124"
    },
    "kernelspec": {
      "display_name": "Python 3.7.4 64-bit ('base': conda)",
      "name": "python3"
    },
    "language_info": {
      "codemirror_mode": {
        "name": "ipython",
        "version": 3
      },
      "file_extension": ".py",
      "mimetype": "text/x-python",
      "name": "python",
      "nbconvert_exporter": "python",
      "pygments_lexer": "ipython3",
      "version": "3.7.4"
    },
    "orig_nbformat": 4,
    "colab": {
      "name": "in_class_demo.ipynb",
      "provenance": []
    }
  },
  "cells": [
    {
      "cell_type": "markdown",
      "metadata": {
        "id": "hC0TdAIjkuJZ"
      },
      "source": [
        "# What Are Methods?\n",
        "In python Data structures like `lists`, `tuples`, `strings` and basically any other data type that isn't a literal value, are objects. Objects will be explained more thoroughly in ***Module 6*** but for now you can think of them as a collection of properties and functions.\n",
        "--\n",
        "\n",
        "<br>\n",
        "\n",
        "**For Example:** If we think of a car as an object, it has properties like `color`, `weight`, `make`, and `price` along with functionality such as `start()`, `stop()`, `drive()`, `brake()`, and so on.\n",
        "--\n",
        "<br>\n",
        "\n",
        "**Methods are functionality that is associated with objects**\n",
        "--\n",
        "\n",
        "\n",
        "------------------------"
      ]
    },
    {
      "cell_type": "markdown",
      "metadata": {
        "id": "c3IXETdokuJb"
      },
      "source": [
        "# Slicing, Negative Indexing, and Comprehensions\n",
        "Although slicing, indexing, and comprehensions aren't methods, the functionality they provide is important enough for them to be talked about here.\n",
        "--\n",
        "\n",
        "<br>\n",
        "\n",
        "## **Negative Indexing**\n",
        "In python, we index values in a sequence from left to right, starting at 0. However, you can also index items in a sequence from right to left, starting at -1.\n",
        "\n",
        "<div style = \"text-align:center\">\n",
        "    <img src = \"images/indexing.png\" style = \"\">\n",
        "</div>\n"
      ]
    },
    {
      "cell_type": "code",
      "metadata": {
        "id": "EaKiF0N6kuJc",
        "outputId": "33608fe0-4bc9-4f52-e601-77ce6a7d6bb4",
        "colab": {
          "base_uri": "https://localhost:8080/"
        }
      },
      "source": [
        "#TODO: Return elements in the list using negative indexing\n",
        "thing = [5,4,3,2,1]\n",
        "thing[-2], thing[-1], thing[-5]"
      ],
      "execution_count": 2,
      "outputs": [
        {
          "output_type": "execute_result",
          "data": {
            "text/plain": [
              "(2, 1, 5)"
            ]
          },
          "metadata": {},
          "execution_count": 2
        }
      ]
    },
    {
      "cell_type": "code",
      "metadata": {
        "id": "SlUsz--YkuJd",
        "outputId": "603a7a35-7c7a-4f1a-8131-005633034aa0",
        "colab": {
          "base_uri": "https://localhost:8080/"
        }
      },
      "source": [
        "#TODO: Return characters in the string using negative indexing\n",
        "string = \"Washburn\"\n",
        "string[0],string[-3]\n"
      ],
      "execution_count": 4,
      "outputs": [
        {
          "output_type": "execute_result",
          "data": {
            "text/plain": [
              "('W', 'u')"
            ]
          },
          "metadata": {},
          "execution_count": 4
        }
      ]
    },
    {
      "cell_type": "markdown",
      "metadata": {
        "id": "zz9-1HZPkuJd"
      },
      "source": [
        "# Slicing\n",
        "To access a range of items in a list, you need to slice a list. One way to do this is to use the simple slicing operator `:`.\n",
        "With this operator you can specify where to start the slicing, where to end and specify the step.\n",
        "--\n",
        "\n",
        "<div style = \"text-align:center\">\n",
        "    <img src = \"images/slice.png\" style = \"\">\n",
        "</div>\n"
      ]
    },
    {
      "cell_type": "code",
      "metadata": {
        "id": "K47tS7TUkuJe",
        "outputId": "6ecb7f62-4425-40c0-bd29-59b0109dea7c",
        "colab": {
          "base_uri": "https://localhost:8080/"
        }
      },
      "source": [
        "L = ['a', 'b', 'c', 'd', 'e', 'f', 'g', 'h', 'i']\n",
        "L[0:3], L[0:-1], L[0:3:2],L[::-1]"
      ],
      "execution_count": 9,
      "outputs": [
        {
          "output_type": "execute_result",
          "data": {
            "text/plain": [
              "(['a', 'b', 'c'],\n",
              " ['a', 'b', 'c', 'd', 'e', 'f', 'g', 'h'],\n",
              " ['a', 'c'],\n",
              " ['i', 'h', 'g', 'f', 'e', 'd', 'c', 'b', 'a'])"
            ]
          },
          "metadata": {},
          "execution_count": 9
        }
      ]
    },
    {
      "cell_type": "markdown",
      "metadata": {
        "id": "pWm1Kc8CkuJe"
      },
      "source": [
        "<div style = \"text-align:center\">\n",
        "    <img src = \"images/slice2.png\" style = \"\">\n",
        "</div>"
      ]
    },
    {
      "cell_type": "code",
      "metadata": {
        "id": "x9ACFpRXkuJe",
        "outputId": "7df5eeb0-03fd-4f63-d585-5b210cfccebc",
        "colab": {
          "base_uri": "https://localhost:8080/"
        }
      },
      "source": [
        "#TODO: Slice the list to return the values 3 to 9\n",
        "var = [1,2,3,4,5,6,7,8,9,10,11,12,13,14,15]\n",
        "var[2:9]"
      ],
      "execution_count": 15,
      "outputs": [
        {
          "output_type": "execute_result",
          "data": {
            "text/plain": [
              "[3, 4, 5, 6, 7, 8, 9]"
            ]
          },
          "metadata": {},
          "execution_count": 15
        }
      ]
    },
    {
      "cell_type": "code",
      "metadata": {
        "id": "iNTp1O5gkuJf",
        "outputId": "91db72de-bec1-4de9-971b-1fd021a02a6f",
        "colab": {
          "base_uri": "https://localhost:8080/"
        }
      },
      "source": [
        "#TODO: Slice everything from the beginning up to the 5th index\n",
        "var = [10, True, 11, False, 12, True, 13, False]\n",
        "var[1::2]"
      ],
      "execution_count": 17,
      "outputs": [
        {
          "output_type": "execute_result",
          "data": {
            "text/plain": [
              "[True, False, True, False]"
            ]
          },
          "metadata": {},
          "execution_count": 17
        }
      ]
    },
    {
      "cell_type": "code",
      "metadata": {
        "id": "ou9AFWcRkuJf",
        "outputId": "c6beb861-d40e-4cc8-a3c3-61672b4b8ade",
        "colab": {
          "base_uri": "https://localhost:8080/",
          "height": 37
        }
      },
      "source": [
        "#TODO: Slice the string to return the substring 'burn'\n",
        "var = \"Washburn\"\n",
        "var[4:]"
      ],
      "execution_count": 18,
      "outputs": [
        {
          "output_type": "execute_result",
          "data": {
            "application/vnd.google.colaboratory.intrinsic+json": {
              "type": "string"
            },
            "text/plain": [
              "'burn'"
            ]
          },
          "metadata": {},
          "execution_count": 18
        }
      ]
    },
    {
      "cell_type": "markdown",
      "metadata": {
        "id": "_RqtcvFDkuJf"
      },
      "source": [
        "# List Comprehensions\n",
        "\n",
        "Suppose you want to create a list of all integer square numbers from 2 to 4. You could build that list creating a `for loop` with a range of 2-5 and append the square of each value to a list.\n",
        "--"
      ]
    },
    {
      "cell_type": "code",
      "metadata": {
        "id": "2lWbNDZ0kuJf",
        "outputId": "2256f8aa-7387-4a7a-f349-7403f186f383",
        "colab": {
          "base_uri": "https://localhost:8080/"
        }
      },
      "source": [
        "#TODO: write a for loop to add all squared values from 2 to 4 to a list\n",
        "squares = []\n",
        "for i in range(2,5):\n",
        "  squares.append(i*i)\n",
        "\n",
        "squares"
      ],
      "execution_count": 19,
      "outputs": [
        {
          "output_type": "execute_result",
          "data": {
            "text/plain": [
              "[4, 9, 16]"
            ]
          },
          "metadata": {},
          "execution_count": 19
        }
      ]
    },
    {
      "cell_type": "markdown",
      "metadata": {
        "id": "DH0E9EKTkuJg"
      },
      "source": [
        "However, this method uses more code than what is necessary for this task and we can simplify it using a list comprehension instead.\n",
        "--\n",
        "\n",
        "**List comprehensions are a way to build a new list by applying an expression to each item in an iterable.**\n",
        "--\n",
        "\n",
        "<div style = \"text-align:center\">\n",
        "    <img src = \"images/comprehension.png\" style = \"\">\n",
        "</div>"
      ]
    },
    {
      "cell_type": "code",
      "metadata": {
        "id": "pxtnefeQkuJg",
        "outputId": "232a0c74-fa1d-43a0-ecb0-7605a0d3df8f",
        "colab": {
          "base_uri": "https://localhost:8080/"
        }
      },
      "source": [
        "#TODO: Recreate the code from above using a list comprehension\n",
        "var = [i**2 for i in range(2,5)]\n",
        "var"
      ],
      "execution_count": 21,
      "outputs": [
        {
          "output_type": "execute_result",
          "data": {
            "text/plain": [
              "[4, 9, 16]"
            ]
          },
          "metadata": {},
          "execution_count": 21
        }
      ]
    },
    {
      "cell_type": "code",
      "metadata": {
        "id": "cJCS8KYckuJg",
        "outputId": "060378ec-4d07-46fb-ef96-6a51eae3aee4",
        "colab": {
          "base_uri": "https://localhost:8080/"
        }
      },
      "source": [
        "#TODO: Use a list comprehension to create a list of values from 1 to 100\n",
        "var = [i for i in range(1,101)]\n",
        "var"
      ],
      "execution_count": 23,
      "outputs": [
        {
          "output_type": "execute_result",
          "data": {
            "text/plain": [
              "[1,\n",
              " 2,\n",
              " 3,\n",
              " 4,\n",
              " 5,\n",
              " 6,\n",
              " 7,\n",
              " 8,\n",
              " 9,\n",
              " 10,\n",
              " 11,\n",
              " 12,\n",
              " 13,\n",
              " 14,\n",
              " 15,\n",
              " 16,\n",
              " 17,\n",
              " 18,\n",
              " 19,\n",
              " 20,\n",
              " 21,\n",
              " 22,\n",
              " 23,\n",
              " 24,\n",
              " 25,\n",
              " 26,\n",
              " 27,\n",
              " 28,\n",
              " 29,\n",
              " 30,\n",
              " 31,\n",
              " 32,\n",
              " 33,\n",
              " 34,\n",
              " 35,\n",
              " 36,\n",
              " 37,\n",
              " 38,\n",
              " 39,\n",
              " 40,\n",
              " 41,\n",
              " 42,\n",
              " 43,\n",
              " 44,\n",
              " 45,\n",
              " 46,\n",
              " 47,\n",
              " 48,\n",
              " 49,\n",
              " 50,\n",
              " 51,\n",
              " 52,\n",
              " 53,\n",
              " 54,\n",
              " 55,\n",
              " 56,\n",
              " 57,\n",
              " 58,\n",
              " 59,\n",
              " 60,\n",
              " 61,\n",
              " 62,\n",
              " 63,\n",
              " 64,\n",
              " 65,\n",
              " 66,\n",
              " 67,\n",
              " 68,\n",
              " 69,\n",
              " 70,\n",
              " 71,\n",
              " 72,\n",
              " 73,\n",
              " 74,\n",
              " 75,\n",
              " 76,\n",
              " 77,\n",
              " 78,\n",
              " 79,\n",
              " 80,\n",
              " 81,\n",
              " 82,\n",
              " 83,\n",
              " 84,\n",
              " 85,\n",
              " 86,\n",
              " 87,\n",
              " 88,\n",
              " 89,\n",
              " 90,\n",
              " 91,\n",
              " 92,\n",
              " 93,\n",
              " 94,\n",
              " 95,\n",
              " 96,\n",
              " 97,\n",
              " 98,\n",
              " 99,\n",
              " 100]"
            ]
          },
          "metadata": {},
          "execution_count": 23
        }
      ]
    },
    {
      "cell_type": "code",
      "metadata": {
        "id": "RiXNfLSnkuJh",
        "outputId": "3e782781-1f79-428b-eeda-fbfb22ff2b91",
        "colab": {
          "base_uri": "https://localhost:8080/"
        }
      },
      "source": [
        "names = [\"Gabe\", \"Flomo\", \"Nathan\", \"Aaron\", \"Nene\"]\n",
        "#TODO: Use a list comprehension to get the first and last characters of the name\n",
        "var = [i[0]+i[-1] for i in names]\n",
        "var\n"
      ],
      "execution_count": 24,
      "outputs": [
        {
          "output_type": "execute_result",
          "data": {
            "text/plain": [
              "['Ge', 'Fo', 'Nn', 'An', 'Ne']"
            ]
          },
          "metadata": {},
          "execution_count": 24
        }
      ]
    },
    {
      "cell_type": "markdown",
      "metadata": {
        "id": "tYFQo6Y4kuJh"
      },
      "source": [
        "-----\n",
        "# List Methods\n",
        "Ever since the Variables and data types chapter, you have already been exposed to the `.append()` method, which is probably the most common list methodsed. In this section of the chapter we will go over 5 new methods that will be useful for future tasks.\n",
        "\n",
        "* `.sort()`\n",
        "* `.copy()`\n",
        "* `.pop()`\n",
        "* `.extend()`\n",
        "* `.index()`"
      ]
    },
    {
      "cell_type": "markdown",
      "metadata": {
        "id": "EoBZWe6skuJh"
      },
      "source": [
        "# List Method: `.sort()`\n",
        "used to sort the elements in the list.\n",
        "--"
      ]
    },
    {
      "cell_type": "code",
      "metadata": {
        "id": "_NCndgSdkuJi",
        "outputId": "9aeb9c30-1dab-44e0-de89-da3c39aec0ac",
        "colab": {
          "base_uri": "https://localhost:8080/"
        }
      },
      "source": [
        "#TODO: Sort a list of numbers\n",
        "var = [23, 0, 34, 211, 64, 775, 3, 7, 33445623, 76, .66542, -.00601]\n",
        "var.sort()\n",
        "var"
      ],
      "execution_count": 26,
      "outputs": [
        {
          "output_type": "execute_result",
          "data": {
            "text/plain": [
              "[-0.00601, 0, 0.66542, 3, 7, 23, 34, 64, 76, 211, 775, 33445623]"
            ]
          },
          "metadata": {},
          "execution_count": 26
        }
      ]
    },
    {
      "cell_type": "code",
      "metadata": {
        "id": "r2fBNd9kkuJi",
        "outputId": "edd15672-b4ca-4544-e4af-1b2b4d6b3c60",
        "colab": {
          "base_uri": "https://localhost:8080/"
        }
      },
      "source": [
        "#TODO: Sort a list of strings\n",
        "var = [\"B\", \"C\", \"Z\", \"A\", \"Apple\", \"Banana\"]\n",
        "var.sort()\n",
        "var"
      ],
      "execution_count": 29,
      "outputs": [
        {
          "output_type": "execute_result",
          "data": {
            "text/plain": [
              "['A', 'Apple', 'B', 'Banana', 'C', 'Z']"
            ]
          },
          "metadata": {},
          "execution_count": 29
        }
      ]
    },
    {
      "cell_type": "code",
      "metadata": {
        "id": "13caneXKkuJi",
        "outputId": "d36b71b7-3f1d-4f2c-c4d3-7408e329a351",
        "colab": {
          "base_uri": "https://localhost:8080/"
        }
      },
      "source": [
        "#TODO: Sort a list of lists\n",
        "var = [[3,2,3], [0,2,1], [0, .5, 3]]\n",
        "var.sort()\n",
        "var"
      ],
      "execution_count": 31,
      "outputs": [
        {
          "output_type": "execute_result",
          "data": {
            "text/plain": [
              "[[0, 0.5, 3], [0, 2, 1], [3, 2, 3]]"
            ]
          },
          "metadata": {},
          "execution_count": 31
        }
      ]
    },
    {
      "cell_type": "markdown",
      "metadata": {
        "id": "TPCoXuHUkuJi"
      },
      "source": [
        "# List Method: `.copy()`\n",
        "Returns a copy of the list.\n",
        "--"
      ]
    },
    {
      "cell_type": "code",
      "metadata": {
        "id": "QlVrvpcSkuJj",
        "outputId": "7eac73ab-afe2-4530-9aa6-13edb24d2714",
        "colab": {
          "base_uri": "https://localhost:8080/"
        }
      },
      "source": [
        "#TODO: create a copy of the list\n",
        "var = [1,2,3,4,5]\n",
        "var2 = var.copy()\n",
        "var2[0] = 5000\n",
        "var, var2, id(var), id(var2)"
      ],
      "execution_count": 36,
      "outputs": [
        {
          "output_type": "execute_result",
          "data": {
            "text/plain": [
              "([1, 2, 3, 4, 5], [5000, 2, 3, 4, 5], 140458586312944, 140458586598448)"
            ]
          },
          "metadata": {},
          "execution_count": 36
        }
      ]
    },
    {
      "cell_type": "markdown",
      "metadata": {
        "id": "ieEkaneqkuJj"
      },
      "source": [
        "In order to create a copy of a list, you need to use the copy method. Assigning an existing list to a new variable doesn't create a new list, it creates a new reference to a list that already exists, meaning that altering one will alter the other.\n",
        "---"
      ]
    },
    {
      "cell_type": "code",
      "metadata": {
        "id": "JIj9euLQkuJj",
        "outputId": "32036c37-61aa-4871-ba4f-6a5578f4a5e8",
        "colab": {
          "base_uri": "https://localhost:8080/"
        }
      },
      "source": [
        "#TODO: show that assigning an existing list to a new variable does't actually copy the list\n",
        "var = [1,2,3,4,5]\n",
        "var2 = var[:]\n",
        "id(var), id(var2)"
      ],
      "execution_count": 37,
      "outputs": [
        {
          "output_type": "execute_result",
          "data": {
            "text/plain": [
              "(140458586472688, 140458586478224)"
            ]
          },
          "metadata": {},
          "execution_count": 37
        }
      ]
    },
    {
      "cell_type": "code",
      "metadata": {
        "id": "prAKzQ6EkuJj",
        "outputId": "ee846b8e-e55a-4353-9fb6-81988588d73f",
        "colab": {
          "base_uri": "https://localhost:8080/"
        }
      },
      "source": [
        "#TODO: copy a list using slicing [:]\n",
        "var = [\"I\", \"am\", \"a\", \"person\"]\n",
        "var2 = var[:]\n",
        "id(var), id(var2)"
      ],
      "execution_count": 38,
      "outputs": [
        {
          "output_type": "execute_result",
          "data": {
            "text/plain": [
              "(140458586598208, 140458586419840)"
            ]
          },
          "metadata": {},
          "execution_count": 38
        }
      ]
    },
    {
      "cell_type": "markdown",
      "metadata": {
        "id": "pfHv7ExdkuJk"
      },
      "source": [
        "# List Method: `.pop()`\n",
        "The pop() method removes a single list element at specified index and returns it. If no index is specified, pop() method removes and returns the last item in the list.\n",
        "--"
      ]
    },
    {
      "cell_type": "code",
      "metadata": {
        "id": "p5iVq6TIkuJk",
        "outputId": "c4b301a2-9063-4fba-97f3-a4baec5ea06e",
        "colab": {
          "base_uri": "https://localhost:8080/",
          "height": 37
        }
      },
      "source": [
        "#TODO: showcase the pop method\n",
        "var = [.32, 1.89, 'flamingo']\n",
        "var.pop()"
      ],
      "execution_count": 55,
      "outputs": [
        {
          "output_type": "execute_result",
          "data": {
            "application/vnd.google.colaboratory.intrinsic+json": {
              "type": "string"
            },
            "text/plain": [
              "'flamingo'"
            ]
          },
          "metadata": {},
          "execution_count": 55
        }
      ]
    },
    {
      "cell_type": "code",
      "metadata": {
        "id": "wURLJXrBkuJl",
        "outputId": "e9ba94d5-59a5-4d5d-91f5-e0bf88e6fc58",
        "colab": {
          "base_uri": "https://localhost:8080/"
        }
      },
      "source": [
        "#TODO: pop the first element of the list and print the value and the length before and after popping\n",
        "var = [12, 9, .432]\n",
        "print(var)\n",
        "var.pop(0)\n",
        "var"
      ],
      "execution_count": 56,
      "outputs": [
        {
          "output_type": "stream",
          "name": "stdout",
          "text": [
            "[12, 9, 0.432]\n"
          ]
        },
        {
          "output_type": "execute_result",
          "data": {
            "text/plain": [
              "[9, 0.432]"
            ]
          },
          "metadata": {},
          "execution_count": 56
        }
      ]
    },
    {
      "cell_type": "markdown",
      "metadata": {
        "id": "YfuXRyNFkuJl"
      },
      "source": [
        "# List Method: `.extend()`\n",
        "The extend() method extends the list by appending all the items from the iterable to the end of the list. This method does not return anything; it modifies the list in place.\n",
        "--"
      ]
    },
    {
      "cell_type": "code",
      "metadata": {
        "id": "POtuSjZ3kuJl",
        "outputId": "a87f4fb3-a1e9-4769-ac9f-15d17b53dcd6",
        "colab": {
          "base_uri": "https://localhost:8080/"
        }
      },
      "source": [
        "#TODO: Show what happens when you append an iterable to a list\n",
        "var = [5,6,7,8,9,10]\n",
        "var2 = [1,2,3,4]\n",
        "var.append(var2)\n",
        "var"
      ],
      "execution_count": 58,
      "outputs": [
        {
          "output_type": "execute_result",
          "data": {
            "text/plain": [
              "[5, 6, 7, 8, 9, 10, [1, 2, 3, 4]]"
            ]
          },
          "metadata": {},
          "execution_count": 58
        }
      ]
    },
    {
      "cell_type": "code",
      "metadata": {
        "id": "k9inlwwekuJl",
        "outputId": "225e9066-b14b-4b19-9a2c-5707e8cebfc9",
        "colab": {
          "base_uri": "https://localhost:8080/"
        }
      },
      "source": [
        "#TODO: Show what happens when you extend a list with another iterable\n",
        "var = [5, 6, 7, 8, 9, 10]\n",
        "var2 = [1,2,3,4,5]\n",
        "var.extend(var2)\n",
        "var"
      ],
      "execution_count": 60,
      "outputs": [
        {
          "output_type": "execute_result",
          "data": {
            "text/plain": [
              "[5, 6, 7, 8, 9, 10, 1, 2, 3, 4, 5]"
            ]
          },
          "metadata": {},
          "execution_count": 60
        }
      ]
    },
    {
      "cell_type": "markdown",
      "metadata": {
        "id": "UQCl7ku7kuJm"
      },
      "source": [
        "# List method: `.index()`\n",
        "The index() method searches for the first occurrence of the given item and returns its index. If specified item is not found, it raises ‘ValueError’ exception.\n",
        "--"
      ]
    },
    {
      "cell_type": "code",
      "metadata": {
        "id": "tZ9Qd1uwkuJm",
        "outputId": "49c0bc0b-0082-4c34-ff16-ea2b3c35de15",
        "colab": {
          "base_uri": "https://localhost:8080/"
        }
      },
      "source": [
        "#TODO: What is the index of `green`\n",
        "colors = ['red', 'green', 'blue', 'yellow', 'red']\n",
        "colors.index(\"green\")"
      ],
      "execution_count": 64,
      "outputs": [
        {
          "output_type": "execute_result",
          "data": {
            "text/plain": [
              "1"
            ]
          },
          "metadata": {},
          "execution_count": 64
        }
      ]
    },
    {
      "cell_type": "code",
      "metadata": {
        "id": "BXquBj-MzEGJ",
        "outputId": "785c2bb0-b58b-4fd4-b58a-54e7a1290d7f",
        "colab": {
          "base_uri": "https://localhost:8080/"
        }
      },
      "source": [
        "# This is the count method in action\n",
        "colors.count(\"red\")"
      ],
      "execution_count": 65,
      "outputs": [
        {
          "output_type": "execute_result",
          "data": {
            "text/plain": [
              "2"
            ]
          },
          "metadata": {},
          "execution_count": 65
        }
      ]
    },
    {
      "cell_type": "markdown",
      "metadata": {
        "id": "d7j-XNwjkuJm"
      },
      "source": [
        "-----\n",
        "# Creating Lists with unique values only\n",
        "Say we have a list of names of students in a school and we don't actually care about how many student there, we only care about what the unique names are. For example, consider the following list.\n",
        "---\n",
        "\n",
        "```python \n",
        "[\n",
        "    'Gabe',\n",
        "    'Alex',\n",
        "    'Matt',\n",
        "    'Alex',\n",
        "    'Naomi',\n",
        "    'Alex'\n",
        "]\n",
        "```\n",
        "\n",
        "There are 6 students total, but I only care about how many unique names are present in the list. The unique names in this list are `[\"Gabe\", \"Alex\", \"Matt\", \"Naomi\"]` which reduces our list from 6 to 4. One way to achieve this result in python is to cast our list to the `set` data type then back into a `list`.\n",
        "--\n",
        "\n",
        "## [sets](https://www.learnbyexample.org/python-set/)\n",
        "Sets are not going to be formally covered in this course, however, they do have some functionality that will be useful for future projects so we will briefly cover them here. A set is similar to a list or tuple with the only difference being that it does not allow you to have duplicate elements. To create a set from a list, use the `set()` constructor.\n",
        "--\n",
        "\n",
        "```python \n",
        "var = [1,2,3,3,3,4,5,5,5]\n",
        "converted = set(var) -> {1,2,3,4,5}\n",
        "```\n",
        "\n",
        "Since we aren't interested in using the `set` as it is, we can convert it back to a list by calling the list constructor around the set.\n",
        "--\n",
        "\n",
        "```python\n",
        "var = [1,2,3,3,3,4,5,5,5]\n",
        "converted = list(set(var)) -> [1,2,3,4,5]\n",
        "```\n",
        "\n",
        "Now we have a list with only the unique values from our original list.\n",
        "--\n",
        "\n"
      ]
    },
    {
      "cell_type": "code",
      "metadata": {
        "id": "FXZ3cK3rkuJn",
        "outputId": "a5b0b174-61fc-49ce-b9e5-e5eb7746d126",
        "colab": {
          "base_uri": "https://localhost:8080/"
        }
      },
      "source": [
        "#TODO convert the list into a list with only the unique elements\n",
        "var = [5, 6, 5, 5, 6, 4, 7,6, 6, 7, 8, 4, 5, 5, 4]\n",
        "list(set(var))"
      ],
      "execution_count": 62,
      "outputs": [
        {
          "output_type": "execute_result",
          "data": {
            "text/plain": [
              "[4, 5, 6, 7, 8]"
            ]
          },
          "metadata": {},
          "execution_count": 62
        }
      ]
    },
    {
      "cell_type": "markdown",
      "metadata": {
        "id": "7RUpluZJkuJn"
      },
      "source": [
        "One use case for doing this is to create a count of all the unique elements in a list. By creating a list with only the unique elements from the original list, we can loop over the elements in the set and count how many times that element appears in our original list.\n",
        "--"
      ]
    },
    {
      "cell_type": "code",
      "metadata": {
        "id": "e463IHFOkuJn",
        "outputId": "2805bcfc-e101-4e29-8b71-929d104d9670",
        "colab": {
          "base_uri": "https://localhost:8080/"
        }
      },
      "source": [
        "#TODO create a counter using a set\n",
        "var = [5, 6, 5, 5, 6, 4, 7, 6, 6, 7, 8, 4, 5, 5, 4]\n",
        "unique = list(set(var))\n",
        "for value in unique:\n",
        "  print(f\"The count of {value} in the list is {var.count(value)}\")\n"
      ],
      "execution_count": 66,
      "outputs": [
        {
          "output_type": "stream",
          "name": "stdout",
          "text": [
            "The count of 4 in the list is 3\n",
            "The count of 5 in the list is 5\n",
            "The count of 6 in the list is 4\n",
            "The count of 7 in the list is 2\n",
            "The count of 8 in the list is 1\n"
          ]
        }
      ]
    },
    {
      "cell_type": "code",
      "metadata": {
        "id": "c5chZEmO0NGf"
      },
      "source": [
        ""
      ],
      "execution_count": null,
      "outputs": []
    }
  ]
}