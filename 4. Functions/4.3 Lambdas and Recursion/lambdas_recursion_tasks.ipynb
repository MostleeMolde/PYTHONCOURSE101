{
  "cells": [
    {
      "cell_type": "markdown",
      "metadata": {
        "id": "y4s4UFN_eSXk"
      },
      "source": [
        "# TASK 1\n",
        "Write a function named `gen_num` to generate a list of 50 random numbers between the range of (0 - 500)"
      ]
    },
    {
      "cell_type": "code",
      "execution_count": 14,
      "metadata": {
        "id": "SsHnyHNgeSXo",
        "outputId": "c34ffe8a-c71f-4e97-cb5b-d4ff93a798f0",
        "colab": {
          "base_uri": "https://localhost:8080/"
        }
      },
      "outputs": [
        {
          "output_type": "execute_result",
          "data": {
            "text/plain": [
              "[96,\n",
              " 345,\n",
              " 457,\n",
              " 87,\n",
              " 161,\n",
              " 332,\n",
              " 341,\n",
              " 393,\n",
              " 240,\n",
              " 494,\n",
              " 357,\n",
              " 478,\n",
              " 340,\n",
              " 144,\n",
              " 338,\n",
              " 108,\n",
              " 98,\n",
              " 481,\n",
              " 197,\n",
              " 146,\n",
              " 303,\n",
              " 455,\n",
              " 51,\n",
              " 49,\n",
              " 480,\n",
              " 299,\n",
              " 36,\n",
              " 176,\n",
              " 102,\n",
              " 320,\n",
              " 117,\n",
              " 122,\n",
              " 48,\n",
              " 496,\n",
              " 27,\n",
              " 36,\n",
              " 322,\n",
              " 245,\n",
              " 289,\n",
              " 233,\n",
              " 240,\n",
              " 274,\n",
              " 307,\n",
              " 176,\n",
              " 78,\n",
              " 330,\n",
              " 84,\n",
              " 84,\n",
              " 110,\n",
              " 213]"
            ]
          },
          "metadata": {},
          "execution_count": 14
        }
      ],
      "source": [
        "#TODO code goes here\n",
        "from random import randint\n",
        "def gen_num():\n",
        "  numbers = []\n",
        "  for i in range(50):\n",
        "    x = randint(0,500)\n",
        "    numbers.append(x)\n",
        "  return numbers\n",
        "gen_num()\n",
        "    \n",
        "  \n"
      ]
    },
    {
      "cell_type": "markdown",
      "metadata": {
        "id": "FpIHgXHjeSXq"
      },
      "source": [
        "# TASK 2\n",
        "Write a function called `is_prime` that will return `True` if a number is prime and `False` if it's not. A prime number is any number that can only be divided by 1 and itself.\n",
        "\n",
        "### Prime number pseudocode\n",
        "* define a function with the argument `num`\n",
        "* check to see if the `num` is less than or equal to 1, if true return `False`\n",
        "* start a loop between the range of 2 and `num` with the current iteration being `i`\n",
        "* if `num` mod `i` is equal to 0, then the `num` is not prime and you can return `False`\n",
        "* if the loop has finished and no factor has been found, return `True`"
      ]
    },
    {
      "cell_type": "code",
      "execution_count": 13,
      "metadata": {
        "id": "rQpe696KeSXq",
        "outputId": "58a926f5-34b6-47a2-af9b-84723fb964fb",
        "colab": {
          "base_uri": "https://localhost:8080/"
        }
      },
      "outputs": [
        {
          "output_type": "execute_result",
          "data": {
            "text/plain": [
              "False"
            ]
          },
          "metadata": {},
          "execution_count": 13
        }
      ],
      "source": [
        "#TODO code goes here\n",
        "def is_prime(num):\n",
        "  if num <= 1:\n",
        "    return False\n",
        "  else:\n",
        "    for i in range(2,num):\n",
        "      if num % i == 0:\n",
        "        return False\n",
        "  return True\n",
        "is_prime(87) \n",
        "  "
      ]
    },
    {
      "cell_type": "markdown",
      "metadata": {
        "id": "aF4T6Wr8eSXr"
      },
      "source": [
        "# TASK 3\n",
        "Using the `gen_num` function, write some code to filter out all of the prime numbers "
      ]
    },
    {
      "cell_type": "code",
      "execution_count": 17,
      "metadata": {
        "id": "ZJVeyc8SeSXr",
        "outputId": "ca9aa1b6-b5f2-4da8-c80b-c9ac7ca3ea45",
        "colab": {
          "base_uri": "https://localhost:8080/"
        }
      },
      "outputs": [
        {
          "output_type": "execute_result",
          "data": {
            "text/plain": [
              "[92,\n",
              " 404,\n",
              " 493,\n",
              " 72,\n",
              " 32,\n",
              " 232,\n",
              " 228,\n",
              " 152,\n",
              " 323,\n",
              " 30,\n",
              " 234,\n",
              " 498,\n",
              " 261,\n",
              " 483,\n",
              " 312,\n",
              " 490,\n",
              " 276,\n",
              " 144,\n",
              " 236,\n",
              " 369,\n",
              " 460,\n",
              " 435,\n",
              " 306,\n",
              " 343,\n",
              " 140,\n",
              " 259,\n",
              " 4,\n",
              " 403,\n",
              " 255,\n",
              " 230,\n",
              " 371,\n",
              " 77,\n",
              " 245,\n",
              " 155,\n",
              " 198,\n",
              " 8]"
            ]
          },
          "metadata": {},
          "execution_count": 17
        }
      ],
      "source": [
        "#TODO code goes here\n",
        "\n",
        "callback = lambda element: not is_prime(element)\n",
        "list(filter(callback,gen_num()))"
      ]
    },
    {
      "cell_type": "markdown",
      "metadata": {
        "id": "MV0WbZFjeSXs"
      },
      "source": [
        "# TASK 4\n",
        "Given a list of usernames, uppercase all of the usernames that have a length that can be divided by 3"
      ]
    },
    {
      "cell_type": "code",
      "execution_count": 28,
      "metadata": {
        "id": "jWiSYfk_eSXs",
        "outputId": "89ccfdcc-cb06-47a1-a2ca-40e14cb64c6a",
        "colab": {
          "base_uri": "https://localhost:8080/"
        }
      },
      "outputs": [
        {
          "output_type": "execute_result",
          "data": {
            "text/plain": [
              "['sillyBilly',\n",
              " 'NUTRITION_FACTS',\n",
              " 'breeze_baby',\n",
              " 'SIR_LAMOF',\n",
              " 'rill0',\n",
              " 'PPP',\n",
              " 'FROSTYSIERRA']"
            ]
          },
          "metadata": {},
          "execution_count": 28
        }
      ],
      "source": [
        "names = ['sillyBilly', \"nutrition_facts\", \"breeze_baby\", \"sir_lamof\", \"rill0\", \"ppp\", \"frostySierra\"]\n",
        "callback = lambda element: element.upper() if len(element) % 3 == 0 else element\n",
        "list(map(callback,names))"
      ]
    },
    {
      "cell_type": "markdown",
      "metadata": {
        "id": "qR-Zh2WMeSXt"
      },
      "source": [
        "# TASK 5\n",
        "Given a list of lists, filter out all of the lists that have an average value greater than a number input by the user.\n",
        "\n",
        "## Example output\n",
        "```python\n",
        "data = [[5, 28, 14, 18, 23],\n",
        "        [10, 31, 7, 14, 21, 33, 33, 11, 46, 50, 8, 5, 41, 7],\n",
        "        [40, 44, 3, 33, 15, 21],\n",
        "        [3, 11, 3, 47, 12],\n",
        "        [38, 27, 23, 9, 46, 46, 50, 39, 43]]\n",
        "\n",
        "averages = [17.6, 22.6, 26.0, 15.2, 35.6]\n",
        "num = 25\n",
        "filter(averages) -> [17.6, 22.6, 15.2]\n",
        "```\n",
        "\n"
      ]
    },
    {
      "cell_type": "code",
      "execution_count": 40,
      "metadata": {
        "id": "vj5-NgF2eSXt",
        "outputId": "2c7679c4-2222-4c7b-f703-9598c2ce4a5a",
        "colab": {
          "base_uri": "https://localhost:8080/"
        }
      },
      "outputs": [
        {
          "name": "stdout",
          "output_type": "stream",
          "text": [
            "Number?90\n"
          ]
        },
        {
          "output_type": "execute_result",
          "data": {
            "text/plain": [
              "[19.357142857142858, 13.0, 19.636363636363637, 21.5, 25.066666666666666]"
            ]
          },
          "metadata": {},
          "execution_count": 40
        }
      ],
      "source": [
        "from random import randint\n",
        "def get_list():\n",
        "    data = []\n",
        "    for _ in range(randint(4, 8)):\n",
        "        var = [randint(0, 50) for _ in range(randint(1, 15))]\n",
        "        data.append(var)\n",
        "\n",
        "    return data\n",
        "x = int(input(\"Number?\"))\n",
        "callback = lambda element: sum(element) / len(element)\n",
        "avgs = list(map(callback,get_list()))\n",
        "callback2 = lambda element: x > element \n",
        "list(filter(callback2,avgs))\n"
      ]
    },
    {
      "cell_type": "markdown",
      "metadata": {
        "id": "FBGOtpNueSXu"
      },
      "source": [
        "# TASK \n",
        "In this task, you are given a fake file directory as a dictionary. Each key is a number and each value is either a file or folder which in this case is just another dictionary. Following the pseudocode below, implement a recursive function to count all of the files within the directory tree.\n",
        "\n",
        "## Pseudocode\n",
        "* define a function that takes 2 arguments\n",
        "    - `data`: This is a dictionary that contains files and possibly other folders\n",
        "    - `file_count`: This is a number to pass the current file count to each recursive call (default value should be 0)\n",
        "    \n",
        "<br>\n",
        "\n",
        "* Start looping through the `key:value` pairs in the dictionary\n",
        "    - check to see if the `current_value` is a file\n",
        "        - If the value is a file, add one to your `file_count`\n",
        "    - check to see if the `current_value` is a dictionary\n",
        "        - if it is a dictionary, set the `file_count` equal to the result of calling `count_files` where the `data` argument is equal to the `current_value` and `file_count` is equal to the current file count. ***This is the recursive call***\n",
        "        \n",
        "<br>\n",
        "\n",
        "* Once the loop has finished, return the `file_count`. ***This is our stop condition***"
      ]
    },
    {
      "cell_type": "code",
      "execution_count": 39,
      "metadata": {
        "id": "UUnZUJzgeSXu",
        "outputId": "ee5d4182-7586-4afc-897b-5e233fefcbd6",
        "colab": {
          "base_uri": "https://localhost:8080/"
        }
      },
      "outputs": [
        {
          "output_type": "stream",
          "name": "stdout",
          "text": [
            "Counting file from 1\n",
            "Counting file from 2\n",
            "Moving to new dict from 3\n",
            "Counting file from 1\n",
            "Counting file from 2\n",
            "Counting file from 3\n",
            "Counting file from 4\n",
            "Moving to new dict from 5\n",
            "Moving to new dict from 1\n",
            "Counting file from 1\n",
            "Counting file from 2\n",
            "Counting file from 3\n",
            "Counting file from 2\n",
            "Counting file from 3\n",
            "Moving to new dict from 4\n",
            "Counting file from 1\n",
            "Counting file from 2\n",
            "Counting file from 3\n",
            "Counting file from 4\n",
            "Counting file from 6\n",
            "Counting file from 7\n",
            "Counting file from 8\n",
            "Counting file from 9\n",
            "Moving to new dict from 10\n",
            "Counting file from 1\n",
            "Counting file from 2\n",
            "Counting file from 3\n",
            "Moving to new dict from 4\n",
            "Counting file from 1\n",
            "Counting file from 2\n",
            "Counting file from 3\n"
          ]
        },
        {
          "output_type": "execute_result",
          "data": {
            "text/plain": [
              "25"
            ]
          },
          "metadata": {},
          "execution_count": 39
        }
      ],
      "source": [
        "data = {\n",
        "    1: 'file',\n",
        "    2: 'file',\n",
        "    3: {\n",
        "        1:\"file\",\n",
        "        2:\"file\",\n",
        "        3:\"file\",\n",
        "        4:\"file\",\n",
        "        5:{\n",
        "            1:{\n",
        "                1:\"file\",\n",
        "                2:\"file\",\n",
        "                3:\"file\"\n",
        "            },\n",
        "            2:\"file\",\n",
        "            3:\"file\",\n",
        "            4:{\n",
        "                1:\"file\",\n",
        "                2:\"file\",\n",
        "                3:\"file\",\n",
        "                4:\"file\"\n",
        "            }\n",
        "        },\n",
        "        6:\"file\",\n",
        "        7:\"file\",\n",
        "        8:\"file\",\n",
        "        9:\"file\",\n",
        "        10:{\n",
        "            1:\"file\",\n",
        "            2:\"file\",\n",
        "            3:\"file\",\n",
        "            4:{1:\"file\", 2:\"file\", 3:\"file\"}\n",
        "        }\n",
        "    }\n",
        "    \n",
        "}\n",
        "\n",
        "#TODO     \n",
        "def dumb(data,file_count=0):\n",
        "  for i in data:\n",
        "    if  data[i] == \"file\":\n",
        "      print(f\"Counting file from {i}\")\n",
        "      file_count += 1\n",
        "    else:\n",
        "      print(f\"Moving to new dict from {i}\")\n",
        "      file_count =  dumb(data[i],file_count)\n",
        "  return file_count\n",
        "\n",
        "dumb(data)"
      ]
    },
    {
      "cell_type": "code",
      "source": [
        ""
      ],
      "metadata": {
        "id": "Cew9MNpSnY0P"
      },
      "execution_count": null,
      "outputs": []
    }
  ],
  "metadata": {
    "interpreter": {
      "hash": "f1a916808f2d29f1a5fbd48aa1cb9129993ca703ecce713879d0cd946e898e32"
    },
    "kernelspec": {
      "display_name": "Python 3.9.7 64-bit ('legacy': conda)",
      "language": "python",
      "name": "python3"
    },
    "language_info": {
      "codemirror_mode": {
        "name": "ipython",
        "version": 3
      },
      "file_extension": ".py",
      "mimetype": "text/x-python",
      "name": "python",
      "nbconvert_exporter": "python",
      "pygments_lexer": "ipython3",
      "version": "3.9.7"
    },
    "orig_nbformat": 4,
    "colab": {
      "name": "lambdas_recursion_tasks.ipynb",
      "provenance": []
    }
  },
  "nbformat": 4,
  "nbformat_minor": 0
}