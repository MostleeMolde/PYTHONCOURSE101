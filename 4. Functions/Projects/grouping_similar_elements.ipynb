{
  "cells": [
    {
      "cell_type": "markdown",
      "metadata": {
        "id": "V7kmvuv4arfr"
      },
      "source": [
        "# Instructions\n",
        "Write a function to group similar elements in a list together.\n",
        "\n",
        "## Example output\n",
        "```python\n",
        "var = [1,2,3,4,4,5,6,1,2,4,8,7,5]\n",
        "group_elements(var)\n",
        "\n",
        "#output\n",
        "[\n",
        "    [1,1],\n",
        "    [2,2],\n",
        "    [3],\n",
        "    [4,4,4],\n",
        "    [5,5],\n",
        "    [6],\n",
        "    [7],\n",
        "    [8]\n",
        "]\n",
        "```"
      ]
    },
    {
      "cell_type": "code",
      "execution_count": 18,
      "metadata": {
        "id": "G150AKDiarft",
        "outputId": "b1703dae-56b8-4308-d2d3-3ff5c3d3df4b",
        "colab": {
          "base_uri": "https://localhost:8080/"
        }
      },
      "outputs": [
        {
          "output_type": "stream",
          "name": "stdout",
          "text": [
            "[[1, 1], [2, 2], [3], [4, 4, 4], [5, 5], [6], [8], [7]]\n"
          ]
        }
      ],
      "source": [
        "def group_elements(x):\n",
        "  freq = {}\n",
        "  ele = []\n",
        "  for i in x:\n",
        "    if i not in freq:\n",
        "      freq.setdefault(i,1)\n",
        "    else:\n",
        "      freq[i] += 1\n",
        "  for i in freq:\n",
        "    lis = []\n",
        "    for y in range(freq[i]):\n",
        "      lis.append(i)\n",
        "    ele.append(lis)\n",
        "  print(ele)\n",
        "group_elements([1,2,3,4,4,5,6,1,2,4,8,7,5])\n",
        "\n",
        "\n",
        "    \n",
        "\n",
        "    \n"
      ]
    },
    {
      "cell_type": "code",
      "source": [
        ""
      ],
      "metadata": {
        "id": "yVh7zHEkp1mk"
      },
      "execution_count": null,
      "outputs": []
    }
  ],
  "metadata": {
    "language_info": {
      "name": "python"
    },
    "orig_nbformat": 4,
    "colab": {
      "name": "grouping_similar_elements.ipynb",
      "provenance": []
    },
    "kernelspec": {
      "name": "python3",
      "display_name": "Python 3"
    }
  },
  "nbformat": 4,
  "nbformat_minor": 0
}