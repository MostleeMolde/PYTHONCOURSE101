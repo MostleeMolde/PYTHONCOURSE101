{
  "cells": [
    {
      "cell_type": "markdown",
      "metadata": {
        "id": "V7kmvuv4arfr"
      },
      "source": [
        "# Instructions\n",
        "Write a function to group similar elements in a list together.\n",
        "\n",
        "## Example output\n",
        "```python\n",
        "var = [1,2,3,4,4,5,6,1,2,4,8,7,5]\n",
        "group_elements(var)\n",
        "\n",
        "#output\n",
        "[\n",
        "    [1,1],\n",
        "    [2,2],\n",
        "    [3],\n",
        "    [4,4,4],\n",
        "    [5,5],\n",
        "    [6],\n",
        "    [7],\n",
        "    [8]\n",
        "]\n",
        "```"
      ]
    },
    {
      "cell_type": "code",
      "execution_count": 10,
      "metadata": {
        "id": "G150AKDiarft",
        "outputId": "d7f29907-c681-4f7c-b845-59a87a7befe4",
        "colab": {
          "base_uri": "https://localhost:8080/"
        }
      },
      "outputs": [
        {
          "output_type": "stream",
          "name": "stdout",
          "text": [
            "{1: 2, 2: 2, 3: 1, 4: 3, 5: 2, 6: 1, 8: 1, 7: 1}\n"
          ]
        }
      ],
      "source": [
        "def group_elements(x):\n",
        "  freq = {}\n",
        "  for i in x:\n",
        "    if i not in freq:\n",
        "      freq.setdefault(i,1)\n",
        "    else:\n",
        "      freq[i] += 1\n",
        "  print(freq)\n",
        "group_elements([1,2,3,4,4,5,6,1,2,4,8,7,5])\n",
        "\n",
        "\n",
        "    \n",
        "\n",
        "    \n"
      ]
    },
    {
      "cell_type": "code",
      "source": [
        ""
      ],
      "metadata": {
        "id": "9RhKvmA5a9bN"
      },
      "execution_count": 4,
      "outputs": []
    },
    {
      "cell_type": "code",
      "source": [
        ""
      ],
      "metadata": {
        "id": "NWXXvDcDdIDv"
      },
      "execution_count": null,
      "outputs": []
    }
  ],
  "metadata": {
    "language_info": {
      "name": "python"
    },
    "orig_nbformat": 4,
    "colab": {
      "name": "grouping_similar_elements.ipynb",
      "provenance": []
    },
    "kernelspec": {
      "name": "python3",
      "display_name": "Python 3"
    }
  },
  "nbformat": 4,
  "nbformat_minor": 0
}