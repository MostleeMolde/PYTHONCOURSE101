{
  "cells": [
    {
      "cell_type": "markdown",
      "metadata": {
        "id": "WXv3FJ_DX15n"
      },
      "source": [
        "# Instructions\n",
        "Given a row count and column count, construct a matrix of random floating point numbers with the `n` number of rows and `m` number of columns.\n",
        "\n",
        "## Example output\n",
        "```python\n",
        "# create a 2x4 matrix\n",
        "create_matrix(2, 4)\n",
        "\n",
        "[   [.43, 1.42, 5.32, .02],\n",
        "    [9.54, 4.44, 2.42, 2.43]    ]\n",
        "```"
      ]
    },
    {
      "cell_type": "code",
      "execution_count": 9,
      "metadata": {
        "id": "2ot3PWyHX15r",
        "outputId": "e46459b8-856e-4b3d-a736-cf411fd763ed",
        "colab": {
          "base_uri": "https://localhost:8080/"
        }
      },
      "outputs": [
        {
          "output_type": "stream",
          "name": "stdout",
          "text": [
            "Rows7\n",
            "Columns11\n",
            "[[1.89, 9.23, 1.03, 6.89, 8.3, 0.12, 5.45, 7.32, 1.11, 0.17, 1.82], [2.26, 4.52, 6.37, 0.51, 8.0, 6.33, 0.6, 4.74, 7.41, 4.98, 7.95], [8.42, 0.11, 4.82, 9.06, 3.68, 1.14, 2.42, 2.1, 7.46, 8.88, 1.41], [1.62, 7.04, 7.47, 7.09, 5.34, 2.82, 5.21, 6.42, 2.31, 4.48, 3.44], [5.75, 4.09, 8.26, 4.85, 8.96, 2.6, 1.11, 4.74, 0.16, 7.83, 2.48], [9.83, 8.97, 0.43, 0.43, 3.44, 2.7, 2.29, 6.77, 6.71, 4.67, 5.68], [7.73, 2.12, 7.15, 7.28, 7.54, 0.16, 6.33, 7.58, 6.12, 9.78, 6.3]]\n"
          ]
        }
      ],
      "source": [
        "from random import uniform\n",
        "get_float = lambda: round(uniform(0.0, 10.0), 2)\n",
        "n = int(input(\"Rows\"))\n",
        "m = int(input(\"Columns\"))\n",
        "matrix = []\n",
        "for i in range(n):\n",
        "  matrix.append([get_float() for _ in range(m)])\n",
        "print(matrix)"
      ]
    }
  ],
  "metadata": {
    "interpreter": {
      "hash": "f1a916808f2d29f1a5fbd48aa1cb9129993ca703ecce713879d0cd946e898e32"
    },
    "kernelspec": {
      "display_name": "Python 3.9.7 64-bit ('legacy': conda)",
      "language": "python",
      "name": "python3"
    },
    "language_info": {
      "codemirror_mode": {
        "name": "ipython",
        "version": 3
      },
      "file_extension": ".py",
      "mimetype": "text/x-python",
      "name": "python",
      "nbconvert_exporter": "python",
      "pygments_lexer": "ipython3",
      "version": "3.9.7"
    },
    "orig_nbformat": 4,
    "colab": {
      "name": "create_matrix.ipynb",
      "provenance": []
    }
  },
  "nbformat": 4,
  "nbformat_minor": 0
}