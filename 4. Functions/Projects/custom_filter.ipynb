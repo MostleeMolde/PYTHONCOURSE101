{
  "cells": [
    {
      "cell_type": "markdown",
      "metadata": {
        "id": "00ZbQKdgZkr7"
      },
      "source": [
        "# Instructions\n",
        "Python has a built-in method called `filter` that takes a callback function and an iterable which if filtered using the callback function. In this project you are tasked with rewriting the filter method using your own custom function.\n",
        "\n",
        "## What does filter do?\n",
        "The filter method uses a callback function to check if each element in an iterable meets some condition. If the condition is met (the callback returns `True`) the element is kept in the list. If the condition is not met (the callback returns `False`) then the element is removed from the list.\n",
        "\n",
        "## example output\n",
        "```python\n",
        "var = [1,2,3,4,5,6,7,8]\n",
        "custom_filter(lambda ele: ele % 2 == 0, var) -> [2,4,6,8]"
      ]
    },
    {
      "cell_type": "code",
      "execution_count": 2,
      "metadata": {
        "id": "TgaGSZypZkr9",
        "outputId": "230c9797-143d-4395-cd1a-c1317ce0c1b0",
        "colab": {
          "base_uri": "https://localhost:8080/"
        }
      },
      "outputs": [
        {
          "output_type": "execute_result",
          "data": {
            "text/plain": [
              "[2, 4, 6, 8]"
            ]
          },
          "metadata": {},
          "execution_count": 2
        }
      ],
      "source": [
        "def custom_filter(x,y):\n",
        "  lis= []\n",
        "  for i in y:\n",
        "    if x(i) == True:\n",
        "      lis.append(i)\n",
        "  return lis\n",
        "custom_filter(lambda ele:ele % 2 == 0,[1,2,3,4,5,6,7,8])"
      ]
    },
    {
      "cell_type": "code",
      "source": [
        ""
      ],
      "metadata": {
        "id": "_eJZCCM8aUxx"
      },
      "execution_count": null,
      "outputs": []
    }
  ],
  "metadata": {
    "language_info": {
      "name": "python"
    },
    "orig_nbformat": 4,
    "colab": {
      "name": "custom_filter.ipynb",
      "provenance": []
    },
    "kernelspec": {
      "name": "python3",
      "display_name": "Python 3"
    }
  },
  "nbformat": 4,
  "nbformat_minor": 0
}