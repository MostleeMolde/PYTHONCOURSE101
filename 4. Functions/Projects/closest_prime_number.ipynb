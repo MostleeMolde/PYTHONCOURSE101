{
  "cells": [
    {
      "cell_type": "markdown",
      "metadata": {
        "id": "5TqTu8wlTJzK"
      },
      "source": [
        "# Instructions\n",
        "In this project, you are tasked with writing a function that is able to find the closest prime number given an input number.\n",
        "\n",
        "***A prime number is a whole number greater than 1 whose only factors are 1 and itself. A factor is a whole number that can be divided evenly into another number.***\n",
        "\n",
        "## Example\n",
        "```python\n",
        "closest_prime(25) -> 23\n",
        "closest_prime(26) -> 29\n",
        "closest_prime(75) -> 73\n",
        "```\n",
        "\n",
        "## Expectations\n",
        "* given a number, find the closest prime number\n",
        "* if a number is an equal distance away from two prime numbers, return the prime number that is bigger"
      ]
    },
    {
      "cell_type": "code",
      "execution_count": 24,
      "metadata": {
        "id": "TNkfnVonTJzO",
        "outputId": "43f616a9-a4f8-4fa4-c5f0-fd8a4fefd84d",
        "colab": {
          "base_uri": "https://localhost:8080/"
        }
      },
      "outputs": [
        {
          "output_type": "stream",
          "name": "stdout",
          "text": [
            "What's your number?01923272\n",
            "1923277\n"
          ]
        }
      ],
      "source": [
        "#TODO: Solution goes here\n",
        "number = int(input(\"What's your number?\"))\n",
        "def low(n):\n",
        "  for i in range(2,n):\n",
        "    if n % i == 0:\n",
        "      return low(n-1)\n",
        "  return n\n",
        "def high(n):\n",
        "  for i in range(2,n):\n",
        "    if n % i == 0:\n",
        "      return high(n+1)\n",
        "  return n\n",
        "def closest_prime(l,h):\n",
        "  if (number - l) < (h - number):\n",
        "    print(l)\n",
        "  elif (number - l) > (h - number):\n",
        "    print(h)\n",
        "  else:\n",
        "    print(h)\n",
        "closest_prime(low(number),high(number))\n"
      ]
    },
    {
      "cell_type": "code",
      "source": [
        ""
      ],
      "metadata": {
        "id": "H67alhM6UIwD"
      },
      "execution_count": 20,
      "outputs": []
    }
  ],
  "metadata": {
    "interpreter": {
      "hash": "f1a916808f2d29f1a5fbd48aa1cb9129993ca703ecce713879d0cd946e898e32"
    },
    "kernelspec": {
      "display_name": "Python 3.9.7 64-bit ('legacy': conda)",
      "language": "python",
      "name": "python3"
    },
    "language_info": {
      "codemirror_mode": {
        "name": "ipython",
        "version": 3
      },
      "file_extension": ".py",
      "mimetype": "text/x-python",
      "name": "python",
      "nbconvert_exporter": "python",
      "pygments_lexer": "ipython3",
      "version": "3.9.7"
    },
    "orig_nbformat": 4,
    "colab": {
      "name": "closest_prime_number.ipynb",
      "provenance": []
    }
  },
  "nbformat": 4,
  "nbformat_minor": 0
}