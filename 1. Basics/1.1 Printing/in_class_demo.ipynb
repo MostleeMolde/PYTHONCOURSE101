{
  "nbformat": 4,
  "nbformat_minor": 0,
  "metadata": {
    "interpreter": {
      "hash": "fd61235da8d855c081cbd5d7c6398e4c179a40a950675235256f7f30499f1124"
    },
    "kernelspec": {
      "display_name": "Python 3.7.4 64-bit ('base': conda)",
      "name": "python3"
    },
    "language_info": {
      "codemirror_mode": {
        "name": "ipython",
        "version": 3
      },
      "file_extension": ".py",
      "mimetype": "text/x-python",
      "name": "python",
      "nbconvert_exporter": "python",
      "pygments_lexer": "ipython3",
      "version": "3.7.4"
    },
    "orig_nbformat": 4,
    "colab": {
      "name": "in_class_demo.ipynb",
      "provenance": []
    }
  },
  "cells": [
    {
      "cell_type": "markdown",
      "metadata": {
        "id": "LwY4neDY2Omg"
      },
      "source": [
        "# Print Function\n",
        "The print function is like a messenger. It can be used to show the current value of a variable, provide helper messages, or just to do further inspection of variables and functions.\n",
        "\n",
        "\n",
        "Think of it like a push notificaion for code.\n",
        "\n",
        "![image](https://i.imgflip.com/4ljdxs.png)\n",
        "\n",
        "## When to use it\n",
        "* Whenever you want to inspect the value of a variable in your code\n",
        "* Whenever you have some message that you want to display \n",
        "* During debugging to make sure values are correct\n",
        "\n",
        "## What can it print?\n",
        "Basically anything. Anything you pass to the print function will get displayed on the screen, as long as it follows python syntax.\n",
        "\n"
      ]
    },
    {
      "cell_type": "code",
      "metadata": {
        "id": "3QIJs_tU2Omh"
      },
      "source": [
        "# Pass a message that you want to display\n",
        "print(\"Nah he tweakin 🤦🏾‍♀️\")"
      ],
      "execution_count": null,
      "outputs": []
    },
    {
      "cell_type": "code",
      "metadata": {
        "id": "x65DDlMM2Omi"
      },
      "source": [
        "# you can print multiple values at once\n"
      ],
      "execution_count": null,
      "outputs": []
    },
    {
      "cell_type": "code",
      "metadata": {
        "id": "6WJkVCU-2Omj"
      },
      "source": [
        "# you can also print variables\n"
      ],
      "execution_count": null,
      "outputs": []
    },
    {
      "cell_type": "code",
      "metadata": {
        "id": "zO7ig8i_2Omj"
      },
      "source": [
        "# printing more complex variables (dictionary)\n"
      ],
      "execution_count": null,
      "outputs": []
    },
    {
      "cell_type": "markdown",
      "metadata": {
        "id": "O2VVD9ms2Omj"
      },
      "source": [
        "## Print Keyword Arguments\n",
        "In any programming language, functions can take inputs called arguments. The values that are passed to the print function are called positional arguments, but you can also provide keyword arguments (will be explained more in depth in the Functions Module).\n",
        "\n",
        "**important keyword arguments to know are:**\n",
        "* **objects** - This is what we've been giving the function this whole time, and u can add as many as you like.\n",
        "* **sep** - Inserts a separator between objects. (default is space)\n",
        "* **end** - Specify what to print at the end. (default is a newline '\\n')\n",
        "---------------------------------------------------------------------------------------\n",
        "\n",
        "## Sep argument\n",
        "Inserts a string between values (default is space)"
      ]
    },
    {
      "cell_type": "code",
      "metadata": {
        "id": "g_tj5T1O2Omk"
      },
      "source": [
        "# you can seperate values in the print function by utilizing the 'sep' argument\n"
      ],
      "execution_count": null,
      "outputs": []
    },
    {
      "cell_type": "code",
      "metadata": {
        "id": "o4z6PhfL2Omk"
      },
      "source": [
        "# anything, including variables, can be used to seperate arguments\n"
      ],
      "execution_count": null,
      "outputs": []
    },
    {
      "cell_type": "markdown",
      "metadata": {
        "id": "thYLGdzz2Oml"
      },
      "source": [
        "-------------------------------\n",
        "## End argument\n",
        "Specifies what to print at the end. (default is a newline)\n",
        "\n",
        "**Why use this?**\n",
        "\n",
        "This comes in handy when you want to print information about the state of your program using information that is created at different places in program execution."
      ]
    },
    {
      "cell_type": "code",
      "metadata": {
        "id": "KebEXyg-2Oml"
      },
      "source": [
        "print(\"This variable was defined after the print statement\", end = \". \")\n",
        "var = [1,2,3,4,5]\n",
        "print(var)"
      ],
      "execution_count": null,
      "outputs": []
    },
    {
      "cell_type": "code",
      "metadata": {
        "id": "atuhnP7y2Oml",
        "outputId": "035bb2ec-4939-4213-fe94-8a5b39ad28f5"
      },
      "source": [
        "# print the state of a loop on a single line (you'll learn more about loops in module 2)\n"
      ],
      "execution_count": null,
      "outputs": [
        {
          "name": "stdout",
          "output_type": "stream",
          "text": [
            "Looping... iteration #1 -> iteration #2 -> iteration #3 -> "
          ]
        }
      ]
    },
    {
      "cell_type": "markdown",
      "metadata": {
        "id": "l5hQWJFE2Omn"
      },
      "source": [
        "# Printing to a newline\n",
        "In python, there are special characters called *escape characters* and they allow for 'special' operations on strings. The main one that we will cover in this section is `\\n`. This escape character allows you to display output that is written on a single line, over multiple lines.\n",
        "\n",
        "### Example\n",
        "```python\n",
        "print(\"Hello, my name is: \\nGabe\")\n",
        "\n",
        "#output\n",
        "Hello my name is:\n",
        "Gabe\n",
        "```\n"
      ]
    },
    {
      "cell_type": "code",
      "metadata": {
        "id": "Z0j1sMxI2Omn"
      },
      "source": [
        "#TODO Print your name and age on newlines"
      ],
      "execution_count": null,
      "outputs": []
    },
    {
      "cell_type": "code",
      "metadata": {
        "id": "srGubCqS2Omn"
      },
      "source": [
        "#TODO Print washburn and highschool on seperate lines"
      ],
      "execution_count": null,
      "outputs": []
    },
    {
      "cell_type": "code",
      "metadata": {
        "id": "Lv49rJXQ2Omo"
      },
      "source": [
        "#TODO"
      ],
      "execution_count": null,
      "outputs": []
    },
    {
      "cell_type": "markdown",
      "metadata": {
        "id": "BnUhlLaC2Omo"
      },
      "source": [
        "-------------------------------\n",
        "## F-strings\n",
        "In python, strings are a type of variable used to represent text. When we pass information to the print function, everything gets converted into strings so that it can be shown on screen. So, whenever a variable gets printed to the screen, it is converted to string object (text).\n",
        "\n",
        "Sometimes we want to print out multiple variables in a single line, and you already learned how to do this by separating the values with commas. \n",
        "\n",
        "```python \n",
        "print(var1, var2, var3)\n",
        "```\n",
        "However, theres a better way we can do this. \n",
        "\n",
        "F-strings, or formatted strings, are strings that get evaluated at runtime so you can give it any variable or expression and python will format it as a single string.\n",
        "\n",
        "<h1 style = \"color: #fa00f4;\"> Creating f-strings</h1>\n",
        "To make a string an f-string, just add an f to the beginning of your string.\n",
        " \n",
        "``` python \n",
        "f\"I am an f-string\"\n",
        "```"
      ]
    },
    {
      "cell_type": "code",
      "metadata": {
        "id": "d7tyT7wS2Omo"
      },
      "source": [
        "# this is the trash and ugly way to do it, don't do it in front of your crush\n",
        "name = \"Gabe\"\n",
        "age = 22\n",
        "normal_string_formatting = \"Hello, %s. You are %s.\" % (name, age)\n",
        "\n",
        "print(normal_string_formatting)"
      ],
      "execution_count": null,
      "outputs": []
    },
    {
      "cell_type": "code",
      "metadata": {
        "id": "yDJbY02u2Omp"
      },
      "source": [
        "# the way to do it when ur trynna impress ur crush\n",
        "name = \"Gabe\"\n",
        "age = 22\n",
        "better_string_formatting = f\"Hello, {name}. You are {age}\"\n",
        "\n",
        "print(better_string_formatting)"
      ],
      "execution_count": null,
      "outputs": []
    },
    {
      "cell_type": "code",
      "metadata": {
        "id": "wjah7FTH2Omp"
      },
      "source": [
        ""
      ],
      "execution_count": null,
      "outputs": []
    }
  ]
}