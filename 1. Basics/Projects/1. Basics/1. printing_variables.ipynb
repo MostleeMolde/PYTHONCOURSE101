{
  "nbformat": 4,
  "nbformat_minor": 0,
  "metadata": {
    "interpreter": {
      "hash": "fd61235da8d855c081cbd5d7c6398e4c179a40a950675235256f7f30499f1124"
    },
    "kernelspec": {
      "display_name": "Python 3.7.4 64-bit ('base': conda)",
      "name": "python3"
    },
    "language_info": {
      "codemirror_mode": {
        "name": "ipython",
        "version": 3
      },
      "file_extension": ".py",
      "mimetype": "text/x-python",
      "name": "python",
      "nbconvert_exporter": "python",
      "pygments_lexer": "ipython3",
      "version": "3.7.4"
    },
    "orig_nbformat": 4,
    "colab": {
      "name": "1. printing_variables.ipynb",
      "provenance": []
    }
  },
  "cells": [
    {
      "cell_type": "markdown",
      "metadata": {
        "id": "TgPnG-t-DVAa"
      },
      "source": [
        "# Instructions\n",
        "Below is a list of elements where each element is a different data type. Your task is to perform some basic analysis on the list of elements to come up with the following report.\n",
        "\n",
        "1. What is the data type of the element in position 3?\n",
        "2. are the data types in position 0 and position 2 the same?\n",
        "3. index the list so that you return the tuple. Assign the tuple to a new variable called `extracted`. What is the data type of the element in the 2nd position of this tuple?\n",
        "4. Index the list to return the string `return me`, what are the characters at position 0, 3, and 5\n",
        "5. Index the list to return the string `return me`, concatenate the characters at positions 0, 3, and 5 to create a new string. What is the new string?\n",
        "6. return the element at position 9 and store it in a value called `squares`. What is the data type and what are it's values.\n",
        "7. What is the result of the element at position 1 subtracted from the element at position 10\n",
        "8. what is the memory address of the list `data`\n",
        "9. are the memory addresses of the element in position 2 and position 8 the same? ***Bonus: If they are the same, explain why***"
      ]
    },
    {
      "cell_type": "code",
      "metadata": {
        "id": "vcSsKpBFDVAb"
      },
      "source": [
        "data = [\n",
        "    True,\n",
        "    600.548,\n",
        "    False,\n",
        "    45j,\n",
        "    [1,2,3,4,5],\n",
        "    False,\n",
        "    (True, \"Minecraft is the best\", 10.098, 'one billion', {1,2,3,4}),\n",
        "    \"return me\",\n",
        "    5 == 5,\n",
        "    [x**2 for x in [1,2,3,4,5]],\n",
        "    654.548    \n",
        "]"
      ],
      "execution_count": 4,
      "outputs": []
    },
    {
      "cell_type": "code",
      "metadata": {
        "id": "j3KWRUpHDVAe",
        "outputId": "3c4b245d-8307-47af-be1f-cc9fa2bb2f70",
        "colab": {
          "base_uri": "https://localhost:8080/"
        }
      },
      "source": [
        "#1\n",
        "print(\"1\", type(data[3]))\n",
        "#2\n",
        "print(\"2\",bool(type(data[0] == data[2])))\n",
        "#3\n",
        "extracted = data[6]\n",
        "print(\"3 extracted value:\", extracted, \"Data type of 2nd element:\", type(extracted[1]))\n",
        "#4\n",
        "thing = data[7]\n",
        "print(\"4 \", thing[0], thing[3], thing[5])\n",
        "#5\n",
        "thing = data[7]\n",
        "new = thing[0]+thing[3]+thing[5]\n",
        "print(\"5\", new)\n",
        "#6\n",
        "squares = data[9]\n",
        "print(\"6 \", type(squares), squares)\n",
        "#7\n",
        "result = data[1] - data[10]\n",
        "print(\"7\", result)\n",
        "#8\n",
        "print(\"8 \", id(data))\n",
        "#9\n",
        "same = id(data[2]) == id(data[8])\n",
        "print(\"9\", same)"
      ],
      "execution_count": 28,
      "outputs": [
        {
          "output_type": "stream",
          "name": "stdout",
          "text": [
            "1 <class 'complex'>\n",
            "2 True\n",
            "3 extracted value: (True, 'Minecraft is the best', 10.098, 'one billion', {1, 2, 3, 4}) Data type of 2nd element: <class 'str'>\n",
            "4  r u n\n",
            "5 run\n",
            "6  <class 'list'> [1, 4, 9, 16, 25]\n",
            "7 -54.0\n",
            "8  140635917661440\n",
            "9 False\n"
          ]
        }
      ]
    },
    {
      "cell_type": "markdown",
      "metadata": {
        "id": "V3cx5eQVDVAe"
      },
      "source": [
        "## YOUR ANSWERS GO HERE\n",
        "1. Complex\n",
        "2. Yes they are both boolean\n",
        "3. The second element in extracted is string\n",
        "4. The characters are r, u, n.\n",
        "5. new string is 'run'\n",
        "6. It is a list. Its values are 1,4,9,16,25\n",
        "7. result is -54.0\n",
        "8. memory address of list data is 140635917661440\n",
        "9. They do not have the same memory address\n",
        "\n",
        "\n",
        "\n"
      ]
    }
  ]
}