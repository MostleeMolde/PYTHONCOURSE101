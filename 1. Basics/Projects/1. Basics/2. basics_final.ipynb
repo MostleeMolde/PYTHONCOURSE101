{
  "nbformat": 4,
  "nbformat_minor": 0,
  "metadata": {
    "interpreter": {
      "hash": "fd61235da8d855c081cbd5d7c6398e4c179a40a950675235256f7f30499f1124"
    },
    "kernelspec": {
      "display_name": "Python 3.7.4 64-bit ('base': conda)",
      "language": "python",
      "name": "python3"
    },
    "language_info": {
      "codemirror_mode": {
        "name": "ipython",
        "version": 3
      },
      "file_extension": ".py",
      "mimetype": "text/x-python",
      "name": "python",
      "nbconvert_exporter": "python",
      "pygments_lexer": "ipython3",
      "version": "3.7.4"
    },
    "orig_nbformat": 4,
    "colab": {
      "name": "2. basics_final.ipynb",
      "provenance": []
    }
  },
  "cells": [
    {
      "cell_type": "markdown",
      "metadata": {
        "id": "JJAAS5-L_6Y4"
      },
      "source": [
        "# Instructions\n",
        "Below is a \"dataset\" that contains information about the residents in Elmo city. Elmo and Big bird have noticed some problems with their data and would like your help to fix it. The dataset structure is a list of list, where each internal list is its own section. "
      ]
    },
    {
      "cell_type": "code",
      "metadata": {
        "id": "zgXJ2pT4_6Y6"
      },
      "source": [
        "data = [\n",
        "    ['number of trash cans', 1_000_000],\n",
        "    ['number of cleaners', 109_001],\n",
        "    ['number of houses', 900000],\n",
        "    ['Annual visitors', '200000'],\n",
        "    ['average house cost', '650000'],\n",
        "    ['average yearly income', 120000],\n",
        "    ['Common Jobs', ('Quantum computing', 'Psychologist', 'Data scientist', 'Construction', 'Cleaning')],\n",
        "    ['Total Number of available job positions', 250000 ],\n",
        "    ['Total number of jobs', 1700543],\n",
        "    ['number of children', 258710]\n",
        "]\n"
      ],
      "execution_count": 4,
      "outputs": []
    },
    {
      "cell_type": "markdown",
      "metadata": {
        "id": "sU3i2IJn_6Y7"
      },
      "source": [
        "# How many children per house\n",
        "Calculate the number of children there are per house, and cerate a new section named `children per house` with the value you calculated."
      ]
    },
    {
      "cell_type": "code",
      "metadata": {
        "id": "JTexJa-Z_6Y8",
        "outputId": "ab4f22d2-2b71-4dbe-a722-8cc3d4a35ce8",
        "colab": {
          "base_uri": "https://localhost:8080/"
        }
      },
      "source": [
        "#TODO\n",
        "children = data[9][1] \n",
        "houses = data[2][1]\n",
        "children_per_house = houses / children\n",
        "children_per_house"
      ],
      "execution_count": 9,
      "outputs": [
        {
          "output_type": "execute_result",
          "data": {
            "text/plain": [
              "3.4787986548645202"
            ]
          },
          "metadata": {},
          "execution_count": 9
        }
      ]
    },
    {
      "cell_type": "markdown",
      "metadata": {
        "id": "mjz8lIqi_6Y8"
      },
      "source": [
        "# Fixing the data Types\n",
        "It seems that the data type for annual visitors and for average house cost are strings when they should be integers. Convert the values into the appropriate data type."
      ]
    },
    {
      "cell_type": "code",
      "metadata": {
        "id": "x3DKsVVe_6Y9",
        "outputId": "19e64d1f-5931-4841-b06f-39bf5bf7de40",
        "colab": {
          "base_uri": "https://localhost:8080/"
        }
      },
      "source": [
        "#TODO\n",
        "annual_visitors = int(data[3][1])\n",
        "average_house_cost = int(data[4][1])\n",
        "print(annual_visitors, average_house_cost)"
      ],
      "execution_count": 10,
      "outputs": [
        {
          "output_type": "stream",
          "name": "stdout",
          "text": [
            "200000 650000\n"
          ]
        }
      ]
    },
    {
      "cell_type": "markdown",
      "metadata": {
        "id": "2rdskeNQ_6Y9"
      },
      "source": [
        "# How many should we hire\n",
        "Right now, elmo city has 1 million trash cans, and only ~109 thousand city cleaners. How many more workers do they need to hire so that each cleaner can get to 8 trash cans per day?\n",
        "\n",
        "Once you've calculated how many more people they need to hire, update the list where the `number of cleaners` is present to the new amount of city cleaners they have."
      ]
    },
    {
      "cell_type": "code",
      "metadata": {
        "id": "QyVdL3BC_6Y9",
        "outputId": "45b0c069-fc01-4f6c-a5be-3dfd9d163afa",
        "colab": {
          "base_uri": "https://localhost:8080/"
        }
      },
      "source": [
        "#TODO claculate how many more cleaners they need to hire and update the list\n",
        "needed_cleaners = 1000000 / 8\n",
        "data[1][1] = needed_cleaners    \n",
        "print(data[1][1],needed_cleaners)"
      ],
      "execution_count": 12,
      "outputs": [
        {
          "output_type": "stream",
          "name": "stdout",
          "text": [
            "125000.0 125000.0\n"
          ]
        }
      ]
    },
    {
      "cell_type": "markdown",
      "metadata": {
        "id": "we0Fid70_6Y-"
      },
      "source": [
        "# Adding new jobs\n",
        "The list of common jobs is incomplete. There are thousands of different jobs in Elmo city yet the common jobs section only lists 5 of them. Add these 3 other common jobs to the common jobs section. \n",
        "- photographer\n",
        "- Journalist\n",
        "- physicist"
      ]
    },
    {
      "cell_type": "code",
      "metadata": {
        "id": "RQGaG4Dv_6Y-",
        "outputId": "43a92644-e14e-484f-a147-73d06dbb4598",
        "colab": {
          "base_uri": "https://localhost:8080/"
        }
      },
      "source": [
        "jobs = data[6][1]\n",
        "new_jobs = [\"Photographer\",\"Journalist\",\"Physicist\"]\n",
        "jobs = list(jobs)\n",
        "jobs.extend(new_jobs)\n",
        "tuple(jobs)\n",
        "data[6][1] = jobs\n",
        "print(data[6][1])\n"
      ],
      "execution_count": 21,
      "outputs": [
        {
          "output_type": "stream",
          "name": "stdout",
          "text": [
            "['Quantum computing', 'Psychologist', 'Data scientist', 'Construction', 'Cleaning', 'Photographer', 'Journalist', 'Physicist', 'Photographer', 'Journalist', 'Physicist', 'Photographer', 'Journalist', 'Physicist', 'Photographer', 'Journalist', 'Physicist']\n"
          ]
        }
      ]
    },
    {
      "cell_type": "markdown",
      "metadata": {
        "id": "gDdistc8_6Y-"
      },
      "source": [
        "# Adding a new resident\n",
        "Add some input statements for your `name, age, and occupation` then add these 3 fields to a list. Create a section in the dataset with your info as a new resident in Elmo city. \n",
        "\n",
        "### Example\n",
        "```python\n",
        "name = \"gabe\"\n",
        "age = 22\n",
        "occupation = \"psychologist\"\n",
        "\n",
        "data = [\n",
        "    ['number of trash cans', 1_000_000],\n",
        "    ['number of cleaners', 109_001],\n",
        "    ['number of houses', 900000],\n",
        "    ['Annual visitors', '200000'],\n",
        "    ['average house cost', '650000'],\n",
        "    ['average yearly income', 120000],\n",
        "    ['Common Jobs', ('Quantum computing', 'Psychologist', 'Data scientist', 'Construction', 'Cleaning')],\n",
        "    ['Total Number of available job positions', 250000 ],\n",
        "    ['Total number of jobs', 1700543]\n",
        "    ['number of children', 258710],\n",
        "    ['New resident', ['Gabe', 22, \"psychologist\"]] <-- new resident\n",
        "]\n",
        "```"
      ]
    },
    {
      "cell_type": "code",
      "metadata": {
        "id": "SF0E5dJ__6Y_",
        "outputId": "b3d604ab-dec7-4b12-f2db-3673707525db",
        "colab": {
          "base_uri": "https://localhost:8080/"
        }
      },
      "source": [
        "#TODO\n",
        "name = input(\"What is your name?\")\n",
        "age = input(\"What is your age?\")\n",
        "occupation = input(\"What is your occupation?\")\n",
        "you = [name, age, occupation]\n",
        "new = [\"New resident\", you]\n",
        "data.append(new)\n",
        "print(data)"
      ],
      "execution_count": 27,
      "outputs": [
        {
          "output_type": "stream",
          "name": "stdout",
          "text": [
            "What is your name?Oliver\n",
            "What is your age?15\n",
            "What is your occupation?None\n",
            "[['number of trash cans', 1000000], ['number of cleaners', 125000.0], ['number of houses', 900000], ['Annual visitors', '200000'], ['average house cost', '650000'], ['average yearly income', 120000], ['Common Jobs', ['Quantum computing', 'Psychologist', 'Data scientist', 'Construction', 'Cleaning', 'Photographer', 'Journalist', 'Physicist', 'Photographer', 'Journalist', 'Physicist', 'Photographer', 'Journalist', 'Physicist', 'Photographer', 'Journalist', 'Physicist']], ['Total Number of available job positions', 250000], ['Total number of jobs', 1700543], ['number of children', 258710], ['New resident', ['Oliver', '15', 'None']]]\n"
          ]
        }
      ]
    }
  ]
}