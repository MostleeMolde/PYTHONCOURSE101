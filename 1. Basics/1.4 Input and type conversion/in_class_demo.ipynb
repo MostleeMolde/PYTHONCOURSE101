{
  "nbformat": 4,
  "nbformat_minor": 0,
  "metadata": {
    "interpreter": {
      "hash": "fd61235da8d855c081cbd5d7c6398e4c179a40a950675235256f7f30499f1124"
    },
    "kernelspec": {
      "display_name": "Python 3.7.4 64-bit ('base': conda)",
      "name": "python3"
    },
    "language_info": {
      "codemirror_mode": {
        "name": "ipython",
        "version": 3
      },
      "file_extension": ".py",
      "mimetype": "text/x-python",
      "name": "python",
      "nbconvert_exporter": "python",
      "pygments_lexer": "ipython3",
      "version": "3.7.4"
    },
    "orig_nbformat": 4,
    "colab": {
      "name": "in_class_demo.ipynb",
      "provenance": []
    }
  },
  "cells": [
    {
      "cell_type": "markdown",
      "metadata": {
        "id": "WPf1TKvXukBf"
      },
      "source": [
        "# Type Conversion\n",
        "The process of converting the value of one data type (integer, string, float, etc.) to another data type is called type conversion. Python has two types of type conversion.\n",
        "\n",
        "* Implicit Type Conversion\n",
        "* Explicit Type Conversion\n",
        "\n",
        "## Implicit Type Conversion\n",
        "In Implicit type conversion, Python automatically converts one data type to another data type. This process doesn't need any user involvement.\n",
        "\n",
        "Let's see an example where Python promotes the conversion of the lower data type (integer) to the higher data type (float) to avoid data loss."
      ]
    },
    {
      "cell_type": "code",
      "metadata": {
        "id": "fezZUDoRukBh",
        "outputId": "3896f27a-d611-4ec3-b804-1624261a7fe3",
        "colab": {
          "base_uri": "https://localhost:8080/"
        }
      },
      "source": [
        "var = 20\n",
        "var2 = 1.15\n",
        "val = var + var2\n",
        "\n",
        "print(f\"Type of var: {type(var)}.    Value: {var}\")\n",
        "print(f\"Type of var2: {type(var2)}. Value: {var2}\")\n",
        "print(f\"Type of val: {type(val)}.  Value: {val}\")\n"
      ],
      "execution_count": 4,
      "outputs": [
        {
          "output_type": "stream",
          "name": "stdout",
          "text": [
            "Type of var: <class 'int'>.    Value: 20\n",
            "Type of var2: <class 'int'>. Value: 2\n",
            "Type of val: <class 'int'>.  Value: 22\n"
          ]
        }
      ]
    },
    {
      "cell_type": "markdown",
      "metadata": {
        "id": "0tzXPoWhukBi"
      },
      "source": [
        "**Lets see another example with string and an int**"
      ]
    },
    {
      "cell_type": "code",
      "metadata": {
        "id": "F-zCOzorukBj",
        "outputId": "edc52845-4552-419d-cd01-cc2a87aed2aa",
        "colab": {
          "base_uri": "https://localhost:8080/",
          "height": 232
        }
      },
      "source": [
        "var = 23\n",
        "var2 = \"43\"\n",
        "val = var + var2\n",
        "\n",
        "print(f\"Type of var: {type(var)}. Value: {var}\")\n",
        "print(f\"Type of var2: {type(var2)}. Value: {var2}\")\n",
        "print(f\"Type of val: {type(val)}. Value: {val}\")\n"
      ],
      "execution_count": 11,
      "outputs": [
        {
          "output_type": "error",
          "ename": "TypeError",
          "evalue": "ignored",
          "traceback": [
            "\u001b[0;31m---------------------------------------------------------------------------\u001b[0m",
            "\u001b[0;31mTypeError\u001b[0m                                 Traceback (most recent call last)",
            "\u001b[0;32m<ipython-input-11-c10896e76da4>\u001b[0m in \u001b[0;36m<module>\u001b[0;34m()\u001b[0m\n\u001b[1;32m      1\u001b[0m \u001b[0mvar\u001b[0m \u001b[0;34m=\u001b[0m \u001b[0;36m23\u001b[0m\u001b[0;34m\u001b[0m\u001b[0;34m\u001b[0m\u001b[0m\n\u001b[1;32m      2\u001b[0m \u001b[0mvar2\u001b[0m \u001b[0;34m=\u001b[0m \u001b[0;34m\"43\"\u001b[0m\u001b[0;34m\u001b[0m\u001b[0;34m\u001b[0m\u001b[0m\n\u001b[0;32m----> 3\u001b[0;31m \u001b[0mval\u001b[0m \u001b[0;34m=\u001b[0m \u001b[0mvar\u001b[0m \u001b[0;34m+\u001b[0m \u001b[0mvar2\u001b[0m\u001b[0;34m\u001b[0m\u001b[0;34m\u001b[0m\u001b[0m\n\u001b[0m\u001b[1;32m      4\u001b[0m \u001b[0;34m\u001b[0m\u001b[0m\n\u001b[1;32m      5\u001b[0m \u001b[0mprint\u001b[0m\u001b[0;34m(\u001b[0m\u001b[0;34mf\"Type of var: {type(var)}. Value: {var}\"\u001b[0m\u001b[0;34m)\u001b[0m\u001b[0;34m\u001b[0m\u001b[0;34m\u001b[0m\u001b[0m\n",
            "\u001b[0;31mTypeError\u001b[0m: unsupported operand type(s) for +: 'int' and 'str'"
          ]
        }
      ]
    },
    {
      "cell_type": "markdown",
      "metadata": {
        "id": "Ic1j9ogPukBj"
      },
      "source": [
        "**Unfortunately, python isn't able to perform the addition of a string and an int because the data types can't be implicitly converted. So lets look at a method for explicitly converting data types so that we can do these types of operations**\n",
        "\n",
        "# Explicit conversions\n",
        "\n",
        "This means to change the type of an object to the required data type by using predefined functions like int(), float(), str(), etc to perform explicit type conversion.\n",
        "\n",
        "***This type of conversion is also called typecasting because the user casts (changes) the data type of the objects.***"
      ]
    },
    {
      "cell_type": "code",
      "metadata": {
        "id": "d0Kq64a7ukBk",
        "outputId": "039e210c-bc12-4d9c-8bf4-43ff8069534f",
        "colab": {
          "base_uri": "https://localhost:8080/"
        }
      },
      "source": [
        "var = 20\n",
        "var2 = \"30\"\n",
        "\n",
        "\n",
        "print(f\"Type of var: {type(var)}.  Value: {var}\")\n",
        "print(f\"Type of var2: {type(var2)}. Value: {var2}\\n\")\n",
        "\n",
        "#TODO: convert a string to an int and add the values\n",
        "var2 = int(var2)\n",
        "var + var2\n",
        "\n",
        "print(f\"Type of var: {type(var)}.  Value: {var}\")\n",
        "print(f\"Type of var2: {type(var2)}. Value: {var2}\")\n",
        "print(f\"Type of val: {type(val)}.  Value: {val}\")\n",
        "\n",
        "\n"
      ],
      "execution_count": 12,
      "outputs": [
        {
          "output_type": "stream",
          "name": "stdout",
          "text": [
            "Type of var: <class 'int'>.  Value: 20\n",
            "Type of var2: <class 'str'>. Value: 30\n",
            "\n",
            "Type of var: <class 'int'>.  Value: 20\n",
            "Type of var2: <class 'int'>. Value: 30\n",
            "Type of val: <class 'int'>.  Value: 22\n"
          ]
        }
      ]
    },
    {
      "cell_type": "markdown",
      "metadata": {
        "id": "wWvTTm3yukBk"
      },
      "source": [
        "## Allowable conversions\n",
        "- int -> str \n",
        "- int -> float \n",
        "#\n",
        "- float -> int\n",
        "- float -> str\n",
        "#\n",
        "- str -> int (if the string is a number)\n",
        "- str -> float (if the string is a number)\n",
        "- str -> list \n",
        "- str -> tuple\n",
        "#\n",
        "- list -> tuple \n",
        "- list -> set \n",
        "- list -> str\n",
        "#\n",
        "- tuple -> list \n",
        "- tuple -> set\n",
        "- tuple -> str"
      ]
    },
    {
      "cell_type": "code",
      "metadata": {
        "id": "N3F_QAmTukBk",
        "outputId": "c403db58-315b-44e4-b36b-c0c2c5a2dcd6",
        "colab": {
          "base_uri": "https://localhost:8080/"
        }
      },
      "source": [
        "#TODO: Convert a float to an int\n",
        "var = 10.635\n",
        "float(var)"
      ],
      "execution_count": 21,
      "outputs": [
        {
          "output_type": "execute_result",
          "data": {
            "text/plain": [
              "10.635"
            ]
          },
          "metadata": {},
          "execution_count": 21
        }
      ]
    },
    {
      "cell_type": "code",
      "metadata": {
        "id": "e6hSaXMmukBl",
        "outputId": "28fd541b-bc3e-4f7d-88e4-57a8cae58bf4",
        "colab": {
          "base_uri": "https://localhost:8080/"
        }
      },
      "source": [
        "#TODO: Convert a string to a float\n",
        "var = \"67.999\"\n",
        "var = float(var)\n",
        "var"
      ],
      "execution_count": 22,
      "outputs": [
        {
          "output_type": "execute_result",
          "data": {
            "text/plain": [
              "67.999"
            ]
          },
          "metadata": {},
          "execution_count": 22
        }
      ]
    },
    {
      "cell_type": "code",
      "metadata": {
        "id": "1-Crv1nW2R3u",
        "outputId": "a3ce2af2-691b-4d5a-a6ee-b81669a52bfc",
        "colab": {
          "base_uri": "https://localhost:8080/"
        }
      },
      "source": [
        "var = \"25\"\n",
        "v = int(var[0])\n",
        "x = int(var[1])\n",
        "v + x"
      ],
      "execution_count": 23,
      "outputs": [
        {
          "output_type": "execute_result",
          "data": {
            "text/plain": [
              "7"
            ]
          },
          "metadata": {},
          "execution_count": 23
        }
      ]
    },
    {
      "cell_type": "code",
      "metadata": {
        "id": "ld_lBiY8ukBl",
        "outputId": "697381b7-8ea7-4185-db07-41467e9fd52a",
        "colab": {
          "base_uri": "https://localhost:8080/"
        }
      },
      "source": [
        "# TODO: Convert a string to a list \n",
        "var =\"washburn\"\n",
        "var = list(var)\n",
        "type(var), var"
      ],
      "execution_count": 32,
      "outputs": [
        {
          "output_type": "execute_result",
          "data": {
            "text/plain": [
              "(list, [1, 'a', 's', 'h', 'b', 'u', 'r', 'n'])"
            ]
          },
          "metadata": {},
          "execution_count": 32
        }
      ]
    },
    {
      "cell_type": "code",
      "metadata": {
        "id": "JsURXxsIukBl",
        "outputId": "06b412f5-98b2-48b7-8e3d-ad42242dc177",
        "colab": {
          "base_uri": "https://localhost:8080/"
        }
      },
      "source": [
        "#TODO: Convert a string to a tuple\n",
        "var =\"washburn\"\n",
        "var = tuple(var)\n",
        "type(var), var"
      ],
      "execution_count": 31,
      "outputs": [
        {
          "output_type": "execute_result",
          "data": {
            "text/plain": [
              "(tuple, ('w', 'a', 's', 'h', 'b', 'u', 'r', 'n'))"
            ]
          },
          "metadata": {},
          "execution_count": 31
        }
      ]
    },
    {
      "cell_type": "code",
      "metadata": {
        "id": "b0Ol3ck2ukBm",
        "outputId": "4d3ab502-fa65-4432-d1c4-a40dc58109a7",
        "colab": {
          "base_uri": "https://localhost:8080/"
        }
      },
      "source": [
        "#TODO: Convert a list to a string\n",
        "var = [1,2,3,4]\n",
        "var = str(var)\n",
        "var, type(var)"
      ],
      "execution_count": 33,
      "outputs": [
        {
          "output_type": "execute_result",
          "data": {
            "text/plain": [
              "('[1, 2, 3, 4]', str)"
            ]
          },
          "metadata": {},
          "execution_count": 33
        }
      ]
    },
    {
      "cell_type": "code",
      "metadata": {
        "id": "395GxkL1ukBm",
        "outputId": "08870925-7031-4b6f-b335-152b39d24ecc",
        "colab": {
          "base_uri": "https://localhost:8080/"
        }
      },
      "source": [
        "#TODO: Convert a tuple to a string\n",
        "var = (1,2,3,4)\n",
        "var = str(var)\n",
        "var, type(var)"
      ],
      "execution_count": 34,
      "outputs": [
        {
          "output_type": "execute_result",
          "data": {
            "text/plain": [
              "('(1, 2, 3, 4)', str)"
            ]
          },
          "metadata": {},
          "execution_count": 34
        }
      ]
    },
    {
      "cell_type": "code",
      "metadata": {
        "id": "FFaMJdCxukBm",
        "outputId": "3f49a8e9-4982-43e7-cae0-5a053a3e5094",
        "colab": {
          "base_uri": "https://localhost:8080/"
        }
      },
      "source": [
        "#TODO: Convert a list to a tuple\n",
        "var = [1,2,3,4,5]\n",
        "var = tuple(var)\n",
        "var, type(var)"
      ],
      "execution_count": 36,
      "outputs": [
        {
          "output_type": "execute_result",
          "data": {
            "text/plain": [
              "((1, 2, 3, 4, 5), tuple)"
            ]
          },
          "metadata": {},
          "execution_count": 36
        }
      ]
    },
    {
      "cell_type": "markdown",
      "metadata": {
        "id": "QoI_q1rGukBm"
      },
      "source": [
        "# User Input\n",
        "Sometimes in our programs, we want or expect the user to input some information that we can use in the rest of the program.\n",
        "\n",
        "To do this, python provides us with a function called `input()`."
      ]
    },
    {
      "cell_type": "code",
      "metadata": {
        "id": "puzlKcAxukBn",
        "outputId": "19c6b538-f6ee-4c0d-ec53-9a22f1ba858d",
        "colab": {
          "base_uri": "https://localhost:8080/",
          "height": 71
        }
      },
      "source": [
        "#TODO: input your name\n",
        "name = input()\n",
        "print(f\"Hi {name} ! Welcome!\")\n",
        "name[0]"
      ],
      "execution_count": 41,
      "outputs": [
        {
          "output_type": "stream",
          "name": "stdout",
          "text": [
            "Oliver\n",
            "Hi Oliver ! Welcome!\n"
          ]
        },
        {
          "output_type": "execute_result",
          "data": {
            "application/vnd.google.colaboratory.intrinsic+json": {
              "type": "string"
            },
            "text/plain": [
              "'O'"
            ]
          },
          "metadata": {},
          "execution_count": 41
        }
      ]
    },
    {
      "cell_type": "markdown",
      "metadata": {
        "id": "b25xdVpRukBn"
      },
      "source": [
        "## Prompt\n",
        "The `input` function can also be given a prompt so that the user knows what you want them to do."
      ]
    },
    {
      "cell_type": "code",
      "metadata": {
        "id": "UiD-HlesukBn",
        "outputId": "1fadd846-281c-42d1-e796-6010095cb728",
        "colab": {
          "base_uri": "https://localhost:8080/"
        }
      },
      "source": [
        "#TODO: Input your name using a prompt and print the type\n",
        "name = input(\"Enter your name:\")\n",
        "print(type(name))"
      ],
      "execution_count": 45,
      "outputs": [
        {
          "output_type": "stream",
          "name": "stdout",
          "text": [
            "Enter your nameOliver\n",
            "<class 'str'>\n"
          ]
        }
      ]
    },
    {
      "cell_type": "code",
      "metadata": {
        "id": "qhJrGmKBukBn",
        "outputId": "5522db06-e48b-4923-b92b-426331312665",
        "colab": {
          "base_uri": "https://localhost:8080/"
        }
      },
      "source": [
        "#TODO: Input your age using a prompt and print the type\n",
        "age = input(\"Enter your age:\")\n",
        "age = int(age)\n",
        "print(type(age))"
      ],
      "execution_count": 49,
      "outputs": [
        {
          "output_type": "stream",
          "name": "stdout",
          "text": [
            "Enter your age:15\n",
            "<class 'int'>\n"
          ]
        }
      ]
    },
    {
      "cell_type": "markdown",
      "metadata": {
        "id": "6Yh3fm3cukBo"
      },
      "source": [
        "## All input are strings\n",
        "When using the `input()` function, all input is returned as a string. So when we enter a number, list, or tuple, we will need to convert it to the corresponding data type.\n",
        "\n",
        "**There are two ways to do this**\n",
        "* wrap the input function around the data type we want to convert to  \n",
        "* convert the variable after input is provided"
      ]
    },
    {
      "cell_type": "code",
      "metadata": {
        "id": "Eq1monV7ukBo",
        "outputId": "50acace5-db94-43b4-9fd4-de393b13d62d",
        "colab": {
          "base_uri": "https://localhost:8080/",
          "height": 54
        }
      },
      "source": [
        "#TODO: wrap the input function around the data type\n",
        "age = input(int())\n",
        "age"
      ],
      "execution_count": 50,
      "outputs": [
        {
          "name": "stdout",
          "output_type": "stream",
          "text": [
            "66\n"
          ]
        },
        {
          "output_type": "execute_result",
          "data": {
            "application/vnd.google.colaboratory.intrinsic+json": {
              "type": "string"
            },
            "text/plain": [
              "'66'"
            ]
          },
          "metadata": {},
          "execution_count": 50
        }
      ]
    },
    {
      "cell_type": "code",
      "metadata": {
        "id": "Ls3XyrP7ukBo",
        "outputId": "11e69844-e9d9-4551-e3e7-0d7fb533af0f",
        "colab": {
          "base_uri": "https://localhost:8080/"
        }
      },
      "source": [
        "#TODO: Convert the variable after user input is given\n",
        "age = int(input())\n",
        "age"
      ],
      "execution_count": 52,
      "outputs": [
        {
          "name": "stdout",
          "output_type": "stream",
          "text": [
            "6\n"
          ]
        },
        {
          "output_type": "execute_result",
          "data": {
            "text/plain": [
              "6"
            ]
          },
          "metadata": {},
          "execution_count": 52
        }
      ]
    },
    {
      "cell_type": "code",
      "metadata": {
        "id": "k4fbmygC9LXs",
        "outputId": "951c66fd-f231-4f7d-bc1d-cd23662cc193",
        "colab": {
          "base_uri": "https://localhost:8080/"
        }
      },
      "source": [
        ""
      ],
      "execution_count": 55,
      "outputs": [
        {
          "output_type": "execute_result",
          "data": {
            "text/plain": [
              "True"
            ]
          },
          "metadata": {},
          "execution_count": 55
        }
      ]
    },
    {
      "cell_type": "code",
      "metadata": {
        "id": "eIgjwcTX-Odk"
      },
      "source": [
        ""
      ],
      "execution_count": null,
      "outputs": []
    }
  ]
}