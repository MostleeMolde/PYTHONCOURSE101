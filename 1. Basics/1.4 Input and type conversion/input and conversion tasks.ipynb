{
  "nbformat": 4,
  "nbformat_minor": 0,
  "metadata": {
    "orig_nbformat": 4,
    "colab": {
      "name": "input and conversion tasks.ipynb",
      "provenance": []
    },
    "language_info": {
      "name": "python"
    },
    "kernelspec": {
      "name": "python3",
      "display_name": "Python 3"
    }
  },
  "cells": [
    {
      "cell_type": "markdown",
      "metadata": {
        "id": "D0CKbrOp_m6L"
      },
      "source": [
        "# Explicit Conversion"
      ]
    },
    {
      "cell_type": "markdown",
      "metadata": {
        "id": "CnzuaUQF_m6M"
      },
      "source": [
        "## TASK 1\n",
        "Convert the string to an integer value"
      ]
    },
    {
      "cell_type": "code",
      "metadata": {
        "id": "nL8sadNg_m6M",
        "outputId": "13a2afb5-488d-4b7c-c895-8cdebf1cfe0f",
        "colab": {
          "base_uri": "https://localhost:8080/"
        }
      },
      "source": [
        "#TODO: \n",
        "var = \"2\"\n",
        "var = int(var)\n",
        "type(var),var"
      ],
      "execution_count": 2,
      "outputs": [
        {
          "output_type": "execute_result",
          "data": {
            "text/plain": [
              "(int, 2)"
            ]
          },
          "metadata": {},
          "execution_count": 2
        }
      ]
    },
    {
      "cell_type": "markdown",
      "metadata": {
        "id": "E1rEzBl9_m6N"
      },
      "source": [
        "## TASK 2\n",
        "Convert the list into a tuple"
      ]
    },
    {
      "cell_type": "code",
      "metadata": {
        "id": "Rpxu2Rys_m6O",
        "outputId": "6a95ec63-df03-4f9e-de9d-ed8f478cde06",
        "colab": {
          "base_uri": "https://localhost:8080/"
        }
      },
      "source": [
        "#TODO\n",
        "var = [1,2,3,4,5]\n",
        "var = tuple(var)\n",
        "type(var), var"
      ],
      "execution_count": 3,
      "outputs": [
        {
          "output_type": "execute_result",
          "data": {
            "text/plain": [
              "(tuple, (1, 2, 3, 4, 5))"
            ]
          },
          "metadata": {},
          "execution_count": 3
        }
      ]
    },
    {
      "cell_type": "markdown",
      "metadata": {
        "id": "rbtv84az_m6O"
      },
      "source": [
        "## TASK 3\n",
        "convert the tuple into a string"
      ]
    },
    {
      "cell_type": "code",
      "metadata": {
        "id": "QSLKn4Ws_m6O",
        "outputId": "1559d0aa-885b-4f2a-cae1-2d76fbfcef88",
        "colab": {
          "base_uri": "https://localhost:8080/"
        }
      },
      "source": [
        "#TODO\n",
        "var = (1,2,3,4)\n",
        "var = str(var)\n",
        "type(var), var"
      ],
      "execution_count": 4,
      "outputs": [
        {
          "output_type": "execute_result",
          "data": {
            "text/plain": [
              "(str, '(1, 2, 3, 4)')"
            ]
          },
          "metadata": {},
          "execution_count": 4
        }
      ]
    },
    {
      "cell_type": "markdown",
      "metadata": {
        "id": "UTrH-vEN_m6P"
      },
      "source": [
        "# User input\n",
        "\n",
        "## TASK 1\n",
        "Ask the user for their name then ask for their age and print the results"
      ]
    },
    {
      "cell_type": "code",
      "metadata": {
        "id": "h5_MElD0_m6P",
        "outputId": "148e150f-50ca-45c2-98c9-192fab082994",
        "colab": {
          "base_uri": "https://localhost:8080/"
        }
      },
      "source": [
        "#TODO\n",
        "name = input(\"What's your name?\")\n",
        "age = input(\"What's your age?\")\n",
        "print(f\"Hello {name} you are {age}\")\n"
      ],
      "execution_count": 5,
      "outputs": [
        {
          "output_type": "stream",
          "name": "stdout",
          "text": [
            "What's your name?Oliver\n",
            "What's your age?15\n",
            "Hello Oliver you are 15\n"
          ]
        }
      ]
    },
    {
      "cell_type": "markdown",
      "metadata": {
        "id": "bL-ete5U_m6Q"
      },
      "source": [
        "## TASK 2\n",
        "Ask the user for how many classes they're taking this semester and print the results."
      ]
    },
    {
      "cell_type": "code",
      "metadata": {
        "id": "bUopC77N_m6R",
        "outputId": "cb4acccd-8c79-4a39-edd2-f572c7e10f7b",
        "colab": {
          "base_uri": "https://localhost:8080/"
        }
      },
      "source": [
        "#TODO\n",
        "num_classes = input(\"How many classes have you taken this semester?\")\n",
        "print(f\"you have taken {num_classes} classes this semester\")"
      ],
      "execution_count": 7,
      "outputs": [
        {
          "output_type": "stream",
          "name": "stdout",
          "text": [
            "How many classes have you taken this semester?6\n",
            "you have taken 6 classes this semester\n"
          ]
        }
      ]
    },
    {
      "cell_type": "markdown",
      "metadata": {
        "id": "9nWQm9Nh_m6R"
      },
      "source": [
        "## TASK 3\n",
        "Ask the user for their name and age, then convert their age to a integer and multiply by the length of their name."
      ]
    },
    {
      "cell_type": "code",
      "metadata": {
        "id": "iMw-pUVC_m6R",
        "outputId": "9b24cd66-d31c-4226-ddfd-6dc876f331d1",
        "colab": {
          "base_uri": "https://localhost:8080/"
        }
      },
      "source": [
        "#TODO\n",
        "name = input(\"What is your name?\")\n",
        "age = int(input(\"What is your age?\"))\n",
        "print(age*len(name))"
      ],
      "execution_count": 8,
      "outputs": [
        {
          "output_type": "stream",
          "name": "stdout",
          "text": [
            "What is your name?Oliver\n",
            "What is your age?15\n",
            "90\n"
          ]
        }
      ]
    },
    {
      "cell_type": "markdown",
      "metadata": {
        "id": "K5uM6t5P_m6S"
      },
      "source": [
        "## TASK 4\n",
        "Matilda has 10 pets (she's a crazy cat lady). Input the amount of pets you have and do a comparison to see if she has more pets than you."
      ]
    },
    {
      "cell_type": "code",
      "metadata": {
        "id": "_INc5u0S_m6S",
        "outputId": "aa1ddd0e-1c80-4909-aa67-838139566e21",
        "colab": {
          "base_uri": "https://localhost:8080/"
        }
      },
      "source": [
        "#TODO\n",
        "your_pet = int(input(\"Matilda has 10 pets. How many do you have?\"))\n",
        "Matilda_pet = 10\n",
        "more = bool(Matilda_pet <= your_pet)\n",
        "print(f\"The fact that you have more pets than Matilda is {more}\")"
      ],
      "execution_count": 18,
      "outputs": [
        {
          "output_type": "stream",
          "name": "stdout",
          "text": [
            "Matilda has 10 pets. How many do you have?1\n",
            "The fact that you have more pets than Matilda is False\n"
          ]
        }
      ]
    },
    {
      "cell_type": "code",
      "metadata": {
        "id": "lwP6YQqvBwU6"
      },
      "source": [
        ""
      ],
      "execution_count": null,
      "outputs": []
    }
  ]
}