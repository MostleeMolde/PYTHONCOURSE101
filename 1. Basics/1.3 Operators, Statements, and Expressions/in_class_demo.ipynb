{
  "nbformat": 4,
  "nbformat_minor": 0,
  "metadata": {
    "interpreter": {
      "hash": "fd61235da8d855c081cbd5d7c6398e4c179a40a950675235256f7f30499f1124"
    },
    "kernelspec": {
      "display_name": "Python 3.7.4 64-bit ('base': conda)",
      "name": "python3"
    },
    "language_info": {
      "codemirror_mode": {
        "name": "ipython",
        "version": 3
      },
      "file_extension": ".py",
      "mimetype": "text/x-python",
      "name": "python",
      "nbconvert_exporter": "python",
      "pygments_lexer": "ipython3",
      "version": "3.7.4"
    },
    "orig_nbformat": 4,
    "colab": {
      "name": "in_class_demo.ipynb",
      "provenance": []
    }
  },
  "cells": [
    {
      "cell_type": "markdown",
      "metadata": {
        "id": "dJGKaqsVYPF0"
      },
      "source": [
        "# Expressions\n",
        "Expressions are evaluations or operations that are reduced down to one or more values. In other words, expressions are ways to represent values. \n",
        "\n",
        "Examples of expressions are:\n",
        "* Doing Math        \n",
        "* evaluating Truth\n",
        "* concatenating strings\n",
        "* checking for membership\n",
        "\n",
        "**Lets look at some examples to see what this means**"
      ]
    },
    {
      "cell_type": "code",
      "metadata": {
        "id": "-P-CkNQjYPF2",
        "outputId": "8836e6fd-9a63-42d8-cfdf-c374743f58c6",
        "colab": {
          "base_uri": "https://localhost:8080/"
        }
      },
      "source": [
        "# expressions always produce a value \n",
        "#TODO: Write an expression that evaluates to 10\n",
        "5**1\n"
      ],
      "execution_count": 4,
      "outputs": [
        {
          "output_type": "execute_result",
          "data": {
            "text/plain": [
              "5"
            ]
          },
          "metadata": {},
          "execution_count": 4
        }
      ]
    },
    {
      "cell_type": "code",
      "metadata": {
        "id": "6SaraFVmYPF3",
        "outputId": "fabbefb1-46cb-41b0-8043-6d6693681ba4",
        "colab": {
          "base_uri": "https://localhost:8080/"
        }
      },
      "source": [
        "# more complex expression\n",
        "#TODO:  write an expression that uses multiplication, division, subtraction and addition\n",
        "5*10 -100**50/.000000000000000000000000000000000000000000000000000000100000000000000000000000000000001"
      ],
      "execution_count": 10,
      "outputs": [
        {
          "output_type": "execute_result",
          "data": {
            "text/plain": [
              "-1e+155"
            ]
          },
          "metadata": {},
          "execution_count": 10
        }
      ]
    },
    {
      "cell_type": "markdown",
      "metadata": {
        "id": "XRqYNYVdYPF3"
      },
      "source": [
        "<b>Expressions always involve values or functions and operators that evaluate to a new value</b>"
      ]
    },
    {
      "cell_type": "markdown",
      "metadata": {
        "id": "iB31sB2vYPF4"
      },
      "source": [
        "# Statements\n",
        "Statements are actions or commands that do something. Statements are like sentences that are made up of expressions.\n",
        "\n",
        "Examples of statements are:\n",
        "* variable assignment\n",
        "* printing \n",
        "* conditionals\n",
        "* loops"
      ]
    },
    {
      "cell_type": "code",
      "metadata": {
        "id": "VxoKxTd3YPF4",
        "outputId": "55568501-ae96-4bee-e8aa-c0e83b8926d0",
        "colab": {
          "base_uri": "https://localhost:8080/"
        }
      },
      "source": [
        "#TODO:  write variable assignment statement that creates a 5 element list\n",
        "var = [1,2,3,4]\n",
        "var"
      ],
      "execution_count": 11,
      "outputs": [
        {
          "output_type": "execute_result",
          "data": {
            "text/plain": [
              "[1, 2, 3, 4]"
            ]
          },
          "metadata": {},
          "execution_count": 11
        }
      ]
    },
    {
      "cell_type": "code",
      "metadata": {
        "id": "tt1UtSBdYPF4",
        "outputId": "6d0283b6-a0be-47cb-bcc6-e37c6e33c425",
        "colab": {
          "base_uri": "https://localhost:8080/"
        }
      },
      "source": [
        "#TODO:  Write a print statement\n",
        "print(\"HEY\")"
      ],
      "execution_count": 12,
      "outputs": [
        {
          "output_type": "stream",
          "name": "stdout",
          "text": [
            "HEY\n"
          ]
        }
      ]
    },
    {
      "cell_type": "code",
      "metadata": {
        "id": "Y9YMFp2PYPF5",
        "outputId": "9c2cb782-f1e6-41b6-eb41-23e334e09b52",
        "colab": {
          "base_uri": "https://localhost:8080/",
          "height": 37
        }
      },
      "source": [
        "#TODO:  create a statement made from an expression\n",
        "message = \"hello\" + \" Class\"\n",
        "message"
      ],
      "execution_count": 14,
      "outputs": [
        {
          "output_type": "execute_result",
          "data": {
            "application/vnd.google.colaboratory.intrinsic+json": {
              "type": "string"
            },
            "text/plain": [
              "'hello Class'"
            ]
          },
          "metadata": {},
          "execution_count": 14
        }
      ]
    },
    {
      "cell_type": "markdown",
      "metadata": {
        "id": "EQ0TUkPxYPF5"
      },
      "source": [
        "# The boolean Data type\n",
        "Booleans are used to indicate truth and can only have the values: True or False\n",
        "\n",
        "They are useful when writing logical or conditional expressions, or evaluating the truth of an expression (you will see examples of this soon)."
      ]
    },
    {
      "cell_type": "code",
      "metadata": {
        "id": "ieeUHm7BYPF6",
        "outputId": "7eeb4dc8-263e-45ec-c3c4-d0c136fada5b",
        "colab": {
          "base_uri": "https://localhost:8080/"
        }
      },
      "source": [
        "var = True\n",
        "var is True"
      ],
      "execution_count": 15,
      "outputs": [
        {
          "output_type": "execute_result",
          "data": {
            "text/plain": [
              "True"
            ]
          },
          "metadata": {},
          "execution_count": 15
        }
      ]
    },
    {
      "cell_type": "code",
      "metadata": {
        "id": "81gBS-0FYPF6",
        "outputId": "d10d286f-1f1e-466a-be6e-d252e33f132e",
        "colab": {
          "base_uri": "https://localhost:8080/"
        }
      },
      "source": [
        "var = False\n",
        "var is True"
      ],
      "execution_count": 17,
      "outputs": [
        {
          "output_type": "execute_result",
          "data": {
            "text/plain": [
              "False"
            ]
          },
          "metadata": {},
          "execution_count": 17
        }
      ]
    },
    {
      "cell_type": "markdown",
      "metadata": {
        "id": "UXk026GhYPF6"
      },
      "source": [
        "# Arithmetic Operators\n",
        "**Arithmetic operators are used to perform mathematical operations like addition, subtraction, multiplication, etc.**\n",
        "\n",
        "| Operator | Meaning                                                      | Example                  |\n",
        "| :------: | :----------------------------------------------------------- | :----------------------- |\n",
        "|    +     | Add two operands or unary plus                               | x + y+ 2                 |\n",
        "|    -     | Subtract right operand from the left or unary minus          | x - y- 2                 |\n",
        "|    *     | Multiply two operands                                        | x * y                    |\n",
        "|    /     | Divide left operand by the right one (always results into float) | x / y                |\n",
        "|    %     | Modulus - remainder of the division of left operand by the right | x % y (remainder of x/y) |\n",
        "|    //    | Floor division - division that results into whole number adjusted to the left in the number line | x // y  |\n",
        "|    **    | Exponent - left operand raised to the power of right         | x**y (x to the power y)  |\n",
        "\n"
      ]
    },
    {
      "cell_type": "code",
      "metadata": {
        "id": "fsEGlCVwYPF6",
        "outputId": "aaa045b9-d215-4a7b-b559-61e33331644f",
        "colab": {
          "base_uri": "https://localhost:8080/"
        }
      },
      "source": [
        "# arithmetic expressions \n",
        "#TODO SHow use cases for each operator\n",
        "var = 5+10\n",
        "print(var)\n",
        "var = 5-10\n",
        "print(var)\n",
        "var = 5*5\n",
        "print(var)\n",
        "var = 6/5\n",
        "print(var)\n",
        "var = 10 // 6\n",
        "print(var)\n",
        "var = 5**100\n",
        "print(var)"
      ],
      "execution_count": 31,
      "outputs": [
        {
          "output_type": "stream",
          "name": "stdout",
          "text": [
            "15\n",
            "-5\n",
            "25\n",
            "1.2\n",
            "1\n",
            "7888609052210118054117285652827862296732064351090230047702789306640625\n"
          ]
        }
      ]
    },
    {
      "cell_type": "markdown",
      "metadata": {
        "id": "1zZcvUiOYPF7"
      },
      "source": [
        "# Using the Modulus operator to check if a number is even or odd\n",
        "In programming, there will be a time where you may want to check if a number is even or odd. The Modulus operator gives us an easy way to do this check.\n",
        "\n",
        "**Remeber: Modulus division gives us the remainder**\n",
        "--\n",
        "\n",
        "**So if I were to do the following:**\n",
        "\n",
        "\n",
        "$9/2$ I get 4.5. Pretty simple\n",
        "\n",
        "**But now, If Instead I did:**\n",
        "\n",
        "$9\\% 2$ I get 1.\n",
        "\n",
        "This is because `2` can be multiplied `4` whole times which gives us `8`, but we can't add another `2`, otherwise we get `10`. So the remainder is `1`.\n",
        "\n",
        "**If I were to do this with an even number:**\n",
        "\n",
        "$10 \\% 2$ I get 0. *This is the case for any even number*\n",
        "\n",
        "**So, if we want to check if a number is even or odd, all we have to do is mod the number by 2 and check if the remainder is 0 or not.**\n",
        "--"
      ]
    },
    {
      "cell_type": "code",
      "metadata": {
        "id": "Yo_X91uiYPF7",
        "outputId": "ab5a7942-dbed-4ca4-e2c3-1a2e0d3c142b",
        "colab": {
          "base_uri": "https://localhost:8080/"
        }
      },
      "source": [
        "from random import randint\n",
        "#TODO: Check if the values are even or odd\n",
        "var = randint(0,1000000000000000000)\n",
        "var % 2, var"
      ],
      "execution_count": 41,
      "outputs": [
        {
          "output_type": "execute_result",
          "data": {
            "text/plain": [
              "(1, 507246307759002835)"
            ]
          },
          "metadata": {},
          "execution_count": 41
        }
      ]
    },
    {
      "cell_type": "markdown",
      "metadata": {
        "id": "oM063aqNYPF8"
      },
      "source": [
        "# Assignment Operators\n",
        "Assignment operators are used in Python to assign values to variables.\n",
        "\n",
        "a = 5 is a simple assignment operator that assigns the value 5 on the right to the variable a on the left.\n",
        "\n",
        "There are also various compound operators in Python like a += 5 that adds to the variable and later assigns the same. It is equivalent to a = a + 5.\n",
        "| Operator | Example | Equivalent to |\n",
        "| :------- | :------ | :------------ |\n",
        "| =        | x = 5   | x = 5         |\n",
        "| +=       | x += 5  | x = x + 5     |\n",
        "| -=       | x -= 5  | x = x - 5     |\n",
        "| *=       | x *= 5  | x = x * 5     |\n",
        "| /=       | x /= 5  | x = x / 5     |\n",
        "| %=       | x %= 5  | x = x % 5     |\n",
        "| //=      | x //= 5 | x = x // 5    |\n",
        "| **=      | x **= 5 | x = x ** 5    |"
      ]
    },
    {
      "cell_type": "code",
      "metadata": {
        "id": "zmk9p6XUYPF8",
        "outputId": "ac81d33c-5f12-434b-ac08-0721be7cca80",
        "colab": {
          "base_uri": "https://localhost:8080/"
        }
      },
      "source": [
        "# Write a Simple assignment\n",
        "x = 5\n",
        "#TODO\n",
        "print(f\"x = {x}\")\n",
        "\n",
        "# Write Compound assignments\n",
        "\n",
        "x += 10\n",
        "#TODO:  addition\n",
        "print(f\"x = {x}\")\n",
        "\n",
        "x -= 13\n",
        "#TODO: subtraction\n",
        "print(f\"x = {x}\")\n",
        "\n",
        "x*=4\n",
        "#TODO: multiplication\n",
        "print(f\"x = {x}\")\n",
        "\n",
        "x /=2\n",
        "#TODO: division\n",
        "print(f\"x = {x}\")\n",
        "\n",
        "x **=2\n",
        "\n",
        "#TODO: exponentiation\n",
        "print(f\"x = {x}\")\n"
      ],
      "execution_count": 50,
      "outputs": [
        {
          "output_type": "stream",
          "name": "stdout",
          "text": [
            "x = 5\n",
            "x = 15\n",
            "x = 2\n",
            "x = 8\n",
            "x = 4.0\n",
            "x = 16.0\n"
          ]
        }
      ]
    },
    {
      "cell_type": "markdown",
      "metadata": {
        "id": "M64rhZdIYPF9"
      },
      "source": [
        "# Comparison operators\n",
        "Comparison operators are used to compare values. It returns either True or False according to the condition.\n",
        "\n",
        "| Operator | Meaning                                                      | Example |\n",
        "| :------- | :----------------------------------------------------------- | :------ |\n",
        "| >        | Greater than - True if left operand is greater than the right | x > y   |\n",
        "| <        | Less than - True if left operand is less than the right      | x < y   |\n",
        "| ==       | Equal to - True if both operands are equal                   | x == y  |\n",
        "| !=       | Not equal to - True if operands are not equal                | x != y  |\n",
        "| >=       | Greater than or equal to - True if left operand is greater than or equal to the right | x >= y  |\n",
        "| <=       | Less than or equal to - True if left operand is less than or equal to the right | x <= y  |"
      ]
    },
    {
      "cell_type": "code",
      "metadata": {
        "id": "nAKyfq6YYPF9",
        "outputId": "6bb8f839-4eb2-466e-822f-90aa4715f828",
        "colab": {
          "base_uri": "https://localhost:8080/"
        }
      },
      "source": [
        "# comparison expressions\n",
        "#TODO showcase each comparison operator\n",
        "print(10 > 5)\n",
        "print(10 < 5)\n",
        "print(10 == 5)\n",
        "print(10 != 5)\n",
        "print(10 >= 5)\n",
        "print(10 <= 5)"
      ],
      "execution_count": 72,
      "outputs": [
        {
          "output_type": "stream",
          "name": "stdout",
          "text": [
            "True\n",
            "False\n",
            "False\n",
            "True\n",
            "True\n",
            "False\n"
          ]
        }
      ]
    },
    {
      "cell_type": "markdown",
      "metadata": {
        "id": "wdd2v-uHYPF9"
      },
      "source": [
        "# Logical operators\n",
        "Logical operators are used to evaluate the truth of an expression.\n",
        "\n",
        "| Operator | Meaning                                            | Example |\n",
        "| :------- | :------------------------------------------------- | :------ |\n",
        "| and      | True if both the operands are true                 | x and y |\n",
        "| or       | True if either of the operands is true             | x or y  |\n",
        "| not      | True if operand is false (complements the operand) | not x   |"
      ]
    },
    {
      "cell_type": "code",
      "metadata": {
        "id": "5y3y6nd9YPF-",
        "outputId": "e8ef14ff-b7f5-4fe3-91dc-3b98a372aed2",
        "colab": {
          "base_uri": "https://localhost:8080/"
        }
      },
      "source": [
        "# Logical Expressions\n",
        "\n",
        "# AND\n",
        "True and True and True and True and False\n",
        "\n",
        "# OR\n",
        "True or False\n",
        "\n",
        "# NOT\n",
        "not True\n"
      ],
      "execution_count": 87,
      "outputs": [
        {
          "output_type": "execute_result",
          "data": {
            "text/plain": [
              "False"
            ]
          },
          "metadata": {},
          "execution_count": 87
        }
      ]
    },
    {
      "cell_type": "code",
      "metadata": {
        "id": "PlzeUQ3qYPF-",
        "outputId": "7f75fd80-dcd6-4b78-8f32-3ecab9d8dbc3",
        "colab": {
          "base_uri": "https://localhost:8080/"
        }
      },
      "source": [
        "# More Complex logical expressions\n",
        "\n",
        "# AND\n",
        "((True and True ) or (True and False)) or (True  or not True)\n",
        "\n",
        "# OR\n",
        "(True or True) and (False or not True)\n"
      ],
      "execution_count": 92,
      "outputs": [
        {
          "output_type": "execute_result",
          "data": {
            "text/plain": [
              "False"
            ]
          },
          "metadata": {},
          "execution_count": 92
        }
      ]
    },
    {
      "cell_type": "markdown",
      "metadata": {
        "id": "lC427SChYPF_"
      },
      "source": [
        "# Membership Operators\n",
        "used to test whether a value or variable is found in a sequence (string, list, tuple, set and dictionary).\n",
        "\n",
        "**<em>In a dictionary we can only test for presence of key, not the value.</em>**\n",
        "| Operator | Meaning                                             | Example    |\n",
        "| :------- | :-------------------------------------------------- | :--------- |\n",
        "| in       | True if value/variable is found in the sequence     | 5 in x     |\n",
        "| not in   | True if value/variable is not found in the sequence | 5 not in x |"
      ]
    },
    {
      "cell_type": "code",
      "metadata": {
        "id": "IaqDvzGzYPGA",
        "outputId": "d1a16060-0eb8-40c3-dbee-62a580b0f138",
        "colab": {
          "base_uri": "https://localhost:8080/"
        }
      },
      "source": [
        "#TODO: check if 'world' is in the string 'hello world'\n",
        "var = \"Hello World\"\n",
        "\"World\" in var"
      ],
      "execution_count": 93,
      "outputs": [
        {
          "output_type": "execute_result",
          "data": {
            "text/plain": [
              "True"
            ]
          },
          "metadata": {},
          "execution_count": 93
        }
      ]
    },
    {
      "cell_type": "code",
      "metadata": {
        "id": "-D_O2tsXYPGA",
        "outputId": "cc927b65-936a-4994-881c-2db4cdcb57ab",
        "colab": {
          "base_uri": "https://localhost:8080/"
        }
      },
      "source": [
        "#TODO: check to see if the value 23 is in the list\n",
        "var = [23, 34, 1.43, 99]\n",
        "23 in var"
      ],
      "execution_count": 94,
      "outputs": [
        {
          "output_type": "execute_result",
          "data": {
            "text/plain": [
              "True"
            ]
          },
          "metadata": {},
          "execution_count": 94
        }
      ]
    },
    {
      "cell_type": "code",
      "metadata": {
        "id": "fUq4eNh2YPGA",
        "outputId": "3a9f256f-7c05-440f-a51d-203605bcf002",
        "colab": {
          "base_uri": "https://localhost:8080/"
        }
      },
      "source": [
        "#TODO: check to see if the value 11 is not in the list\n",
        "var = [12,23,34,45,56]\n",
        "11 not in var"
      ],
      "execution_count": 95,
      "outputs": [
        {
          "output_type": "execute_result",
          "data": {
            "text/plain": [
              "True"
            ]
          },
          "metadata": {},
          "execution_count": 95
        }
      ]
    },
    {
      "cell_type": "markdown",
      "metadata": {
        "id": "tC9WLAHJYPGB"
      },
      "source": [
        "# Identity Operators\n",
        "**is** and **is not** are the identity operators in Python. They are used to check if two values (or variables) are located on the same part of the memory. \n",
        "\n",
        "***Two variables that are equal does not imply that they are identical.***\n",
        "\n",
        "| Operator | Meaning                                                      | Example       |\n",
        "| :------- | :----------------------------------------------------------- | :------------ |\n",
        "| is       | True if the operands are identical (refer to the same object) | x is True     |\n",
        "| is not   | True if the operands are not identical (do not refer to the same object) | x is not True |\n",
        "\n",
        "<em><b>The concept of objects will make more sense when we cover objects in Module 7</b></em>"
      ]
    },
    {
      "cell_type": "code",
      "metadata": {
        "id": "2a1Menu6YPGB",
        "outputId": "98fa29fc-a00b-4379-e2d6-548aa92258cb",
        "colab": {
          "base_uri": "https://localhost:8080/"
        }
      },
      "source": [
        "# remember the id() function?\n",
        "var = 25\n",
        "#TODO What is the memory address of var\n",
        "print(id(var))\n",
        "#TODO What is the memory address of 25\n",
        "print(id(25))\n",
        "#TODO is var and 25 identical?\n",
        "print(var is 25)\n",
        "# Two variables that are equal does not imply that they are identical.\n",
        "var2 = [1,2,3,4]\n",
        "var3 = [1,2,3,4]\n",
        "#TODO What is the memory address of the list [1,2,3,4]\n",
        "print(id([1,2,3,4]))\n",
        "#TODO What is the memory address of var2 and var3\n",
        "print(id(var2))\n",
        "print(id(var3))\n",
        "#TODO Is var2 and var3 identical?\n",
        "print(var2 is var3)\n",
        "# creating identical variables\n",
        "var4 = [4,3,2,1]\n",
        "var5 = var4\n",
        "#TODO What is the momry address of the list [4,3,2,1]\n",
        "#TODO What is the memory address of var4 and var5\n",
        "#TODO Is var4 and var5 identical?\n"
      ],
      "execution_count": 101,
      "outputs": [
        {
          "output_type": "stream",
          "name": "stdout",
          "text": [
            "94843157916928\n",
            "94843157916928\n",
            "True\n",
            "140300125553280\n",
            "140300126566352\n",
            "140300125466128\n",
            "False\n"
          ]
        }
      ]
    },
    {
      "cell_type": "markdown",
      "metadata": {
        "id": "JuCxYixxYPGB"
      },
      "source": [
        "## Why is this the case???\n",
        "\n",
        "In the first example, we have the literal value 25. When we assign 25 to var, nothing new happens, we are simply referencing the memory address where 25 is located with a variable. \n",
        "\n",
        "In the second example, we create a list of 4 elements. Lists aren't literal values, they're objects. Each time an object is created, it is assigned its own location in memory, even if the elements are the same. This is because we don't actually care about what the list is holding, we only care about the object itself. Since each list is created at different moments, they are different instances of list objects. Since theyre different objects, they are assigned different memory locations. So when we check to see if the two lists are identical, we see that this is false because they do not share memory locations.\n",
        "\n",
        "In the third example, we create the variable 'var4' and assign a 4 element list to it. We then create the variable 'var5' and assign it the value of 'var4'. What this basically does is make var5 and var4 point to the value at the same memory address, which is the 4 element list. No new object is created, it's just that two variable now reference the same memory location.\n",
        "\n",
        "<img src = \"objects.png\" width = 900 height = 500>\n"
      ]
    }
  ]
}