{
  "nbformat": 4,
  "nbformat_minor": 0,
  "metadata": {
    "interpreter": {
      "hash": "fd61235da8d855c081cbd5d7c6398e4c179a40a950675235256f7f30499f1124"
    },
    "kernelspec": {
      "display_name": "Python 3.7.4 64-bit ('base': conda)",
      "name": "python3"
    },
    "language_info": {
      "codemirror_mode": {
        "name": "ipython",
        "version": 3
      },
      "file_extension": ".py",
      "mimetype": "text/x-python",
      "name": "python",
      "nbconvert_exporter": "python",
      "pygments_lexer": "ipython3",
      "version": "3.7.4"
    },
    "orig_nbformat": 4,
    "colab": {
      "name": "operators and expressions tasks.ipynb",
      "provenance": []
    }
  },
  "cells": [
    {
      "cell_type": "markdown",
      "metadata": {
        "id": "P3ZZIV9ayo4D"
      },
      "source": [
        "# Expression Exercises"
      ]
    },
    {
      "cell_type": "markdown",
      "metadata": {
        "id": "gJ2ED365yo4H"
      },
      "source": [
        "## TASK 1\n",
        "write an expression that evaluates to 20"
      ]
    },
    {
      "cell_type": "code",
      "metadata": {
        "id": "lfbRe9Ixyo4I"
      },
      "source": [
        "#TODO:\n",
        "10+10-0"
      ],
      "execution_count": null,
      "outputs": []
    },
    {
      "cell_type": "markdown",
      "metadata": {
        "id": "LTdWPaonyo4L"
      },
      "source": [
        "## TASK 2\n",
        "write an expression that evaluates to -45"
      ]
    },
    {
      "cell_type": "code",
      "metadata": {
        "id": "bwNz7Euzyo4M"
      },
      "source": [
        "#TODO:\n",
        "45-90"
      ],
      "execution_count": null,
      "outputs": []
    },
    {
      "cell_type": "markdown",
      "metadata": {
        "id": "baAHaUWVyo4N"
      },
      "source": [
        "## TASK 3 \n",
        "create a 5 element list and write an expression that evaluates to the length of the list squared"
      ]
    },
    {
      "cell_type": "code",
      "metadata": {
        "id": "sjEhbdXRyo4N",
        "outputId": "bde2ba21-05ea-498f-8834-a7c50a405411",
        "colab": {
          "base_uri": "https://localhost:8080/"
        }
      },
      "source": [
        "#TODO:\n",
        "var = [1,2,3,4,5]\n",
        "len(var)**2"
      ],
      "execution_count": 2,
      "outputs": [
        {
          "output_type": "execute_result",
          "data": {
            "text/plain": [
              "25"
            ]
          },
          "metadata": {},
          "execution_count": 2
        }
      ]
    },
    {
      "cell_type": "markdown",
      "metadata": {
        "id": "j7WddDpTyo4N"
      },
      "source": [
        "# Statement Exercises"
      ]
    },
    {
      "cell_type": "markdown",
      "metadata": {
        "id": "BNsxDM7lyo4O"
      },
      "source": [
        "## TASK 1\n",
        "Write a simple assignment statement that assigns 10 to var"
      ]
    },
    {
      "cell_type": "code",
      "metadata": {
        "id": "cDT4UaTLyo4O",
        "outputId": "35ea970e-c647-415a-9b86-7c9b64efabfd",
        "colab": {
          "base_uri": "https://localhost:8080/"
        }
      },
      "source": [
        "#TODO:\n",
        "var = 10\n",
        "var"
      ],
      "execution_count": 5,
      "outputs": [
        {
          "output_type": "execute_result",
          "data": {
            "text/plain": [
              "10"
            ]
          },
          "metadata": {},
          "execution_count": 5
        }
      ]
    },
    {
      "cell_type": "markdown",
      "metadata": {
        "id": "WoacG2AByo4P"
      },
      "source": [
        "## TASK 2\n",
        "write an expression that evaluates to 200 and assign it to var"
      ]
    },
    {
      "cell_type": "code",
      "metadata": {
        "id": "EfxjCUOOyo4P",
        "outputId": "5e64a26f-6ff5-49a9-f551-4d4daef21525",
        "colab": {
          "base_uri": "https://localhost:8080/"
        }
      },
      "source": [
        "#TODO:\n",
        "var = (10**2)*2\n",
        "var"
      ],
      "execution_count": 6,
      "outputs": [
        {
          "output_type": "execute_result",
          "data": {
            "text/plain": [
              "200"
            ]
          },
          "metadata": {},
          "execution_count": 6
        }
      ]
    },
    {
      "cell_type": "markdown",
      "metadata": {
        "id": "pCiBX4-Ayo4P"
      },
      "source": [
        "## TASK 3\n",
        "write a statement that prints out your first and last name separated by semi-colons."
      ]
    },
    {
      "cell_type": "code",
      "metadata": {
        "id": "DEv-PgjGyo4Q",
        "outputId": "f3c70036-3ebb-481c-de40-cd355b5144bd",
        "colab": {
          "base_uri": "https://localhost:8080/"
        }
      },
      "source": [
        "#TODO:\n",
        "print(\"Oliver\",\"Gels\",sep = \";\")"
      ],
      "execution_count": 10,
      "outputs": [
        {
          "output_type": "stream",
          "name": "stdout",
          "text": [
            "Oliver;Gels\n"
          ]
        }
      ]
    },
    {
      "cell_type": "markdown",
      "metadata": {
        "id": "KNuVyPiQyo4Q"
      },
      "source": [
        "# Arithmetic operator exercises"
      ]
    },
    {
      "cell_type": "markdown",
      "metadata": {
        "id": "5Cwq0B5Uyo4Q"
      },
      "source": [
        "## TASK 1\n",
        "calculate the product of 6 and 7, then floor divide the result by 3 and assign the value to var. Then print out the result."
      ]
    },
    {
      "cell_type": "code",
      "metadata": {
        "id": "oEXLpcLkyo4R",
        "outputId": "991f0a04-db54-4bd0-8452-4595f3c2b640",
        "colab": {
          "base_uri": "https://localhost:8080/"
        }
      },
      "source": [
        "#TODO:\n",
        "var = (6*7)//3\n",
        "print(var)"
      ],
      "execution_count": 11,
      "outputs": [
        {
          "output_type": "stream",
          "name": "stdout",
          "text": [
            "14\n"
          ]
        }
      ]
    },
    {
      "cell_type": "markdown",
      "metadata": {
        "id": "TD1-En8pyo4R"
      },
      "source": [
        "## TASK 2\n",
        "* Calculate 50 divided by 5 and assign the result to `var`.\n",
        "* Then find the remainder of 20 divided by 6 and assign the result to `remainder` \n",
        "* Calculate `var` to the power of `remainder` and print the result"
      ]
    },
    {
      "cell_type": "code",
      "metadata": {
        "id": "ABXhtVkYyo4S",
        "outputId": "e3839f04-b879-4c62-dd3e-755844c376c6",
        "colab": {
          "base_uri": "https://localhost:8080/"
        }
      },
      "source": [
        "#TODO:\n",
        "var = 50/5\n",
        "remainder = 20%6\n",
        "print(var**remainder)"
      ],
      "execution_count": 12,
      "outputs": [
        {
          "output_type": "stream",
          "name": "stdout",
          "text": [
            "100.0\n"
          ]
        }
      ]
    },
    {
      "cell_type": "markdown",
      "metadata": {
        "id": "UcmYyhHRyo4S"
      },
      "source": [
        "## TASK 3\n",
        "This is the formula for the pythagorean therom\n",
        "\n",
        "$a^{2}+b^{2}=c^{2}$\n",
        "\n",
        "using the variables below, solve for $c^{2}$"
      ]
    },
    {
      "cell_type": "code",
      "metadata": {
        "id": "o-PSHKKSyo4T",
        "outputId": "11d42d61-7a01-4579-bb96-1366634f6e9a",
        "colab": {
          "base_uri": "https://localhost:8080/"
        }
      },
      "source": [
        "a = 8\n",
        "b = 4\n",
        "#TODO: \n",
        "c_squared = a**2 + b**2\n",
        "c_squared"
      ],
      "execution_count": 13,
      "outputs": [
        {
          "output_type": "execute_result",
          "data": {
            "text/plain": [
              "80"
            ]
          },
          "metadata": {},
          "execution_count": 13
        }
      ]
    },
    {
      "cell_type": "markdown",
      "metadata": {
        "id": "46V9yoMOyo4T"
      },
      "source": [
        "# Comparison operators exercises"
      ]
    },
    {
      "cell_type": "markdown",
      "metadata": {
        "id": "DrdgwtZ0yo4T"
      },
      "source": [
        "## TASK 1\n",
        "check to see if x is greater than y"
      ]
    },
    {
      "cell_type": "code",
      "metadata": {
        "id": "FH4zdQVZyo4T",
        "outputId": "69855ab5-e97b-4b82-89a6-bb157306c663",
        "colab": {
          "base_uri": "https://localhost:8080/"
        }
      },
      "source": [
        "x = 10\n",
        "y = 5\n",
        "#TODO:\n",
        "x > y"
      ],
      "execution_count": 14,
      "outputs": [
        {
          "output_type": "execute_result",
          "data": {
            "text/plain": [
              "True"
            ]
          },
          "metadata": {},
          "execution_count": 14
        }
      ]
    },
    {
      "cell_type": "markdown",
      "metadata": {
        "id": "fLlc3oAxyo4U"
      },
      "source": [
        "## TASK 2\n",
        "check to see if x is less than y"
      ]
    },
    {
      "cell_type": "code",
      "metadata": {
        "id": "_5UhcYH0yo4U",
        "outputId": "bd84bce7-2b20-483c-a59e-abd906582ecc",
        "colab": {
          "base_uri": "https://localhost:8080/"
        }
      },
      "source": [
        "x = 10\n",
        "y = 5\n",
        "#TODO:\n",
        "x < y"
      ],
      "execution_count": 15,
      "outputs": [
        {
          "output_type": "execute_result",
          "data": {
            "text/plain": [
              "False"
            ]
          },
          "metadata": {},
          "execution_count": 15
        }
      ]
    },
    {
      "cell_type": "markdown",
      "metadata": {
        "id": "1ivHRRjTyo4U"
      },
      "source": [
        "## TASK 3\n",
        "check to see if a is equal to b"
      ]
    },
    {
      "cell_type": "code",
      "metadata": {
        "id": "2R9P0qVgyo4V",
        "outputId": "3158a344-5cd4-48b4-def8-f0294cd83c20",
        "colab": {
          "base_uri": "https://localhost:8080/"
        }
      },
      "source": [
        "a = (True or False) and (True and True)\n",
        "b = False\n",
        "#TODO:\n",
        "a == b"
      ],
      "execution_count": 16,
      "outputs": [
        {
          "output_type": "execute_result",
          "data": {
            "text/plain": [
              "False"
            ]
          },
          "metadata": {},
          "execution_count": 16
        }
      ]
    },
    {
      "cell_type": "markdown",
      "metadata": {
        "id": "BP-n0Cubyo4V"
      },
      "source": [
        "## TASK 4 \n",
        "check to see if a is greater than or equal to b"
      ]
    },
    {
      "cell_type": "code",
      "metadata": {
        "id": "utAhKChbyo4V",
        "outputId": "455c3ca1-bafc-4867-f3b4-a5df7f0a85bd",
        "colab": {
          "base_uri": "https://localhost:8080/"
        }
      },
      "source": [
        "a = len([1,2,3,4]) ** 2\n",
        "b = (10//3) * 5\n",
        "#TODO:\n",
        "a >=b"
      ],
      "execution_count": 17,
      "outputs": [
        {
          "output_type": "execute_result",
          "data": {
            "text/plain": [
              "True"
            ]
          },
          "metadata": {},
          "execution_count": 17
        }
      ]
    },
    {
      "cell_type": "markdown",
      "metadata": {
        "id": "iGz5Xk0lyo4W"
      },
      "source": [
        "## TASK 5\n",
        "Check to see if a is not equal to b"
      ]
    },
    {
      "cell_type": "code",
      "metadata": {
        "id": "bgCxr6NLyo4W",
        "outputId": "e2ed8d24-95f1-4efe-eba2-2dd46840f535",
        "colab": {
          "base_uri": "https://localhost:8080/"
        }
      },
      "source": [
        "a = \"I am a\"\n",
        "b = \"I am b\"\n",
        "#TODO:\n",
        "a != b"
      ],
      "execution_count": 18,
      "outputs": [
        {
          "output_type": "execute_result",
          "data": {
            "text/plain": [
              "True"
            ]
          },
          "metadata": {},
          "execution_count": 18
        }
      ]
    },
    {
      "cell_type": "markdown",
      "metadata": {
        "id": "Mbktry7Fyo4X"
      },
      "source": [
        "## TASK 6\n",
        "check to see if a is less than or equal to b"
      ]
    },
    {
      "cell_type": "code",
      "metadata": {
        "id": "mS25wzxoyo4Y",
        "outputId": "c4954cbd-a46c-4de3-a446-2f76206ed990",
        "colab": {
          "base_uri": "https://localhost:8080/"
        }
      },
      "source": [
        "a = 99\n",
        "b = len([x for x in range(100)]) - 1\n",
        "#TODO:\n",
        "a <= b"
      ],
      "execution_count": 19,
      "outputs": [
        {
          "output_type": "execute_result",
          "data": {
            "text/plain": [
              "True"
            ]
          },
          "metadata": {},
          "execution_count": 19
        }
      ]
    },
    {
      "cell_type": "markdown",
      "metadata": {
        "id": "7KOGReldyo4Z"
      },
      "source": [
        "# Logic exercises"
      ]
    },
    {
      "cell_type": "markdown",
      "metadata": {
        "id": "Rq97uaEryo4b"
      },
      "source": [
        "## TASK 1\n",
        "Create and evaluate the truth of the following\n",
        "* `a` is True\n",
        "* `b` is False\n",
        "* Is `a` and `b` true?"
      ]
    },
    {
      "cell_type": "code",
      "metadata": {
        "id": "LEgxaqCYyo4b",
        "outputId": "853376dc-5cc6-4216-d2fc-2477a730f06d",
        "colab": {
          "base_uri": "https://localhost:8080/"
        }
      },
      "source": [
        "#TODO:\n",
        "a = True\n",
        "b = False\n",
        "a and b"
      ],
      "execution_count": 20,
      "outputs": [
        {
          "output_type": "execute_result",
          "data": {
            "text/plain": [
              "False"
            ]
          },
          "metadata": {},
          "execution_count": 20
        }
      ]
    },
    {
      "cell_type": "markdown",
      "metadata": {
        "id": "DdpvsWcXyo4c"
      },
      "source": [
        "## TASK 2\n",
        "* assign the expression 5 is greater than 2, to `a`\n",
        "* assign the expression len([1,2,3,4]) is less than 10, to `b`\n",
        "* What is the result of the expression `a or b is true`"
      ]
    },
    {
      "cell_type": "code",
      "metadata": {
        "id": "DVcN4SUEyo4c",
        "outputId": "537d0c99-5358-4587-9875-ff00a4b10368",
        "colab": {
          "base_uri": "https://localhost:8080/"
        }
      },
      "source": [
        "#TODO:\n",
        "a = 5>2\n",
        "b = len([1,2,3,4]) < 10\n",
        "a or b"
      ],
      "execution_count": 22,
      "outputs": [
        {
          "output_type": "execute_result",
          "data": {
            "text/plain": [
              "True"
            ]
          },
          "metadata": {},
          "execution_count": 22
        }
      ]
    },
    {
      "cell_type": "markdown",
      "metadata": {
        "id": "jaiL--_cyo4d"
      },
      "source": [
        "## TASK 3 \n",
        "what are the values for `a`, `b`, `x`, and `y` if the expression `(a and b) and not (x or y)` is true?\n",
        "\n",
        "***There may be more than one solution***"
      ]
    },
    {
      "cell_type": "code",
      "metadata": {
        "id": "qVkhWV5Lyo4d",
        "outputId": "7bbf9235-35ea-4b62-91e8-e33e8e595bd9",
        "colab": {
          "base_uri": "https://localhost:8080/"
        }
      },
      "source": [
        "a = True\n",
        "b = True\n",
        "x = False\n",
        "y = False\n",
        "(a and b) and not (x or y)\n",
        "\n"
      ],
      "execution_count": 23,
      "outputs": [
        {
          "output_type": "execute_result",
          "data": {
            "text/plain": [
              "True"
            ]
          },
          "metadata": {},
          "execution_count": 23
        }
      ]
    },
    {
      "cell_type": "markdown",
      "metadata": {
        "id": "WPG6SGxCyo4d"
      },
      "source": [
        "## TASK 4\n",
        "What are the values for `x` and `y` if the expression    `not((x and not y) or (not x and not y))` evaluates to false.\n",
        "\n",
        "***There may be more than one solution***"
      ]
    },
    {
      "cell_type": "code",
      "metadata": {
        "id": "DNrQmdGzyo4e",
        "outputId": "ebff4e1b-884a-4f2c-8cb9-50f350e27bb9",
        "colab": {
          "base_uri": "https://localhost:8080/"
        }
      },
      "source": [
        "x = True\n",
        "y = False\n",
        "not((x and not y) or (not x and not y))\n"
      ],
      "execution_count": 24,
      "outputs": [
        {
          "output_type": "execute_result",
          "data": {
            "text/plain": [
              "False"
            ]
          },
          "metadata": {},
          "execution_count": 24
        }
      ]
    },
    {
      "cell_type": "markdown",
      "metadata": {
        "id": "opCDZmXzyo4f"
      },
      "source": [
        "# Membership exercises"
      ]
    },
    {
      "cell_type": "markdown",
      "metadata": {
        "id": "5QMLgVTmyo4f"
      },
      "source": [
        "## TASK 1\n",
        "Check to see if 'burn' is present in the string and print the result"
      ]
    },
    {
      "cell_type": "code",
      "metadata": {
        "id": "vKDnnPyCyo4f",
        "outputId": "3d77d4b9-4db0-4bba-a2dc-b6442fdd20cc",
        "colab": {
          "base_uri": "https://localhost:8080/"
        }
      },
      "source": [
        "string = \"Wasburn\"\n",
        "\"burn\" in string"
      ],
      "execution_count": 25,
      "outputs": [
        {
          "output_type": "execute_result",
          "data": {
            "text/plain": [
              "True"
            ]
          },
          "metadata": {},
          "execution_count": 25
        }
      ]
    },
    {
      "cell_type": "markdown",
      "metadata": {
        "id": "lSMj4pJuyo4f"
      },
      "source": [
        "## TASK 2\n",
        "check to see if 'Grandma' is present in the tuple and print the result"
      ]
    },
    {
      "cell_type": "code",
      "metadata": {
        "id": "7WMGz5x-yo4g",
        "outputId": "1e763adf-c0be-455a-909a-8becd734399f",
        "colab": {
          "base_uri": "https://localhost:8080/"
        }
      },
      "source": [
        "tpl = (\"Mom\", \"Dad\", \"Brother\", \"Brother\", \"Sister\", \"Pet\")\n",
        "\"Grandma\" in tpl\n"
      ],
      "execution_count": 26,
      "outputs": [
        {
          "output_type": "execute_result",
          "data": {
            "text/plain": [
              "False"
            ]
          },
          "metadata": {},
          "execution_count": 26
        }
      ]
    },
    {
      "cell_type": "markdown",
      "metadata": {
        "id": "IPcOMKHtyo4g"
      },
      "source": [
        "## TASK 3\n",
        "Is 10 squared present in the list?"
      ]
    },
    {
      "cell_type": "code",
      "metadata": {
        "id": "iE5nm5GUyo4g",
        "outputId": "b48db458-1a11-4df2-ebe9-7fb5f7168c4a",
        "colab": {
          "base_uri": "https://localhost:8080/"
        }
      },
      "source": [
        "lst = [100 - 10, 99 + 6, 100 ** .5, 'Bruh']\n",
        "10**2 in lst"
      ],
      "execution_count": 27,
      "outputs": [
        {
          "output_type": "execute_result",
          "data": {
            "text/plain": [
              "False"
            ]
          },
          "metadata": {},
          "execution_count": 27
        }
      ]
    },
    {
      "cell_type": "markdown",
      "metadata": {
        "id": "q27U92s6yo4g"
      },
      "source": [
        "## TASK 4\n",
        "Is the key 'awareness' not in the dictionary?"
      ]
    },
    {
      "cell_type": "code",
      "metadata": {
        "id": "YvcGTJnDyo4g"
      },
      "source": [
        "dct = {'mind':\"Thinking\",\n",
        "       'body':\"Feeling\",\n",
        "       'world':\"Acting\"}\n",
        "#TODO"
      ],
      "execution_count": null,
      "outputs": []
    },
    {
      "cell_type": "markdown",
      "metadata": {
        "id": "hXbzdCKvyo4h"
      },
      "source": [
        "# Identity exercises"
      ]
    },
    {
      "cell_type": "markdown",
      "metadata": {
        "id": "j0sV8yUcyo4h"
      },
      "source": [
        "## TASK 1\n",
        "are the two variables identical?"
      ]
    },
    {
      "cell_type": "code",
      "metadata": {
        "id": "WOp4REkMyo4h",
        "outputId": "afb63efc-96f4-469b-8399-489075205950",
        "colab": {
          "base_uri": "https://localhost:8080/"
        }
      },
      "source": [
        "var = 44\n",
        "var2 = 50 - 6\n",
        "var is var2"
      ],
      "execution_count": 28,
      "outputs": [
        {
          "output_type": "execute_result",
          "data": {
            "text/plain": [
              "True"
            ]
          },
          "metadata": {},
          "execution_count": 28
        }
      ]
    },
    {
      "cell_type": "markdown",
      "metadata": {
        "id": "aCvzphswyo4h"
      },
      "source": [
        "## TASK 2\n",
        "are the two variables identical"
      ]
    },
    {
      "cell_type": "code",
      "metadata": {
        "id": "aNATVwBSyo4h",
        "outputId": "473b6948-42f0-4e93-e83a-e2beb405e1d6",
        "colab": {
          "base_uri": "https://localhost:8080/"
        }
      },
      "source": [
        "var = len([1,2,3,4,5])\n",
        "var2 = len([54,23,54,12,69])\n",
        "var is var2"
      ],
      "execution_count": 29,
      "outputs": [
        {
          "output_type": "execute_result",
          "data": {
            "text/plain": [
              "True"
            ]
          },
          "metadata": {},
          "execution_count": 29
        }
      ]
    },
    {
      "cell_type": "markdown",
      "metadata": {
        "id": "93AphASiyo4h"
      },
      "source": [
        "## TASK 3\n",
        "Are the two variables identical?"
      ]
    },
    {
      "cell_type": "code",
      "metadata": {
        "id": "XjFRcF01yo4i",
        "outputId": "67fcd16c-bb2b-469f-cf09-43a1a48d1613",
        "colab": {
          "base_uri": "https://localhost:8080/"
        }
      },
      "source": [
        "var = [10, 12, 14, 16]\n",
        "var2 = [10, 12, 14, 16]\n",
        "var is var2"
      ],
      "execution_count": 30,
      "outputs": [
        {
          "output_type": "execute_result",
          "data": {
            "text/plain": [
              "False"
            ]
          },
          "metadata": {},
          "execution_count": 30
        }
      ]
    },
    {
      "cell_type": "markdown",
      "metadata": {
        "id": "3re35Jqvyo4i"
      },
      "source": [
        "## TASK 4\n",
        "Are the two variables identical?"
      ]
    },
    {
      "cell_type": "code",
      "metadata": {
        "id": "GhMOP9lTyo4i",
        "outputId": "e5dbb133-a852-48c2-85b5-dcd10746b9f0",
        "colab": {
          "base_uri": "https://localhost:8080/"
        }
      },
      "source": [
        "var = {1: 111, 2:222, 3:333}\n",
        "var2 = var\n",
        "var is var2"
      ],
      "execution_count": 31,
      "outputs": [
        {
          "output_type": "execute_result",
          "data": {
            "text/plain": [
              "True"
            ]
          },
          "metadata": {},
          "execution_count": 31
        }
      ]
    },
    {
      "cell_type": "markdown",
      "metadata": {
        "id": "SdkXp3iXyo4i"
      },
      "source": [
        "## TASK 5 \n",
        "are the two variables not identical?"
      ]
    },
    {
      "cell_type": "code",
      "metadata": {
        "id": "ENVqG5mTyo4i",
        "outputId": "ebea0d22-7137-42f3-ae99-5b29fd67133c",
        "colab": {
          "base_uri": "https://localhost:8080/"
        }
      },
      "source": [
        "var = 'Hello'\n",
        "var2 = 'hello'\n",
        "var is not var2"
      ],
      "execution_count": 32,
      "outputs": [
        {
          "output_type": "execute_result",
          "data": {
            "text/plain": [
              "True"
            ]
          },
          "metadata": {},
          "execution_count": 32
        }
      ]
    },
    {
      "cell_type": "code",
      "metadata": {
        "id": "KxYgsCi-2wSM"
      },
      "source": [
        ""
      ],
      "execution_count": null,
      "outputs": []
    }
  ]
}