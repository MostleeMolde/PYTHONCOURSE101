{
  "nbformat": 4,
  "nbformat_minor": 0,
  "metadata": {
    "interpreter": {
      "hash": "fd61235da8d855c081cbd5d7c6398e4c179a40a950675235256f7f30499f1124"
    },
    "kernelspec": {
      "display_name": "Python 3.7.4 64-bit ('base': conda)",
      "name": "python3"
    },
    "language_info": {
      "codemirror_mode": {
        "name": "ipython",
        "version": 3
      },
      "file_extension": ".py",
      "mimetype": "text/x-python",
      "name": "python",
      "nbconvert_exporter": "python",
      "pygments_lexer": "ipython3",
      "version": "3.7.4"
    },
    "orig_nbformat": 4,
    "colab": {
      "name": "variables tasks.ipynb",
      "provenance": []
    }
  },
  "cells": [
    {
      "cell_type": "markdown",
      "metadata": {
        "id": "-QOoCBzbxA1z"
      },
      "source": [
        "# Variable Exercises"
      ]
    },
    {
      "cell_type": "markdown",
      "metadata": {
        "id": "DyNzs-e4xA11"
      },
      "source": [
        "## Task 1\n",
        "<b>Create a numeric variable and print out its memory address</b>\n",
        "\n",
        "***You print memory addresses using the id() function***"
      ]
    },
    {
      "cell_type": "code",
      "metadata": {
        "id": "ihFQwkJNxA11",
        "outputId": "b0bdff19-382f-4cfe-dadf-ec5f48314434",
        "colab": {
          "base_uri": "https://localhost:8080/"
        }
      },
      "source": [
        "# Code goes here\n",
        "nubmer = 10\n",
        "id(nubmer)"
      ],
      "execution_count": 1,
      "outputs": [
        {
          "output_type": "execute_result",
          "data": {
            "text/plain": [
              "94574913129248"
            ]
          },
          "metadata": {},
          "execution_count": 1
        }
      ]
    },
    {
      "cell_type": "markdown",
      "metadata": {
        "id": "VNS8BhgGxA12"
      },
      "source": [
        "## Task 2\n",
        "<b>Create a variable of type string and print out its value, then reassign a value of type float to the same variable and printout its value</b>"
      ]
    },
    {
      "cell_type": "code",
      "metadata": {
        "id": "ffpupXYJxA13",
        "outputId": "3809df34-5fde-4a41-f278-af82faf991e4",
        "colab": {
          "base_uri": "https://localhost:8080/"
        }
      },
      "source": [
        "# Code goes here\n",
        "thing = \"String\"\n",
        "print(thing)\n",
        "thing = 5.2\n",
        "print(thing)"
      ],
      "execution_count": 3,
      "outputs": [
        {
          "output_type": "stream",
          "name": "stdout",
          "text": [
            "String\n",
            "5.2\n"
          ]
        }
      ]
    },
    {
      "cell_type": "markdown",
      "metadata": {
        "id": "t1smDYaxxA13"
      },
      "source": [
        "## Task 3\n",
        "<b>Assign values of different types to each of the following variables and print out their types</b>"
      ]
    },
    {
      "cell_type": "code",
      "metadata": {
        "id": "MWqlk1pDxA14",
        "outputId": "5bd8a314-6042-4255-b302-c86dd0534a59",
        "colab": {
          "base_uri": "https://localhost:8080/"
        }
      },
      "source": [
        "# Code goes here\n",
        "var1, var2, var3 = True,5.3,\"YES\"\n",
        "print(type(var1))\n",
        "print(type(var2))\n",
        "print(type(var3))"
      ],
      "execution_count": 5,
      "outputs": [
        {
          "output_type": "stream",
          "name": "stdout",
          "text": [
            "<class 'bool'>\n",
            "<class 'float'>\n",
            "<class 'str'>\n"
          ]
        }
      ]
    },
    {
      "cell_type": "markdown",
      "metadata": {
        "id": "3PjpbkE5xA14"
      },
      "source": [
        "------------------\n",
        "# String Exercises"
      ]
    },
    {
      "cell_type": "markdown",
      "metadata": {
        "id": "FW7nkdSgxA14"
      },
      "source": [
        "## Task 1\n",
        "<b>Create a string and print the first character</b>"
      ]
    },
    {
      "cell_type": "code",
      "metadata": {
        "id": "_hHdgo83xA14",
        "outputId": "ee8c263e-66a1-4d65-8e9b-efcb25c2e632",
        "colab": {
          "base_uri": "https://localhost:8080/"
        }
      },
      "source": [
        "# Code goes here\n",
        "String = \"String\"\n",
        "print(String[0])"
      ],
      "execution_count": 6,
      "outputs": [
        {
          "output_type": "stream",
          "name": "stdout",
          "text": [
            "S\n"
          ]
        }
      ]
    },
    {
      "cell_type": "markdown",
      "metadata": {
        "id": "wUkL-Z3VxA15"
      },
      "source": [
        "## Task 2\n",
        "<b>In your own words, describe what is meant by an index</b>"
      ]
    },
    {
      "cell_type": "code",
      "metadata": {
        "id": "gwXk1oLUxA15"
      },
      "source": [
        "# Response goes here\n",
        "# \n",
        "# An index is ... The position of an item in a sequence"
      ],
      "execution_count": null,
      "outputs": []
    },
    {
      "cell_type": "markdown",
      "metadata": {
        "id": "9XLA_Xg3xA15"
      },
      "source": [
        "## Task 3\n",
        "<b>Create a string and print out the last character (without using the len() function)</b>"
      ]
    },
    {
      "cell_type": "code",
      "metadata": {
        "id": "yMqkoImmxA16",
        "outputId": "6adfd8a2-4106-497e-9850-e5cf1b80716c",
        "colab": {
          "base_uri": "https://localhost:8080/"
        }
      },
      "source": [
        "# Code goes here\n",
        "string = \"QWERTYUIOP\"\n",
        "print(string[-1])"
      ],
      "execution_count": 7,
      "outputs": [
        {
          "output_type": "stream",
          "name": "stdout",
          "text": [
            "P\n"
          ]
        }
      ]
    },
    {
      "cell_type": "markdown",
      "metadata": {
        "id": "wA2j0KR9xA16"
      },
      "source": [
        "## Task 4\n",
        "<b>Create a string and print out the last character using the len() function</b>"
      ]
    },
    {
      "cell_type": "code",
      "metadata": {
        "id": "pjtekFpnxA16",
        "outputId": "6f29fd07-1684-4898-ce60-893897cff607",
        "colab": {
          "base_uri": "https://localhost:8080/"
        }
      },
      "source": [
        "# Code goes here\n",
        "string = \"QWERTYUIOP\"\n",
        "print(string[len(string) -1])"
      ],
      "execution_count": 9,
      "outputs": [
        {
          "output_type": "stream",
          "name": "stdout",
          "text": [
            "P\n"
          ]
        }
      ]
    },
    {
      "cell_type": "markdown",
      "metadata": {
        "id": "3F_-aJDJxA16"
      },
      "source": [
        "## Task 5\n",
        "<b> Print the first, middle, and last character of the string, as well as its length</b>"
      ]
    },
    {
      "cell_type": "code",
      "metadata": {
        "id": "jNjkYQNFxA17",
        "outputId": "e8127cac-8fc1-4846-835a-f9e2d9684dec",
        "colab": {
          "base_uri": "https://localhost:8080/"
        }
      },
      "source": [
        "# Code goes here\n",
        "var = \"Directing\"\n",
        "print(var[0],var[4],var[-1],len(var))"
      ],
      "execution_count": 10,
      "outputs": [
        {
          "output_type": "stream",
          "name": "stdout",
          "text": [
            "D c g 9\n"
          ]
        }
      ]
    },
    {
      "cell_type": "markdown",
      "metadata": {
        "id": "5o9GLRaNxA17"
      },
      "source": [
        "## Task 6\n",
        "<b> Create two string variables and concatenate (combine) them to create a new variable called message, then print the message.</b>"
      ]
    },
    {
      "cell_type": "code",
      "metadata": {
        "id": "7JhlAmdDxA17",
        "outputId": "9dd5ce28-9d04-498a-c430-6f5dce3ae9ea",
        "colab": {
          "base_uri": "https://localhost:8080/"
        }
      },
      "source": [
        "# Code goes here\n",
        "var1, var2 = \"What's\",\" Up\"\n",
        "message = var1 +var2\n",
        "print(message)"
      ],
      "execution_count": 13,
      "outputs": [
        {
          "output_type": "stream",
          "name": "stdout",
          "text": [
            "What's Up\n"
          ]
        }
      ]
    },
    {
      "cell_type": "markdown",
      "metadata": {
        "id": "OsXMDIbVxA17"
      },
      "source": [
        "-------------------\n",
        "# Lists and Tuple Exercises"
      ]
    },
    {
      "cell_type": "markdown",
      "metadata": {
        "id": "AKD95-dRxA18"
      },
      "source": [
        "## Task 1\n",
        "<b> Create a 5 element list and print out its length</b>"
      ]
    },
    {
      "cell_type": "code",
      "metadata": {
        "id": "v-8OPQxcxA18",
        "outputId": "06f86639-4b4b-4712-f900-46e39642ff00",
        "colab": {
          "base_uri": "https://localhost:8080/"
        }
      },
      "source": [
        "# Code goes here\n",
        "x = [1,2,3,4,5]\n",
        "len(x)"
      ],
      "execution_count": 16,
      "outputs": [
        {
          "output_type": "execute_result",
          "data": {
            "text/plain": [
              "5"
            ]
          },
          "metadata": {},
          "execution_count": 16
        }
      ]
    },
    {
      "cell_type": "markdown",
      "metadata": {
        "id": "0BMShlu8xA18"
      },
      "source": [
        "## Task 2\n",
        "<b> create a 5 element list of integers then print the list. Next, change the first and last elements then print the list</b>"
      ]
    },
    {
      "cell_type": "code",
      "metadata": {
        "id": "iDuTYSPuxA18",
        "outputId": "09a6bc67-8d97-48ce-e46a-20b30c59ab66",
        "colab": {
          "base_uri": "https://localhost:8080/"
        }
      },
      "source": [
        "# Code goes here\n",
        "x = [1,2,3,4,5]\n",
        "print(x)\n",
        "x[0] = 7\n",
        "x[4] = 9\n",
        "print(x)"
      ],
      "execution_count": 18,
      "outputs": [
        {
          "output_type": "stream",
          "name": "stdout",
          "text": [
            "[1, 2, 3, 4, 5]\n",
            "[7, 2, 3, 4, 9]\n"
          ]
        }
      ]
    },
    {
      "cell_type": "markdown",
      "metadata": {
        "id": "REpdM2aUxA19"
      },
      "source": [
        "## Task 3\n",
        "<b> create a 3 element list where each element is a diffrent type, then print out the type of each element</b>"
      ]
    },
    {
      "cell_type": "code",
      "metadata": {
        "id": "mhek-42rxA19",
        "outputId": "ab22a449-ca1d-4f46-a305-3be47bc6b85f",
        "colab": {
          "base_uri": "https://localhost:8080/"
        }
      },
      "source": [
        "# Code goes here \n",
        "y = [5, \"Good\", True]\n",
        "print(type(y[0]))\n",
        "print(type(y[1]))\n",
        "print(type(y[2]))"
      ],
      "execution_count": 19,
      "outputs": [
        {
          "output_type": "stream",
          "name": "stdout",
          "text": [
            "<class 'int'>\n",
            "<class 'str'>\n",
            "<class 'bool'>\n"
          ]
        }
      ]
    },
    {
      "cell_type": "markdown",
      "metadata": {
        "id": "YdpUmMpSxA19"
      },
      "source": [
        "## Task 4\n",
        "<b> Create a 5 element tuple of floats, then print out the middle value</b>"
      ]
    },
    {
      "cell_type": "code",
      "metadata": {
        "id": "by9icVZ6xA19",
        "outputId": "75890e7c-dfa2-41a3-a22d-9f78af3639ab",
        "colab": {
          "base_uri": "https://localhost:8080/"
        }
      },
      "source": [
        "# Code goes here\n",
        "z = (2.2,7.6,8.9,3.1,4.4334)\n",
        "print(z[2])"
      ],
      "execution_count": 20,
      "outputs": [
        {
          "output_type": "stream",
          "name": "stdout",
          "text": [
            "8.9\n"
          ]
        }
      ]
    },
    {
      "cell_type": "markdown",
      "metadata": {
        "id": "xybRkUFUxA1-"
      },
      "source": [
        "## Task 5\n",
        "<b>The following code produces an error. Change the data type so that the error gets fixed</b>"
      ]
    },
    {
      "cell_type": "code",
      "metadata": {
        "id": "0EfD2tVqxA1-",
        "outputId": "e9208521-f8f2-444a-e029-f1de0235f48c",
        "colab": {
          "base_uri": "https://localhost:8080/"
        }
      },
      "source": [
        "# Solution goes here\n",
        "var = ['This', \"is\", \"a\", \"tuple\"]\n",
        "var[3] = 'list'\n",
        "print(var)"
      ],
      "execution_count": 21,
      "outputs": [
        {
          "output_type": "stream",
          "name": "stdout",
          "text": [
            "['This', 'is', 'a', 'list']\n"
          ]
        }
      ]
    },
    {
      "cell_type": "markdown",
      "metadata": {
        "id": "zQ2T3SokxA1-"
      },
      "source": [
        "## TASK 6\n",
        "**Create a list of numbers then append the values 10, 15, and 20 to the list**"
      ]
    },
    {
      "cell_type": "code",
      "metadata": {
        "id": "oc00TjJxxA1-",
        "outputId": "68ab483c-0aa6-459c-9811-0dde8583837a",
        "colab": {
          "base_uri": "https://localhost:8080/"
        }
      },
      "source": [
        "#TODO: \n",
        "numbers = [4,4,5,2,1,6,7]\n",
        "numbers.append(10)\n",
        "numbers.append(15)\n",
        "numbers.append(20)\n",
        "print(numbers)"
      ],
      "execution_count": 25,
      "outputs": [
        {
          "output_type": "stream",
          "name": "stdout",
          "text": [
            "[4, 4, 5, 2, 1, 6, 7, 10, 15, 20]\n"
          ]
        }
      ]
    },
    {
      "cell_type": "code",
      "metadata": {
        "id": "DJ67NFwt0y5O"
      },
      "source": [
        "\n"
      ],
      "execution_count": null,
      "outputs": []
    }
  ]
}