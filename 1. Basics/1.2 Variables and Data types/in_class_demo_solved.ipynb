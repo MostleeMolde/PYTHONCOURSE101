{
  "nbformat": 4,
  "nbformat_minor": 0,
  "metadata": {
    "orig_nbformat": 4,
    "language_info": {
      "name": "python",
      "version": "3.7.4",
      "mimetype": "text/x-python",
      "codemirror_mode": {
        "name": "ipython",
        "version": 3
      },
      "pygments_lexer": "ipython3",
      "nbconvert_exporter": "python",
      "file_extension": ".py"
    },
    "kernelspec": {
      "name": "python3",
      "display_name": "Python 3.7.4 64-bit ('base': conda)"
    },
    "interpreter": {
      "hash": "fd61235da8d855c081cbd5d7c6398e4c179a40a950675235256f7f30499f1124"
    },
    "colab": {
      "name": "in_class_demo_solved.ipynb",
      "provenance": []
    }
  },
  "cells": [
    {
      "cell_type": "markdown",
      "metadata": {
        "id": "vzpSLHjlZfAH"
      },
      "source": [
        "<style>\n",
        "    h1{\n",
        "        /* color: #A900FF; */\n",
        "        font-family: \"fira code\";\n",
        "    }\n",
        "</style> \n",
        "<h1>Variables</h1>\n",
        "Variables are like named containers that store data in memory and can be changed throughout the program. "
      ]
    },
    {
      "cell_type": "code",
      "metadata": {
        "id": "Zgse0lFZZfAI",
        "outputId": "2e7fd280-1c01-41b3-b19f-759291cf320a"
      },
      "source": [
        "var = 25\n",
        "print(var)"
      ],
      "execution_count": null,
      "outputs": [
        {
          "output_type": "stream",
          "name": "stdout",
          "text": [
            "25\n"
          ]
        }
      ]
    },
    {
      "cell_type": "markdown",
      "metadata": {
        "id": "jjbzu0aeZfAJ"
      },
      "source": [
        "Here we have a variable named 'var' that we've assigned the value 25 to. What this means to the computer is this:\n",
        "* It locates an area in memory that is empty\n",
        "* once that location is found it stores the desired value in that memory location\n",
        "* when you want to access or modify that memory location, instead of using the memory address, we can reference the variable"
      ]
    },
    {
      "cell_type": "code",
      "metadata": {
        "id": "sSGS7trmZfAK"
      },
      "source": [
        "print(f\"The memory address of the value 25: {id(25)}\")\n",
        "print(f\"Memory location of the variable 'var' as an integer {id(var)}\")\n",
        "print(f\"Memory location of the variable 'var' as hexadecimal  {hex(id(var))}\")"
      ],
      "execution_count": null,
      "outputs": []
    },
    {
      "cell_type": "markdown",
      "metadata": {
        "id": "T8wC2vqRZfAK"
      },
      "source": [
        "All Memory addresses are unique, but if two variabes reference the same value in memory, then they will share memory addresses"
      ]
    },
    {
      "cell_type": "code",
      "metadata": {
        "id": "9OMb0pHaZfAL"
      },
      "source": [
        "var = 10\n",
        "var2 = var\n",
        "message = \"hello\"\n",
        "\n",
        "print(f\"The memory address of the value 10: {id(10)}\")\n",
        "print(f\"Memory location of the variable 'var' as an integer {id(var)}\")\n",
        "print(f\"Memory location of the variable 'var2' as an integer  {id(var2)}\")\n",
        "print(f\"Memory location of the variable 'message' as an integer  {id(message)}\")\n"
      ],
      "execution_count": null,
      "outputs": []
    },
    {
      "cell_type": "markdown",
      "metadata": {
        "id": "DN7CFR0SZfAL"
      },
      "source": [
        "<img src = \"memory.png\" width = 700 height = 400>"
      ]
    },
    {
      "cell_type": "markdown",
      "metadata": {
        "id": "K_PBPkMEZfAM"
      },
      "source": [
        "------------------------------\n",
        "# Variable assignment and Manipulation\n",
        "\n",
        "You assign a value to a variable by using the equals sign. \n",
        "\n",
        "Python is a type-inffered language so you dont need to explicitly define the variable type. If you change the value of the variable later in the program, it can be of a different type, however, this can cause errors if you're not careful."
      ]
    },
    {
      "cell_type": "code",
      "metadata": {
        "id": "m9tUgDCxZfAM"
      },
      "source": [
        "# assigning a value to a variable and changing it\n",
        "var = 5\n",
        "print(var)\n",
        "\n",
        "var = 85\n",
        "print(var)"
      ],
      "execution_count": null,
      "outputs": []
    },
    {
      "cell_type": "code",
      "metadata": {
        "id": "FVhAFKnyZfAN"
      },
      "source": [
        "# assigning a value to a variable then changing its type\n",
        "var = 'hello'\n",
        "print(var)\n",
        "print(type(var), \"\\n\")\n",
        "\n",
        "var = [1,2,3,4]\n",
        "print(var)\n",
        "print(type(var))"
      ],
      "execution_count": null,
      "outputs": []
    },
    {
      "cell_type": "markdown",
      "metadata": {
        "id": "OtNxB_XZZfAO"
      },
      "source": [
        "**you can also assign multiple values to multiple variables at the same time**"
      ]
    },
    {
      "cell_type": "code",
      "metadata": {
        "id": "QKnoJdD2ZfAP"
      },
      "source": [
        "x, y, z = 12, 'hello', [12,34,56]\n",
        "print(x,y,z)"
      ],
      "execution_count": null,
      "outputs": []
    },
    {
      "cell_type": "markdown",
      "metadata": {
        "id": "VxUaYTZgZfAP"
      },
      "source": [
        "-----------------------\n",
        "# Variable Names\n",
        "variables can be named anything you'd like as long as its not a python keyword or built-in method\n",
        "\n",
        "#### Python Keywords\n",
        "\n",
        "|async | elif | if | or | yield|\n",
        "|-------------|--------------:|-----:|:-------------:|-------------:|\n",
        "|False | await | else | import | pass |\n",
        "|None | break | except | in | raise|\n",
        "|True | class | finally | is | return|\n",
        "|and | continue | for | lambda | try|\n",
        "|as | def | from | nonlocal | while|\n",
        "|assert | del | global | not | with|"
      ]
    },
    {
      "cell_type": "code",
      "metadata": {
        "id": "oUqyX5BJZfAQ"
      },
      "source": [
        "# trying to name a variable as a python built-in method\n",
        "print(id(10))\n",
        "print(type(id))\n",
        "\n",
        "id = 45\n",
        "print(type(id)) \n",
        "print(id(10)) # causes an error"
      ],
      "execution_count": null,
      "outputs": []
    },
    {
      "cell_type": "markdown",
      "metadata": {
        "id": "ouNEM_QwZfAQ"
      },
      "source": [
        "## How Do I know If I'm overwriting a python keyword or method?\n",
        "\n",
        "Python keywords have special syntax highlighting, and in most cases, will result in an error if you try to create a variable using a keyword. Built-in methods are a little bit more tricky than keywords because they're just predefined functions that wont cause immediate errors when overwriting. The best way to know if you're overwriting a built-in method is to check if the variable changes color when assigning values to it. This works because all functions have special syntax highlighting as well, and since we haven't created our own functions yet, built-in functions will look different than normal variables."
      ]
    },
    {
      "cell_type": "code",
      "metadata": {
        "id": "tgpJKENuZfAR"
      },
      "source": [
        "# trying to overwrite a keyword \n",
        "# assert = \"Overwritten\"\n",
        "# raise = 'Overwritten'\n",
        "\n",
        "# showing what the max function does before it is overwritten\n",
        "var = max(10, 5)\n",
        "print(var)\n",
        "print(type(max), '\\n-----------------------')\n",
        "\n",
        "# overwriting the max function\n",
        "max = max(10,50)\n",
        "print(max)\n",
        "print(type(max))\n",
        "\n",
        "# trying to use the over written function\n",
        "big = max(12, 6)\n",
        "print(big)"
      ],
      "execution_count": null,
      "outputs": []
    },
    {
      "cell_type": "markdown",
      "metadata": {
        "id": "RG67nNf_ZfAR"
      },
      "source": [
        "----------------------\n",
        "# Variable Recap\n",
        "* variables are containers that hold data\n",
        "* the data that variables can hold may change throughout the program\n",
        "* variables shouldn't be named python keywords\n",
        "* you can create multiple variables at the same time\n",
        "\n",
        "Now that we know what variables are, lets talk about the type of data they can hold."
      ]
    },
    {
      "cell_type": "markdown",
      "metadata": {
        "id": "9TkTwQV2ZfAR"
      },
      "source": [
        "-----------\n",
        "# Data Types\n",
        "A data type is a description of what type of data you're working with.\n",
        "\n",
        "All values in python have a data type and the type of data allows for different types of operations.\n",
        "\n",
        "\n",
        "# Numbers\n",
        "In python numbers come in 3 flavors \n",
        "\n",
        "* **Integers**, which are any positive or negative whole number.\n",
        "* **Floats**, which are any positive or negative number with a fractional part\n",
        "* **Complex numbers**, which are specified as real_part + imaginary_part, where the imaginary_part is written with a j or J."
      ]
    },
    {
      "cell_type": "code",
      "metadata": {
        "id": "evMvj_KeZfAS"
      },
      "source": [
        "Integer = 4\n",
        "Integer = 30\n",
        "Integer = -64\n",
        "Integer = 23555431588754\n",
        "\n",
        "Float = 4.0\n",
        "Float = 35.87\n",
        "Float = -842.555734\n",
        "Float = 3.141592653589793\n",
        "\n",
        "Complex = 1j\n",
        "Complex = 43 + 2j\n",
        "Complex = -3 + 10j"
      ],
      "execution_count": null,
      "outputs": []
    },
    {
      "cell_type": "code",
      "metadata": {
        "id": "1q-35NlAZfAS"
      },
      "source": [
        "# use the type function to inspect a variables type\n",
        "var = 4555854\n",
        "print(type(var))\n",
        "\n",
        "var = 45.2544558\n",
        "print(type(var))\n",
        "\n",
        "var = 4j + 56\n",
        "print(type(var))\n"
      ],
      "execution_count": null,
      "outputs": []
    },
    {
      "cell_type": "markdown",
      "metadata": {
        "id": "fUrJzpZOZfAS"
      },
      "source": [
        "# Strings\n",
        "Strings are used to represent text, or more technically, a sequence of Unicode characters. Strings a denoted using either single ('') or double (\"\") qutoes."
      ]
    },
    {
      "cell_type": "code",
      "metadata": {
        "id": "Ahtlar0tZfAT"
      },
      "source": [
        "# creating strings\n",
        "string = 'I am a string 👋🏾'\n",
        "string = \"I am a double quoted string 💪🏾\"\n",
        "print(type(string))"
      ],
      "execution_count": null,
      "outputs": []
    },
    {
      "cell_type": "markdown",
      "metadata": {
        "id": "UqaGyszqZfAU"
      },
      "source": [
        "# Strings and Indexing\n",
        "Because strings are a sequence of characters, you can select parts of a string by using an index.\n",
        "\n",
        "<em style = \"color: #6F69AC\">An index is a numerical representation of an item's position in a sequence.</em>\n",
        "\n",
        "In most programming languages, python included, index values start at 0. Since they start at zero, the last index value will be equal to the length of the sequence minus 1. \n",
        "\n",
        "<img src =\"strings.png\" width = \"700\" height = \"400\">\n",
        "\n",
        "\n",
        "<em><b>You will learn more about indexing in the lists module</b></em>"
      ]
    },
    {
      "cell_type": "code",
      "metadata": {
        "id": "VLa7W9sdZfAV"
      },
      "source": [
        "# Returning the fist character in a string \n",
        "word = \"Python\"\n",
        "print(word[0])"
      ],
      "execution_count": null,
      "outputs": []
    },
    {
      "cell_type": "code",
      "metadata": {
        "id": "paDp4e-yZfAW"
      },
      "source": [
        "# returning the last character in a string \n",
        "print(word[5])"
      ],
      "execution_count": null,
      "outputs": []
    },
    {
      "cell_type": "markdown",
      "metadata": {
        "id": "UC7Gxgl3ZfAW"
      },
      "source": [
        "## The len() function\n",
        "The len() function is used to find the length of a sequence. It returns the total number of items present in a sequence, making it a useful tool when working with sequences."
      ]
    },
    {
      "cell_type": "code",
      "metadata": {
        "id": "A46nhyPeZfAX"
      },
      "source": [
        "word = 'Washburn'\n",
        "print(len(word))"
      ],
      "execution_count": null,
      "outputs": []
    },
    {
      "cell_type": "code",
      "metadata": {
        "id": "LRjHsTqKZfAX"
      },
      "source": [
        "# using the len function to return the last value in a sequence \n",
        "seq = \"I am a sequence 😊\"\n",
        "\n",
        "# remember, sequences start at index 0, so the last index is -> (the length of the sequence - 1)\n",
        "index = len(seq) - 1\n",
        "print(f\"Length of the sequence: {len(seq)}\")\n",
        "print(f\"Last index value of the sequence: {index}\")\n",
        "print(f\"Value at the end of the sequence: {seq[index]}\")\n"
      ],
      "execution_count": null,
      "outputs": []
    },
    {
      "cell_type": "markdown",
      "metadata": {
        "id": "uMbTZzG2ZfAY"
      },
      "source": [
        "## Strings are Immutable\n",
        "When a data type is immutable, that means that you can't change its values once it has been created. \n",
        "\n",
        "For example, if we create the string 'hello' and try to change the first character to a j so we can change it to 'jello', python will throw us an error."
      ]
    },
    {
      "cell_type": "code",
      "metadata": {
        "id": "U453ed7zZfAY"
      },
      "source": [
        "var = \"hello\"\n",
        "var[0] = 'j'"
      ],
      "execution_count": null,
      "outputs": []
    },
    {
      "cell_type": "markdown",
      "metadata": {
        "id": "DzxRYX7hZfAY"
      },
      "source": [
        "## String concatenation\n",
        "**Concatenations means: The action of linking things together.**\n",
        "\n",
        "In python, we can concatenate strings by using the addition operator (+). "
      ]
    },
    {
      "cell_type": "code",
      "metadata": {
        "id": "Xt_2HvDlZfAZ"
      },
      "source": [
        "# concatinating strings\n",
        "print(\"Hello\" + \" world\")"
      ],
      "execution_count": null,
      "outputs": []
    },
    {
      "cell_type": "code",
      "metadata": {
        "id": "KJoY3XowZfAZ"
      },
      "source": [
        "# concatenating string variables\n",
        "var1 = \"I am\"\n",
        "var2 = \" the goat\"\n",
        "print(var1 + var2)"
      ],
      "execution_count": null,
      "outputs": []
    },
    {
      "cell_type": "code",
      "metadata": {
        "id": "wFgadUORZfAZ"
      },
      "source": [
        "# combining string literals and variables \n",
        "var = \"I am a string variable\"\n",
        "message = var + \", and I am a string literal.\" \n",
        "print(message)"
      ],
      "execution_count": null,
      "outputs": []
    },
    {
      "cell_type": "markdown",
      "metadata": {
        "id": "oz5wLHVZZfAa"
      },
      "source": [
        "# Lists\n",
        "A list is a sequence of items.\n",
        "<hr>\n",
        "\n",
        "### Creating Lists\n",
        "A list is created by putting elements within square brackets [] separated by commas.\n",
        "```python\n",
        "var = [1,2,3,4]\n",
        "```\n",
        "\n",
        "**You can also add elements of different types to a list, including other lists**\n",
        "```python\n",
        "var = [1, 2, 'list with string', 4.32, [5,4,3,2]]\n",
        "```\n",
        "\n",
        "Lists, like strings, are sequences meaning their elements are accessed using an index. \n",
        "\n",
        "**Remember:**<em> An index is a numerical representation of an item's position in a sequence. The index of the first item in a sequence always starts at 0</em>"
      ]
    },
    {
      "cell_type": "code",
      "metadata": {
        "id": "q9NH8h4xZfAa"
      },
      "source": [
        "# creation of a list \n",
        "var = [10, 20, 30, 40, 50]\n",
        "\n",
        "# accessing list elements\n",
        "print(f\"List: {var}\")\n",
        "print(f\"First element: {var[0]}\")\n",
        "print(f\"Middle element: {var[2]}\")\n",
        "print(f\"Last element: {var[4]}\")\n",
        "print(f\"Length of the list: {len(var)}\")\n"
      ],
      "execution_count": null,
      "outputs": []
    },
    {
      "cell_type": "markdown",
      "metadata": {
        "id": "PWzr4IH8ZfAa"
      },
      "source": [
        "## Changing list elements\n",
        "You can change the values of elements in a list by indicating the index of the value you want to change, and assigning the new value to that index."
      ]
    },
    {
      "cell_type": "code",
      "metadata": {
        "id": "RBJnIoFGZfAa"
      },
      "source": [
        "# changing list elements\n",
        "var = [1, 2, 3, 4, 5]\n",
        "print(f\"List before editing: {var}\")\n",
        "\n",
        "# changing the third list element from 3 to 30\n",
        "var[2] = 30\n",
        "print(f\"List after editing: {var}\")"
      ],
      "execution_count": null,
      "outputs": []
    },
    {
      "cell_type": "markdown",
      "metadata": {
        "id": "dy4-nEY5ZfAb"
      },
      "source": [
        "# Mutable vs. Immutable data types \n",
        "* **Mutable** - Has the ability to change, or mutate.\n",
        "* **Immutable** - Does not have the ability to change, or mutate.\n",
        "\n",
        "Data types that are mutable **are allowed** to have their values changed throughout the program. For example, Lists are mutable, so if you try to change values, add values, or remove values later in your program you are allowed to do so.\n",
        "\n",
        "```python\n",
        "var = [1, 2, 3, 4, 5]\n",
        "var[0] = 10 # this is allowed since lists are mutable\n",
        "print(var) \n",
        "#output: [10, 2, 3, 4, 5]\n",
        "```\n",
        "\n",
        "Data types that are immutable **aren't allowed** to have their values changed throughout the program. For example, Strings are immutable, so if you try to change values, add values, or remove values later in your program you won't be able to.\n",
        "\n",
        "```python\n",
        "var = \"Hello\"\n",
        "var[0] = \"J\" # this is not allowed since strings are immutable\n",
        "```\n",
        "\n",
        "### **Lets look at an immutable data type to get a better understanding of this**\n",
        "\n",
        "-----------------\n",
        "# Tuples \n",
        "A tuple is like a list, in that it is a sequence of elements. However, once a tuple is created, it never changes. \n",
        "\n",
        "Tuples are created by putting elements inside of parenthesis ().\n",
        "\n",
        "**<em>All of these concepts will be explored further in the data structures and methods section</em>**"
      ]
    },
    {
      "cell_type": "code",
      "metadata": {
        "id": "R-GiHeY7ZfAb"
      },
      "source": [
        "# creating tuples\n",
        "var = (1, 2, 3, 4)\n",
        "print(var)"
      ],
      "execution_count": null,
      "outputs": []
    },
    {
      "cell_type": "code",
      "metadata": {
        "id": "17xPc51rZfAb"
      },
      "source": [
        "# tuples can also have values of different types\n",
        "var = ('Hello', 3.14, ['I', 'am', 'a', 'list'])\n",
        "print(var)  "
      ],
      "execution_count": null,
      "outputs": []
    },
    {
      "cell_type": "code",
      "metadata": {
        "id": "z5_IS5OeZfAb"
      },
      "source": [
        "# indexing tuples is the same as indexing lists\n",
        "print(f\"First tuple element: {var[0]}\")\n",
        "print(f\"Last tuple element: {var[3]}\")"
      ],
      "execution_count": null,
      "outputs": []
    },
    {
      "cell_type": "code",
      "metadata": {
        "id": "E2QL750wZfAc"
      },
      "source": [
        "# Trying to change elements in a tuple\n",
        "var = (1, 2, 3, 4)\n",
        "var[2] = 10"
      ],
      "execution_count": null,
      "outputs": []
    },
    {
      "cell_type": "markdown",
      "metadata": {
        "id": "Eocf9T26ZfAc"
      },
      "source": [
        "# Dictionaries\n",
        "Python dictionary is an unordered collection of items. Each item of a dictionary has a key/value pair.\n",
        "\n",
        "Creating a dictionary is as simple as placing items inside curly braces {} separated by commas.\n",
        "\n",
        "An item has a **key** and a corresponding **value** that is expressed as a pair (key: value).\n",
        "* **Keys:** must be an immutable data type (string, number, tuple) and all keys in a dictionary must be unique\n",
        "* **values:** van be of any type and can repeat (they dont need to be unique)"
      ]
    },
    {
      "cell_type": "code",
      "metadata": {
        "id": "BkfFBcM5ZfAc"
      },
      "source": [
        "# empty dictionary\n",
        "var = {}\n",
        "print(f\"Empty dictionary: {var}. Length: {len(var)}\")\n",
        "\n",
        "# dictionary with integer keys\n",
        "fruit = {1: 'Apple',\n",
        "         2: 'Orange',\n",
        "         3: 'Blueberry'}\n",
        "print(f\"Fruits dictionary: {fruit}. Length: {len(fruit)}\")\n",
        "\n",
        "# dictionary with string keys\n",
        "phones = {'iPhone': 12, \n",
        "          'Galaxy': 13, \n",
        "          'Google': 'pixel'}\n",
        "print(f\"Phones dictionary: {phones}. Length: {len(phones)}\")\n"
      ],
      "execution_count": null,
      "outputs": []
    },
    {
      "cell_type": "markdown",
      "metadata": {
        "id": "iI5vzG2DZfAd"
      },
      "source": [
        "# Accessing Elements from Dictionary\n",
        "While indexing is used with other data types to access values, a dictionary uses keys. Keys can be used either inside square brackets [] or with the get() method.\n",
        "\n",
        "If we use the square brackets [], KeyError is raised in case a key is not found in the dictionary. On the other hand, the get() method returns None if the key is not found."
      ]
    },
    {
      "cell_type": "code",
      "metadata": {
        "id": "bo0Nv0uyZfAd"
      },
      "source": [
        "apps = {\"Discord\": \"Messaging\", \n",
        "        \"Instagram\":\"Photos & Video\", \n",
        "        \"Twitter\":\"Tweeting\"}\n",
        "\n",
        "# accesssing elements using bracket notation\n",
        "print(apps['Discord'])\n",
        "\n",
        "# accesssing elements using the .get() method\n",
        "print(apps.get('Instagram'))\n",
        "\n",
        "# accessing non existent key using bracket notation\n",
        "print(apps['Snapchat'])\n",
        "\n",
        "# accessing non existent key using bracket notation\n",
        "print(apps.get('Snapchat'))"
      ],
      "execution_count": null,
      "outputs": []
    },
    {
      "cell_type": "markdown",
      "metadata": {
        "id": "Zjq7ss25ZfAd"
      },
      "source": [
        "## The get() Method\n",
        "The .get() method is useful when it comes to dictionaries because if a key is not present, instead of raising an error, you can have it return something else. \n",
        "\n",
        "* a message \n",
        "* None \n",
        "* another variable \n",
        "* really anything you want"
      ]
    },
    {
      "cell_type": "code",
      "metadata": {
        "id": "fwpqlrRxZfAe"
      },
      "source": [
        "print(apps)\n",
        "# returning a message for when a key isn't found\n",
        "key = 'Snapchat'\n",
        "print(apps.get(key, f\"{key} Not found\"))\n"
      ],
      "execution_count": null,
      "outputs": []
    },
    {
      "cell_type": "markdown",
      "metadata": {
        "id": "MvTsphCgZfAf"
      },
      "source": [
        "# Changing and Adding Dictionary elements\n",
        "Dictionaries are mutable. We can add new items or change the value of existing items using an assignment operator.\n",
        "\n",
        "If the key is already present, then the existing value gets updated. In then case the key is not present, a new (key: value) pair is added to the dictionary."
      ]
    },
    {
      "cell_type": "code",
      "metadata": {
        "id": "yn4vAubOZfAf"
      },
      "source": [
        "print(f\"Old twitter value: {apps['Twitter']}\")\n",
        "\n",
        "# updating existing values\n",
        "apps['Twitter'] = 'Microblogging'\n",
        "\n",
        "print(f\"New twitter value: {apps['Twitter']}\")\n"
      ],
      "execution_count": null,
      "outputs": []
    },
    {
      "cell_type": "code",
      "metadata": {
        "id": "niLl_YvkZfAg"
      },
      "source": [
        "print(f\"Dictionary before adding new key: {apps}\")\n",
        "\n",
        "# adding a new key:value pair to the dictionary\n",
        "apps['Snapchat'] = 'Photo messages'\n",
        "print(f\"Dictionary after adding new key : {apps}\")\n"
      ],
      "execution_count": null,
      "outputs": []
    },
    {
      "cell_type": "code",
      "metadata": {
        "id": "2UhUyi0bZfAg"
      },
      "source": [
        ""
      ],
      "execution_count": null,
      "outputs": []
    }
  ]
}