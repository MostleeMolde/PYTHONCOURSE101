{
  "nbformat": 4,
  "nbformat_minor": 0,
  "metadata": {
    "interpreter": {
      "hash": "fd61235da8d855c081cbd5d7c6398e4c179a40a950675235256f7f30499f1124"
    },
    "kernelspec": {
      "display_name": "Python 3.7.4 64-bit ('base': conda)",
      "language": "python",
      "name": "python3"
    },
    "language_info": {
      "codemirror_mode": {
        "name": "ipython",
        "version": 3
      },
      "file_extension": ".py",
      "mimetype": "text/x-python",
      "name": "python",
      "nbconvert_exporter": "python",
      "pygments_lexer": "ipython3",
      "version": "3.7.4"
    },
    "orig_nbformat": 4,
    "colab": {
      "name": "prime_numbers.ipynb",
      "provenance": [],
      "include_colab_link": true
    }
  },
  "cells": [
    {
      "cell_type": "markdown",
      "metadata": {
        "id": "view-in-github",
        "colab_type": "text"
      },
      "source": [
        "<a href=\"https://colab.research.google.com/github/MostleeMolde/PYTHONCOURSE101/blob/main/Review/prime_numbers.ipynb\" target=\"_parent\"><img src=\"https://colab.research.google.com/assets/colab-badge.svg\" alt=\"Open In Colab\"/></a>"
      ]
    },
    {
      "cell_type": "markdown",
      "metadata": {
        "id": "XzS0jSopkPWT"
      },
      "source": [
        "# Instructions\n",
        "Ask the user to input a starting value and a stopping value. Loop from the start to the stop and keep track of all of the prime numbers as well as the non-prime numbers. Once the loop has been completed, print out all of the prime numbers and non-prime numbers, as well as a count of each.\n",
        "\n",
        "- **A prime number is any number that can only be divided by 1 or itself.**\n",
        "- **All prime numbers are greater than 1**\n",
        "\n",
        "### Example output\n",
        "* `start = 3`, `end = 15`\n",
        "* `prime numbers [3, 5, 7, 11, 13]`\n",
        "* `non-prime numbers [4, 6, 8, 9, 10, 12, 14, 15]`\n",
        "* `\"There are 5 prime numbers and 8 non prime numbers between 3 and 15\"`\n",
        "\n",
        "\n",
        "### How can I know if a number is prime or not (Pseduo-code)\n",
        "Say we `start` at the number `5` and `stop` at the number `20`, we can calculate which numbers are prime by doing the following steps.\n",
        "1. set the start and stop values\n",
        "2. create 2 lists to hold the `primes` and `non_primes`\n",
        "3. start looping through the range of numbers from `5` to `20` with the current number being `x`. **(on your first iteration `x` is 5)**\n",
        "4. create an `is_prime` flag and set it to `True`\n",
        "5. Before iterating to the next `x` value **(for example 6)**, check to see if `x` can be evenly divided by any of the numbers from `2` up to `x` **(This will be a nested loop)**\n",
        "    - If `x` cannot be evenly divided by any of the numbers, then the number is prime.\n",
        "    - If `x` can be evenly divided by any of the numbers, then the `x` is not prime and the `is_prime` flag can be set to `False`\n",
        "6. If the `is_prime` flag is still `True`, add the current number, `x`, to the `primes` list. Otherwise add the it to the `non_primes` list\n",
        "7. After both loops have completed, print out the primes and non primes as well as the count of each."
      ]
    },
    {
      "cell_type": "code",
      "metadata": {
        "id": "0wuOkseAkPWe",
        "outputId": "0460c9a6-cc80-4c62-f754-f705381bb90a",
        "colab": {
          "base_uri": "https://localhost:8080/"
        }
      },
      "source": [
        "# get the start number\n",
        "start = int(input(\"Enter a start value: \"))\n",
        "# get the stop number\n",
        "stop = int(input(\"Enter a stop value: \"))\n",
        "# create an empty list to hold all prime numbers\n",
        "# create an empty list to hold all the non_prime numbers\n",
        "primes = []\n",
        "non_primes = [] \n",
        "\n",
        "#TODO your solution goes here\n",
        "for x in range(start,stop+1):\n",
        "  is_prime = True\n",
        "  for y in range(2,x):\n",
        "    if x % y == 0:\n",
        "      is_prime = False\n",
        "  if is_prime == False:\n",
        "    non_primes.append(x)\n",
        "  elif is_prime == True:\n",
        "    primes.append(x)\n",
        "  \n",
        "\n",
        "\n",
        "\n",
        "print(f\"There are {len(primes)} prime numbers and {len(non_primes)} non-prime numbers between {start} and {stop}\")\n",
        "print(f\"Primes: {primes}\")\n",
        "print(f\"Non-Primes: {non_primes}\")\n"
      ],
      "execution_count": 27,
      "outputs": [
        {
          "output_type": "stream",
          "name": "stdout",
          "text": [
            "Enter a start value: 1\n",
            "Enter a stop value: 100\n",
            "There are 26 prime numbers and 74 non-prime numbers between 1 and 100\n",
            "Primes: [1, 2, 3, 5, 7, 11, 13, 17, 19, 23, 29, 31, 37, 41, 43, 47, 53, 59, 61, 67, 71, 73, 79, 83, 89, 97]\n",
            "Non-Primes: [4, 6, 8, 9, 10, 12, 14, 15, 16, 18, 20, 21, 22, 24, 25, 26, 27, 28, 30, 32, 33, 34, 35, 36, 38, 39, 40, 42, 44, 45, 46, 48, 49, 50, 51, 52, 54, 55, 56, 57, 58, 60, 62, 63, 64, 65, 66, 68, 69, 70, 72, 74, 75, 76, 77, 78, 80, 81, 82, 84, 85, 86, 87, 88, 90, 91, 92, 93, 94, 95, 96, 98, 99, 100]\n"
          ]
        }
      ]
    },
    {
      "cell_type": "markdown",
      "metadata": {
        "id": "7vyBn0GMkPWi"
      },
      "source": [
        "# Bonus \n",
        "Out of all the non-prime numbers, find the numbers that when divided by a prime number results in another prime number.\n",
        "\n",
        "### Example:\n",
        "* `77 / 7 = 11`\n",
        "* `9 / 3 = 3`\n",
        "* `15 / 5 = 3`\n",
        "* so `[77, 15, 9]` are only divisible by prime numbers"
      ]
    },
    {
      "cell_type": "code",
      "metadata": {
        "id": "3wfk9jPEkPWj",
        "outputId": "26277dca-05bc-4d9c-ea80-2141e2e47a30",
        "colab": {
          "base_uri": "https://localhost:8080/"
        }
      },
      "source": [
        "divisible_by_primes = []\n",
        "#TODO Your solution goes here\n",
        "for i in non_primes:\n",
        "  for x in primes:\n",
        "    if i/x in primes:\n",
        "      divisible_by_primes.append(i)\n",
        "      break\n",
        "print(divisible_by_primes)"
      ],
      "execution_count": 30,
      "outputs": [
        {
          "output_type": "stream",
          "name": "stdout",
          "text": [
            "[4, 6, 9, 10, 14, 15, 21, 22, 25, 26, 33, 34, 35, 38, 39, 46, 49, 51, 55, 57, 58, 62, 65, 69, 74, 77, 82, 85, 86, 87, 91, 93, 94, 95]\n"
          ]
        }
      ]
    },
    {
      "cell_type": "code",
      "metadata": {
        "id": "5RPZrhbQWG5o"
      },
      "source": [
        ""
      ],
      "execution_count": 18,
      "outputs": []
    },
    {
      "cell_type": "code",
      "metadata": {
        "id": "GmRemNd1Wl_N"
      },
      "source": [
        ""
      ],
      "execution_count": 18,
      "outputs": []
    }
  ]
}