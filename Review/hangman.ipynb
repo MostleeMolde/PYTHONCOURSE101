{
  "nbformat": 4,
  "nbformat_minor": 0,
  "metadata": {
    "interpreter": {
      "hash": "fd61235da8d855c081cbd5d7c6398e4c179a40a950675235256f7f30499f1124"
    },
    "kernelspec": {
      "display_name": "Python 3.7.4 64-bit ('base': conda)",
      "language": "python",
      "name": "python3"
    },
    "language_info": {
      "codemirror_mode": {
        "name": "ipython",
        "version": 3
      },
      "file_extension": ".py",
      "mimetype": "text/x-python",
      "name": "python",
      "nbconvert_exporter": "python",
      "pygments_lexer": "ipython3",
      "version": "3.7.4"
    },
    "orig_nbformat": 4,
    "colab": {
      "name": "hangman.ipynb",
      "provenance": [],
      "include_colab_link": true
    }
  },
  "cells": [
    {
      "cell_type": "markdown",
      "metadata": {
        "id": "view-in-github",
        "colab_type": "text"
      },
      "source": [
        "<a href=\"https://colab.research.google.com/github/MostleeMolde/PYTHONCOURSE101/blob/main/Review/hangman.ipynb\" target=\"_parent\"><img src=\"https://colab.research.google.com/assets/colab-badge.svg\" alt=\"Open In Colab\"/></a>"
      ]
    },
    {
      "cell_type": "markdown",
      "metadata": {
        "id": "j5I4Qd2Skt3U"
      },
      "source": [
        "\n",
        "\n",
        "# Instructions \n",
        "In this challenge, you are taksed with creating the hangman game in python. The goal is to write some code that allows the user to continue guessing words until they are able to guess the word that the computer has chosen. \n",
        "\n",
        "## Expectations\n",
        "- use the predefined `get_word()` function to generate a random word\n",
        "- give the user an amount of attempts equal to the length of the word +3\n",
        "- create an empty list that will hold the guesses that the user has made\n",
        "- during each guess the user is expected to either enter a single character (all lowercase), or the entire word if they think they know what it is.\n",
        "- if the user guesses a letter that has already been guessed, they should be told that they've already guessed that letter and their number of attempts should not be decreased.\n",
        "- Each time the user guesses a letter, print out a string with underscores where letters havent been guessed yet and characters from the word where it has been **(for example. p_th_n if the user has correctly guessed these letter in the word python)**\n",
        "\n",
        "### Example output\n",
        "```\n",
        "You have 11 attempts left\n",
        "__u_____\n",
        "\n",
        "You have 10 attempts left\n",
        "a_ua__a_\n",
        "\n",
        "You have 9 attempts left\n",
        "a_uar_a_\n",
        "\n",
        "You have 8 attempts left\n",
        "aquar_a_\n",
        "\n",
        "You have 7 attempts left\n",
        "aquaria_\n",
        "\n",
        "You have 6 attempts left\n",
        "aquarial\n",
        "\n",
        "You've successfuly guessed the word aquarial\n",
        "```"
      ]
    },
    {
      "cell_type": "code",
      "metadata": {
        "id": "5hE0RyWWkt3a"
      },
      "source": [
        "import requests\n",
        "from random import randint\n",
        "\n",
        "def get_word():\n",
        "    words = requests.get(f\"https://random-word-api.herokuapp.com/word?number=1\")\n",
        "    return words.json()[0]"
      ],
      "execution_count": 5,
      "outputs": []
    },
    {
      "cell_type": "code",
      "metadata": {
        "colab": {
          "base_uri": "https://localhost:8080/",
          "height": 37
        },
        "id": "6DYI7uLFF9Qu",
        "outputId": "38f01bb7-9ef0-495b-c395-c033b62042a2"
      },
      "source": [
        "word = \"python\"\n",
        "empty = \"\"\n",
        "for w in word:\n",
        "  empty += w\n",
        "\n",
        "empty"
      ],
      "execution_count": 2,
      "outputs": [
        {
          "output_type": "execute_result",
          "data": {
            "application/vnd.google.colaboratory.intrinsic+json": {
              "type": "string"
            },
            "text/plain": [
              "'python'"
            ]
          },
          "metadata": {},
          "execution_count": 2
        }
      ]
    },
    {
      "cell_type": "code",
      "metadata": {
        "id": "XcTvpp03kt3c",
        "colab": {
          "base_uri": "https://localhost:8080/"
        },
        "outputId": "579d0879-a35d-493b-8e4e-1fe964b976df"
      },
      "source": [
        "#TODO Your solution starts here\n",
        "attempts = len(word)+3\n",
        "word = get_word()\n",
        "word_h = \"_\"*len(word)\n",
        "letters_g = []\n",
        "letters_f = []\n",
        "\n",
        "print(f\"You have {attempts} attempts to guess the word\")\n",
        "# loop until attempts is not equal to 0\n",
        "while attempts > 0:\n",
        "  print(f\"You have {attempts} attempts remaining...\")\n",
        "  print(word_h)\n",
        "  guess = input(\"Guess a letter or the word \")\n",
        "  if guess.lower() == word.lower():  \n",
        "    print(f\"You Win! You guessed the word {word}\")\n",
        "    break\n",
        "  else:\n",
        "    guess = guess[0]\n",
        "    if guess in letters_g:\n",
        "      print(\"Already guessed letter. Try again\")\n",
        "    else:\n",
        "      letters_g.append(guess)\n",
        "      attempts -= 1\n",
        "      if guess in word:\n",
        "        letters_f.append(guess)\n",
        "        word_h = \"\"\n",
        "        for i in word:\n",
        "          if i in letters_f:\n",
        "            word_h += i\n",
        "          else:\n",
        "            word_h +=\"_\"\n",
        "         \n",
        "\n",
        "if attempts == 0:\n",
        "  print(f\"YOU LOSE!!! The word was {word}\")\n",
        "\n",
        "\n",
        "    \n",
        "    # make sure that the guess is a single character\n",
        "\n",
        "        # dont decrease attempts if the letter has already been guessed\n",
        "\n",
        "        # otherwise \n",
        "\n",
        "            # add the guess to guesses\n",
        "\n",
        "            # decrease the attempts\n",
        "            \n",
        "            # start with an empty string\n",
        "            \n",
        "            # add letters to the empty string that are in the guest list\n",
        "            \n",
        "            # print the string with the correctly guessed letters so far\n",
        "            \n",
        "            # if all of the letters have been guessed correctly, then they've won the game and you can stop the loop\n",
        "            \n",
        "    # if the guess is the word, then the user won the game and you can stop the loop    \n",
        "   \n",
        "    # otherwise, explain that the user can only enter a single letter or the entire word\n",
        "\n",
        "# if the while loop has completed and they havent guessed the word, then they've lost the game\n",
        "\n",
        "    \n"
      ],
      "execution_count": 6,
      "outputs": [
        {
          "output_type": "stream",
          "name": "stdout",
          "text": [
            "You have 9 attempts to guess the word\n",
            "You have 9 attempts remaining...\n",
            "_________\n",
            "Guess a letter or the word p\n",
            "You have 8 attempts remaining...\n",
            "p________\n",
            "Guess a letter or the word y\n",
            "You have 7 attempts remaining...\n",
            "p________\n",
            "Guess a letter or the word n\n",
            "You have 6 attempts remaining...\n",
            "p________\n",
            "Guess a letter or the word e\n",
            "You have 5 attempts remaining...\n",
            "p__e_____\n",
            "Guess a letter or the word n\n",
            "Already guessed letter. Try again\n",
            "You have 5 attempts remaining...\n",
            "p__e_____\n",
            "Guess a letter or the word l\n",
            "You have 4 attempts remaining...\n",
            "p_le____l\n",
            "Guess a letter or the word o\n",
            "You have 3 attempts remaining...\n",
            "pole____l\n",
            "Guess a letter or the word m\n",
            "You have 2 attempts remaining...\n",
            "polem___l\n",
            "Guess a letter or the word polemial\n",
            "Already guessed letter. Try again\n",
            "You have 2 attempts remaining...\n",
            "polem___l\n",
            "Guess a letter or the word u\n",
            "You have 1 attempts remaining...\n",
            "polem___l\n",
            "Guess a letter or the word z\n",
            "YOU LOSE!!! The word was polemical\n"
          ]
        }
      ]
    },
    {
      "cell_type": "code",
      "metadata": {
        "id": "jwMQmhZrkt3e",
        "colab": {
          "base_uri": "https://localhost:8080/"
        },
        "outputId": "40ee3da1-90a5-4438-9317-5584618373b8"
      },
      "source": [
        "ddvar = \"variable\"\n",
        "var_h = \"_.\"*len(var)\n",
        "var.index(\"r\")"
      ],
      "execution_count": null,
      "outputs": [
        {
          "output_type": "execute_result",
          "data": {
            "text/plain": [
              "2"
            ]
          },
          "metadata": {},
          "execution_count": 19
        }
      ]
    },
    {
      "cell_type": "code",
      "metadata": {
        "id": "mndQRMN4-hJV"
      },
      "source": [
        ""
      ],
      "execution_count": null,
      "outputs": []
    }
  ]
}