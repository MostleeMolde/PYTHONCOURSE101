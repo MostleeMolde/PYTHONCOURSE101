{
  "nbformat": 4,
  "nbformat_minor": 0,
  "metadata": {
    "interpreter": {
      "hash": "fd61235da8d855c081cbd5d7c6398e4c179a40a950675235256f7f30499f1124"
    },
    "kernelspec": {
      "display_name": "Python 3.7.4 64-bit ('base': conda)",
      "language": "python",
      "name": "python3"
    },
    "language_info": {
      "codemirror_mode": {
        "name": "ipython",
        "version": 3
      },
      "file_extension": ".py",
      "mimetype": "text/x-python",
      "name": "python",
      "nbconvert_exporter": "python",
      "pygments_lexer": "ipython3",
      "version": "3.7.4"
    },
    "orig_nbformat": 4,
    "colab": {
      "name": "number_guessing_game.ipynb",
      "provenance": [],
      "include_colab_link": true
    }
  },
  "cells": [
    {
      "cell_type": "markdown",
      "metadata": {
        "id": "view-in-github",
        "colab_type": "text"
      },
      "source": [
        "<a href=\"https://colab.research.google.com/github/MostleeMolde/PYTHONCOURSE101/blob/main/Review/number_guessing_game.ipynb\" target=\"_parent\"><img src=\"https://colab.research.google.com/assets/colab-badge.svg\" alt=\"Open In Colab\"/></a>"
      ]
    },
    {
      "cell_type": "markdown",
      "metadata": {
        "id": "nfLZhQzkkg3s"
      },
      "source": [
        "# Instructions \n",
        "In this challenge, it's you against the computer. The computer will generate a number between 1 and 100 and you have 6 attempts to guess what the number is.\n",
        "\n",
        "### Expectations\n",
        "- after each guess, print out the value of the guess\n",
        "- **For high guesses**\n",
        "    - if the guess is more than 20 numbers off, print `guess is too high`\n",
        "    - if the guess is equal to or less than 10 numbers off, print `just a little lower`\n",
        "    - otherwise print, `close, but your guess is high`\n",
        "- **For low guesses**\n",
        "    - if the guess is more than 20 numbers off, print `guess is too low`\n",
        "    - if the guess is equal to or less than 10 numbers off, print `just a little higher`\n",
        "    - otherwise print, `close, but your guess is low`\n",
        "- If the user can guess the number within the allowed number of attempts, print that they won and how many attepmts they had left\n",
        "- If the user loses, print that they lost along with what the number was.\n",
        "\n",
        "### Example output\n",
        "```\n",
        "You guessed 5\n",
        "Guess is too low\n",
        "\n",
        "You guessed 54\n",
        "Just a little higher\n",
        "\n",
        "You guessed 58\n",
        "Just a little higher\n",
        "\n",
        "You guessed 59\n",
        "Just a little higher\n",
        "\n",
        "You guessed 62\n",
        "You won!!! With 1 remaining moves \n",
        "```"
      ]
    },
    {
      "cell_type": "code",
      "metadata": {
        "id": "lR4J4yjekg3x",
        "colab": {
          "base_uri": "https://localhost:8080/"
        },
        "outputId": "b3886ade-0c9c-473a-80de-6561837b10b3"
      },
      "source": [
        "from random import randint\n",
        "# generate a random number\n",
        "number = randint(1, 100)\n",
        "# set the attempts counter\n",
        "attempts = 6\n",
        "#TODO Solution goes here\n",
        "while attempts != 0:\n",
        "  print(f\"You have {attempts} attempts remaining...\")\n",
        "  guess = int(input(\"Guess a number\"))\n",
        "  diff = guess - number\n",
        "  if guess == number:\n",
        "    print(f\"You WIN! You guessed the correct number {number}!\")\n",
        "    break\n",
        "  else:\n",
        "    if diff > 0:\n",
        "      if diff > 20:\n",
        "        print(\"Your guess is too high\")\n",
        "      elif diff <= 10:\n",
        "        print(\"Just a little lower\")\n",
        "      else:\n",
        "        print(\"Close but your guess is too high\")\n",
        "    elif diff < 0:\n",
        "      if diff < -20:\n",
        "        print(\"Your guess is too low\")\n",
        "      elif diff >= -10:\n",
        "        print(\"Just a little higher\")\n",
        "      else:\n",
        "        print(\"Close but your guess is too low\")\n",
        "  attempts -= 1\n",
        "if attempts == 0:\n",
        "  print(f\"You lose! The correct number was {number}\")"
      ],
      "execution_count": 3,
      "outputs": [
        {
          "output_type": "stream",
          "name": "stdout",
          "text": [
            "87\n",
            "You have 6 attempts remaining...\n",
            "Guess a number88\n",
            "Just a little lower\n",
            "You have 5 attempts remaining...\n",
            "Guess a number97\n",
            "Just a little lower\n",
            "You have 4 attempts remaining...\n",
            "Guess a number98\n",
            "Close but your guess is too high\n",
            "You have 3 attempts remaining...\n",
            "Guess a number1000\n",
            "Your guess is too high\n",
            "You have 2 attempts remaining...\n",
            "Guess a number86\n",
            "Just a little higher\n",
            "You have 1 attempts remaining...\n",
            "Guess a number75\n",
            "Close but your guess is too low\n",
            "You lose! The correct number was 87\n"
          ]
        }
      ]
    },
    {
      "cell_type": "code",
      "metadata": {
        "id": "Ri6RaR8lQLPB"
      },
      "source": [
        ""
      ],
      "execution_count": null,
      "outputs": []
    }
  ]
}