{
  "nbformat": 4,
  "nbformat_minor": 0,
  "metadata": {
    "orig_nbformat": 4,
    "colab": {
      "name": "palindrome.ipynb",
      "provenance": [],
      "include_colab_link": true
    },
    "language_info": {
      "name": "python"
    },
    "kernelspec": {
      "name": "python3",
      "display_name": "Python 3"
    }
  },
  "cells": [
    {
      "cell_type": "markdown",
      "metadata": {
        "id": "view-in-github",
        "colab_type": "text"
      },
      "source": [
        "<a href=\"https://colab.research.google.com/github/MostleeMolde/PYTHONCOURSE101/blob/main/Projects/Review/palindrome.ipynb\" target=\"_parent\"><img src=\"https://colab.research.google.com/assets/colab-badge.svg\" alt=\"Open In Colab\"/></a>"
      ]
    },
    {
      "cell_type": "markdown",
      "metadata": {
        "id": "YmH3wUHpaRIU"
      },
      "source": [
        "# Instructions \n",
        "A palindrome is any word or phrase that is the same when read normally or reversed. \n",
        "---\n",
        "\n",
        "***Your task is to write an algorithm that checks if a given string is a palindrome or not***"
      ]
    },
    {
      "cell_type": "code",
      "metadata": {
        "id": "AXvIr66ZaRIe",
        "outputId": "fb6ee186-ae07-411f-b381-8f27f2ef25de",
        "colab": {
          "base_uri": "https://localhost:8080/"
        }
      },
      "source": [
        "strings = [\n",
        "    \"racecar\",\n",
        "    \"washburn\",\n",
        "    \"radar\",\n",
        "    \"top spot\",\n",
        "    \"never\",\n",
        "    \"stats\"    \n",
        "]\n",
        "\n",
        "#TODO find all palindromes\n",
        "for i in strings:\n",
        "  if i == i[::-1]:\n",
        "    print(f\"{i} is a palendrome\")\n",
        "  else:\n",
        "    print(f\"{i} is not a palendrome\")\n"
      ],
      "execution_count": 8,
      "outputs": [
        {
          "output_type": "stream",
          "name": "stdout",
          "text": [
            "racecar is a palendrome\n",
            "washburn is not a palendrome\n",
            "radar is a palendrome\n",
            "top spot is not a palendrome\n",
            "never is not a palendrome\n",
            "stats is a palendrome\n"
          ]
        }
      ]
    },
    {
      "cell_type": "code",
      "metadata": {
        "id": "cqvMqWHXm-QZ"
      },
      "source": [
        ""
      ],
      "execution_count": null,
      "outputs": []
    }
  ]
}