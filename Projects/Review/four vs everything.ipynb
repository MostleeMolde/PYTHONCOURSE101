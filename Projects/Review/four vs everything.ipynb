{
  "nbformat": 4,
  "nbformat_minor": 0,
  "metadata": {
    "orig_nbformat": 4,
    "colab": {
      "name": "four vs everything.ipynb",
      "provenance": [],
      "include_colab_link": true
    },
    "language_info": {
      "name": "python"
    },
    "kernelspec": {
      "name": "python3",
      "display_name": "Python 3"
    }
  },
  "cells": [
    {
      "cell_type": "markdown",
      "metadata": {
        "id": "view-in-github",
        "colab_type": "text"
      },
      "source": [
        "<a href=\"https://colab.research.google.com/github/MostleeMolde/PYTHONCOURSE101/blob/main/Projects/Review/four%20vs%20everything.ipynb\" target=\"_parent\"><img src=\"https://colab.research.google.com/assets/colab-badge.svg\" alt=\"Open In Colab\"/></a>"
      ]
    },
    {
      "cell_type": "markdown",
      "metadata": {
        "id": "BAtCvEf1ZROD"
      },
      "source": [
        "# Instructions\n",
        "Generate a list of 24 random numbers. For each number in the list, check to see if it is divisible by 4. If the number is divisible by four, remove the number from the list and add it to a new list called `fours`. After you've looped through the list and have created a list of numbers divisible by four, find the sum of both lists and compare which one is bigger.\n",
        "\n",
        "### Example output\n",
        "`original = [2,4,6,8,10,12,14,16]`<br>\n",
        "`fours = [4,8,12,16]`<br>\n",
        "`original_sum = 72`<br>\n",
        "`fours = 40`"
      ]
    },
    {
      "cell_type": "code",
      "metadata": {
        "id": "ZFDPsQ3hZROM",
        "outputId": "0357afb4-67f6-4117-b2b9-702b084ae8f3",
        "colab": {
          "base_uri": "https://localhost:8080/"
        }
      },
      "source": [
        "#TODO Code goes here\n",
        "from random import randint\n",
        "numbers = []\n",
        "fours = []\n",
        "for i in range(24):\n",
        "  numbers.append(randint(0,100000000))\n",
        "for x in range(len(numbers)):\n",
        "  if numbers[x] % 4 == 0:\n",
        "   fours.append(numbers[x])\n",
        "for y in fours:\n",
        "  numbers.pop(numbers.index(y))\n",
        "print(f\"Original:{numbers}\",f\"Fours:{fours}\")\n",
        "if sum(fours) > sum(numbers):\n",
        "  print(f\"Fours is bigger at {sum(fours)} while Original is {sum(numbers)}\")\n",
        "elif sum(fours) < sum(numbers):\n",
        "  print(f\"Original is bigger at {sum(numbers)} while Fours is {sum(fours)}\")\n",
        "  \n"
      ],
      "execution_count": 36,
      "outputs": [
        {
          "output_type": "stream",
          "name": "stdout",
          "text": [
            "Original:[57872861, 99665350, 76608913, 88232491, 62016485, 40137513, 6426077, 29966281, 3994854, 78721547, 62567862, 69124034, 36296462, 27247113, 47167767, 11579387, 46598546] Fours:[11986900, 99033712, 58651496, 78553736, 66669852, 92530200, 16523392]\n",
            "Original is bigger at 844223543 while Fours is 423949288\n"
          ]
        }
      ]
    },
    {
      "cell_type": "code",
      "metadata": {
        "id": "3es_yGOwxLfz"
      },
      "source": [
        ""
      ],
      "execution_count": null,
      "outputs": []
    }
  ]
}