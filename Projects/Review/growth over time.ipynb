{
  "nbformat": 4,
  "nbformat_minor": 0,
  "metadata": {
    "orig_nbformat": 4,
    "colab": {
      "name": "growth over time.ipynb",
      "provenance": [],
      "include_colab_link": true
    },
    "language_info": {
      "name": "python"
    },
    "kernelspec": {
      "name": "python3",
      "display_name": "Python 3"
    }
  },
  "cells": [
    {
      "cell_type": "markdown",
      "metadata": {
        "id": "view-in-github",
        "colab_type": "text"
      },
      "source": [
        "<a href=\"https://colab.research.google.com/github/MostleeMolde/PYTHONCOURSE101/blob/main/Projects/Review/growth%20over%20time.ipynb\" target=\"_parent\"><img src=\"https://colab.research.google.com/assets/colab-badge.svg\" alt=\"Open In Colab\"/></a>"
      ]
    },
    {
      "cell_type": "markdown",
      "metadata": {
        "id": "hF6kkB9EZm3L"
      },
      "source": [
        "# Instructions\n",
        "You are working for a shoe company and they need help tracking their instagram growth over time. You are given a list of their followers for each month of the year and you are asked to calculate the follower change from month to month. You are also asked to report which month had the biggest increase in follower count.\n",
        "\n",
        "## Explaination\n",
        "You can calculate the change in follower count by subtracting the `current` count from the `next`. For example, consider the list `[3, 5, 20]`, by looping through the list we can index the `current` and `next` value simultaneously. Subtracting the `current` from the `next` will give us the change in followers. \n",
        "\n",
        "`current = 3, next = 5 -> difference = 2` <br>\n",
        "`current = 5, next = 20 -> difference = 15`\n",
        "\n",
        "Each time we calculate the difference in followers we can add the change to a new list called `activity`. This list should only have 11 values since we are calculating the month to month change. You can determine which month did the best by keeping track of the largest change in followers from month to month.\n",
        "\n",
        "## Expectations\n",
        "1. loop through the list of followers\n",
        "2. calculate the change in followers from the `current` and `next` month \n",
        "3. keep track of the month with the higest change in followers\n",
        "4. save the month to month activity in a list called `activity`\n",
        "5. print out the activity and which month did the best\n",
        "\n",
        "\n",
        "```python\n",
        "followers = [12, 34, 62, 54, 79, 73, 121, 138, 133, 177, 214, 266]\n",
        "months = ['jan', 'feb', 'march', 'april', 'may', 'june', 'july', 'aug', 'sept', 'oct', 'nov', 'dec']\n",
        "activity = [22, 28, -8, 25, 6, 48, 17, -5, 44, 37, 52]\n",
        "```\n",
        "\n",
        "`This is the change in followers over time [22, 28, -8, 25, 6, 48, 17, -5, 44, 37, 52] with december having the biggest increase in followers.`"
      ]
    },
    {
      "cell_type": "code",
      "metadata": {
        "id": "iwzfwr7wZm3S",
        "outputId": "197bcead-a250-470c-b13b-95497e80fd28",
        "colab": {
          "base_uri": "https://localhost:8080/"
        }
      },
      "source": [
        "followers = [121, 345, 622, 545, 790, 731, 1217, 1388, 1339, 1777, 2140, 2662]\n",
        "months = ['jan', 'feb', 'march', 'april', 'may',\n",
        "          'june', 'july', 'aug', 'sept', 'oct', 'nov', 'dec']\n",
        "\n",
        "#TODO Calculate activity over time and the month with the biggest increase.\n",
        "activity = []\n",
        "high = 0\n",
        "for i in range(len(followers)-1):\n",
        "  diff = followers[i+1] - followers[i]\n",
        "  activity.append(diff)\n",
        "\n",
        "for x in range(len(activity)):\n",
        "  if activity[x] > high:\n",
        "    high = activity[x]\n",
        "  elif activity[x] < high:\n",
        "    high = high \n",
        "print(f\"This is the change in followers over time {activity} with {months[activity.index(high)+1]} having the biggest increase in followers.\")\n"
      ],
      "execution_count": 12,
      "outputs": [
        {
          "output_type": "stream",
          "name": "stdout",
          "text": [
            "This is the change in followers over time [224, 277, -77, 245, -59, 486, 171, -49, 438, 363, 522] with dec having the biggest increase in followers.\n"
          ]
        }
      ]
    },
    {
      "cell_type": "code",
      "metadata": {
        "id": "dRop2mv44k_9"
      },
      "source": [
        ""
      ],
      "execution_count": null,
      "outputs": []
    }
  ]
}