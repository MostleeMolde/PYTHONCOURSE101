{
  "cells": [
    {
      "cell_type": "code",
      "execution_count": 1,
      "metadata": {
        "id": "ubgY4UgRq0of"
      },
      "outputs": [],
      "source": [
        "import json\n",
        "\n",
        "data1 = {\n",
        "    \"fruit\": \"Apple\",\n",
        "    \"size\": \"Large\",\n",
        "    \"color\": \"Red\"\n",
        "}\n",
        "\n",
        "data2 = {\n",
        "   \"firstName\": \"Joe\",\n",
        "   \"lastName\": \"Jackson\",\n",
        "   \"gender\": \"male\",\n",
        "   \"age\": 28,\n",
        "   \"address\": {\n",
        "       \"streetAddress\": \"101\",\n",
        "       \"city\": \"San Diego\",\n",
        "       \"state\": \"CA\"\n",
        "   },\n",
        "   \"phoneNumbers\": [\n",
        "       { \"type\": \"home\", \"number\": \"7349282382\" }\n",
        "   ]\n",
        "}\n",
        "\n",
        "data3 = {\n",
        "  \"people\" : [\n",
        "    {\n",
        "       \"firstName\": \"Joe\",\n",
        "       \"lastName\": \"Jackson\",\n",
        "       \"gender\": \"male\",\n",
        "       \"age\": 28,\n",
        "       \"number\": \"7349282382\"\n",
        "    },\n",
        "    {\n",
        "       \"firstName\": \"James\",\n",
        "       \"lastName\": \"Smith\",\n",
        "       \"gender\": \"male\",\n",
        "       \"age\": 32,\n",
        "       \"number\": \"5678568567\"\n",
        "    },\n",
        "    {\n",
        "       \"firstName\": \"Emily\",\n",
        "       \"lastName\": \"Jones\",\n",
        "       \"gender\": \"female\",\n",
        "       \"age\": 24,\n",
        "       \"number\": \"456754675\"\n",
        "    }\n",
        "  ]\n",
        "}\n"
      ]
    },
    {
      "cell_type": "markdown",
      "metadata": {
        "id": "tBynB-V6q0oh"
      },
      "source": [
        "# TASK 1\n",
        "Create a directory called `task files`."
      ]
    },
    {
      "cell_type": "code",
      "execution_count": 29,
      "metadata": {
        "id": "kB618sQaq0oi"
      },
      "outputs": [],
      "source": [
        "#TODO\n",
        "import os\n",
        "os.makedirs('/task_files')"
      ]
    },
    {
      "cell_type": "code",
      "source": [
        "os.getcwd()"
      ],
      "metadata": {
        "id": "7Xs7_vtttyEx",
        "outputId": "b4099afe-0db6-4be2-a865-eed4615d0a58",
        "colab": {
          "base_uri": "https://localhost:8080/",
          "height": 37
        }
      },
      "execution_count": 34,
      "outputs": [
        {
          "output_type": "execute_result",
          "data": {
            "application/vnd.google.colaboratory.intrinsic+json": {
              "type": "string"
            },
            "text/plain": [
              "'/'"
            ]
          },
          "metadata": {},
          "execution_count": 34
        }
      ]
    },
    {
      "cell_type": "markdown",
      "metadata": {
        "id": "PAyUXuGDq0oi"
      },
      "source": [
        "# TASK 2\n",
        "In the `task files` directory, create a subdirectory called `outputs` and then create text file that will store your name, age, and favorite game."
      ]
    },
    {
      "cell_type": "code",
      "source": [
        "from google.colab import drive\n",
        "drive.mount('/content/drive')"
      ],
      "metadata": {
        "id": "0FwlXzatrtzH",
        "outputId": "ffa4dc0a-ca88-4b4b-86ee-3fb08dc50feb",
        "colab": {
          "base_uri": "https://localhost:8080/"
        }
      },
      "execution_count": 6,
      "outputs": [
        {
          "output_type": "stream",
          "name": "stdout",
          "text": [
            "Mounted at /content/drive\n"
          ]
        }
      ]
    },
    {
      "cell_type": "code",
      "execution_count": 36,
      "metadata": {
        "id": "PNeSQPVeq0oj"
      },
      "outputs": [],
      "source": [
        "#TODO\n",
        "os.makedirs(\"task_files/outputs\")"
      ]
    },
    {
      "cell_type": "code",
      "source": [
        "with open(\"/task_files/outputs/data.txt\",\"w\") as file:\n",
        "  file.write(\"Oliver,15,Valorant\")"
      ],
      "metadata": {
        "id": "2nhRFQgrsZp6"
      },
      "execution_count": 37,
      "outputs": []
    },
    {
      "cell_type": "markdown",
      "metadata": {
        "id": "QCdGAL-sq0oj"
      },
      "source": [
        "# TASK 3\n",
        "Using the data3 dictionary, count how many people there are and calculate the average age. Then save the number of people and average age to a json file called `people.json` under the `outputs` subdirectory."
      ]
    },
    {
      "cell_type": "code",
      "execution_count": 42,
      "metadata": {
        "id": "_6JeCFowq0oj"
      },
      "outputs": [],
      "source": [
        "#TODO\n",
        "import json\n",
        "count = 0\n",
        "ages_sum = 0\n",
        "for i in data3[\"people\"]:\n",
        "  ages_sum += i[\"age\"]\n",
        "  count += 1\n",
        "avg = ages_sum / count\n",
        "\n",
        "with open(\"task_files/outputs/people.json\",\"w\") as file:\n",
        "  json.dump(avg,file)\n"
      ]
    },
    {
      "cell_type": "markdown",
      "metadata": {
        "id": "JKzoK3Tpq0ok"
      },
      "source": [
        "# TASK 4\n",
        "Use the function below to download some json data for you. Then load the file and count how many `primary` and `secondary` followers there are. Then create a dictionary with the count of each and save that dictionary to a file called `ftypes.json` under the `task files/outputs` directory."
      ]
    },
    {
      "cell_type": "code",
      "execution_count": null,
      "metadata": {
        "id": "PYr0Rm98q0ok"
      },
      "outputs": [],
      "source": [
        "import requests\n",
        "def generate_json():\n",
        "    url = \"https://raw.githubusercontent.com/Gabe-flomo/Instagram-Dashboard/master/JSON/followers.json?token=GHSAT0AAAAAABPLRJR7FM6TOSFGFT4ZZ6MCYQVWYFQ\"\n",
        "    data = requests.get(url).json()\n",
        "    try:\n",
        "        with open('task files/followers.json', 'w') as file:\n",
        "            json.dump(data, file, indent = 2)\n",
        "    except FileNotFoundError as e:\n",
        "        print(\"The directory `task files` has either not been created, been created with the wrong name, or has been created in the wrong location.\")\n",
        "        print(\"Make sure the folder `task files` is created, then run the function again.\")\n",
        "\n",
        "generate_json()"
      ]
    },
    {
      "cell_type": "code",
      "execution_count": null,
      "metadata": {
        "id": "ThGRPrYuq0ok"
      },
      "outputs": [],
      "source": [
        "#TODO"
      ]
    },
    {
      "cell_type": "markdown",
      "metadata": {
        "id": "KE7hAtprq0ol"
      },
      "source": [
        "# TASK 5\n",
        "using the same follower data, write a function that will group all of the followers into categories determined based on the `group_type` argument.\n",
        "- `alpha`: Groups by the starting letter of the username. So all the usernames that start with `A` go to the `A` category and all the usernames that start with `B` go to the `B` category.\n",
        "\n",
        "- `length`: Groups by the length of each username.\n",
        "\n",
        "```python\n",
        "categories = group(group_type = 'alpha')\n",
        "categories -> {\n",
        "    'A': ['Alexis','Amber','Anya'],\n",
        "    'B': ['Brian', 'Bianca'],\n",
        "    'C': ['Chris', 'Chyanne', 'corey']\n",
        "    ...\n",
        "}\n",
        "\n",
        "categories = group(group_type = 'length')\n",
        "categories -> {\n",
        "    2: ['io', 'me'],\n",
        "    3: ['cam', 'ben', 'lia'],\n",
        "    4: ['brin', 'alex'],\n",
        "    ...\n",
        "}\n",
        "```\n",
        "Then write the dictionary to a JSON file called `groups.json` under the `outputs` directory."
      ]
    },
    {
      "cell_type": "code",
      "execution_count": null,
      "metadata": {
        "id": "HexC5Jowq0ol"
      },
      "outputs": [],
      "source": [
        ""
      ]
    }
  ],
  "metadata": {
    "interpreter": {
      "hash": "f1a916808f2d29f1a5fbd48aa1cb9129993ca703ecce713879d0cd946e898e32"
    },
    "kernelspec": {
      "display_name": "Python 3.9.7 ('legacy')",
      "language": "python",
      "name": "python3"
    },
    "language_info": {
      "codemirror_mode": {
        "name": "ipython",
        "version": 3
      },
      "file_extension": ".py",
      "mimetype": "text/x-python",
      "name": "python",
      "nbconvert_exporter": "python",
      "pygments_lexer": "ipython3",
      "version": "3.9.7"
    },
    "orig_nbformat": 4,
    "colab": {
      "name": "files_tasks.ipynb",
      "provenance": []
    }
  },
  "nbformat": 4,
  "nbformat_minor": 0
}