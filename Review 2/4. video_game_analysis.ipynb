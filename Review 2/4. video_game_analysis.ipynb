{
  "cells": [
    {
      "cell_type": "markdown",
      "metadata": {
        "id": "1y1o_MhMo759"
      },
      "source": [
        "# Instructions\n",
        "Given a dataset of video game data, complete the following tasks."
      ]
    },
    {
      "cell_type": "code",
      "execution_count": 1,
      "metadata": {
        "id": "LmSX0aEeo75-",
        "outputId": "5a5cf739-00e0-4559-abfb-ac9d31313f98",
        "colab": {
          "base_uri": "https://localhost:8080/"
        }
      },
      "outputs": [
        {
          "output_type": "execute_result",
          "data": {
            "text/plain": [
              "[{'Critic_Count': 51.0,\n",
              "  'Critic_Score': 76.0,\n",
              "  'Developer': 'Nintendo',\n",
              "  'EU_Sales': 28.96,\n",
              "  'Genre': 'Sports',\n",
              "  'Global_Sales': 82.53,\n",
              "  'JP_Sales': 3.77,\n",
              "  'NA_Sales': 41.36,\n",
              "  'Name': 'Wii Sports',\n",
              "  'Other_Sales': 8.45,\n",
              "  'Platform': 'Wii',\n",
              "  'Publisher': 'Nintendo',\n",
              "  'Rating': 'E',\n",
              "  'User_Count': 322.0,\n",
              "  'User_Score': '8',\n",
              "  'Year_of_Release': 2006.0},\n",
              " {'Critic_Count': nan,\n",
              "  'Critic_Score': nan,\n",
              "  'Developer': nan,\n",
              "  'EU_Sales': 3.58,\n",
              "  'Genre': 'Platform',\n",
              "  'Global_Sales': 40.24,\n",
              "  'JP_Sales': 6.81,\n",
              "  'NA_Sales': 29.08,\n",
              "  'Name': 'Super Mario Bros.',\n",
              "  'Other_Sales': 0.77,\n",
              "  'Platform': 'NES',\n",
              "  'Publisher': 'Nintendo',\n",
              "  'Rating': nan,\n",
              "  'User_Count': nan,\n",
              "  'User_Score': nan,\n",
              "  'Year_of_Release': 1985.0},\n",
              " {'Critic_Count': 73.0,\n",
              "  'Critic_Score': 82.0,\n",
              "  'Developer': 'Nintendo',\n",
              "  'EU_Sales': 12.76,\n",
              "  'Genre': 'Racing',\n",
              "  'Global_Sales': 35.52,\n",
              "  'JP_Sales': 3.79,\n",
              "  'NA_Sales': 15.68,\n",
              "  'Name': 'Mario Kart Wii',\n",
              "  'Other_Sales': 3.29,\n",
              "  'Platform': 'Wii',\n",
              "  'Publisher': 'Nintendo',\n",
              "  'Rating': 'E',\n",
              "  'User_Count': 709.0,\n",
              "  'User_Score': '8.3',\n",
              "  'Year_of_Release': 2008.0},\n",
              " {'Critic_Count': 73.0,\n",
              "  'Critic_Score': 80.0,\n",
              "  'Developer': 'Nintendo',\n",
              "  'EU_Sales': 10.93,\n",
              "  'Genre': 'Sports',\n",
              "  'Global_Sales': 32.77,\n",
              "  'JP_Sales': 3.28,\n",
              "  'NA_Sales': 15.61,\n",
              "  'Name': 'Wii Sports Resort',\n",
              "  'Other_Sales': 2.95,\n",
              "  'Platform': 'Wii',\n",
              "  'Publisher': 'Nintendo',\n",
              "  'Rating': 'E',\n",
              "  'User_Count': 192.0,\n",
              "  'User_Score': '8',\n",
              "  'Year_of_Release': 2009.0},\n",
              " {'Critic_Count': nan,\n",
              "  'Critic_Score': nan,\n",
              "  'Developer': nan,\n",
              "  'EU_Sales': 8.89,\n",
              "  'Genre': 'Role-Playing',\n",
              "  'Global_Sales': 31.37,\n",
              "  'JP_Sales': 10.22,\n",
              "  'NA_Sales': 11.27,\n",
              "  'Name': 'Pokemon Red/Pokemon Blue',\n",
              "  'Other_Sales': 1.0,\n",
              "  'Platform': 'GB',\n",
              "  'Publisher': 'Nintendo',\n",
              "  'Rating': nan,\n",
              "  'User_Count': nan,\n",
              "  'User_Score': nan,\n",
              "  'Year_of_Release': 1996.0}]"
            ]
          },
          "metadata": {},
          "execution_count": 1
        }
      ],
      "source": [
        "import pandas as pd\n",
        "\n",
        "def get_game_data():\n",
        "    url = \"https://raw.githubusercontent.com/Gabe-flomo/Python-Course/main/Projects/3.%20Data%20structures%20/files/Video_Games_Sales_as_at_22_Dec_2016.csv\"\n",
        "    df = pd.read_csv(url)\n",
        "    return df.to_dict('records')\n",
        "\n",
        "games = get_game_data()\n",
        "games[:5]\n"
      ]
    },
    {
      "cell_type": "markdown",
      "metadata": {
        "id": "LXX6HfQUo76A"
      },
      "source": [
        "# Objective 1\n",
        "Determine how many games were released for each year\n",
        "\n",
        "## Example output\n",
        "```python\n",
        "games_per_year = {\n",
        "    '2010': 43,\n",
        "    '2011': 32,\n",
        "    '2012': 65\n",
        "}\n",
        "```"
      ]
    },
    {
      "cell_type": "code",
      "execution_count": 29,
      "metadata": {
        "id": "rfTbXG1go76A",
        "outputId": "d4192bff-ad37-44be-d43b-a7c4067b26c0",
        "colab": {
          "base_uri": "https://localhost:8080/"
        }
      },
      "outputs": [
        {
          "output_type": "execute_result",
          "data": {
            "text/plain": [
              "{1980.0: 9,\n",
              " 1981.0: 46,\n",
              " 1982.0: 36,\n",
              " 1983.0: 17,\n",
              " 1984.0: 14,\n",
              " 1985.0: 14,\n",
              " 1986.0: 21,\n",
              " 1987.0: 16,\n",
              " 1988.0: 15,\n",
              " 1989.0: 17,\n",
              " 1990.0: 16,\n",
              " 1991.0: 41,\n",
              " 1992.0: 43,\n",
              " 1993.0: 62,\n",
              " 1994.0: 121,\n",
              " 1995.0: 219,\n",
              " 1996.0: 263,\n",
              " 1997.0: 289,\n",
              " 1998.0: 379,\n",
              " 1999.0: 338,\n",
              " 2000.0: 350,\n",
              " 2001.0: 482,\n",
              " 2002.0: 829,\n",
              " 2003.0: 775,\n",
              " 2004.0: 762,\n",
              " 2005.0: 939,\n",
              " 2006.0: 1006,\n",
              " 2007.0: 1197,\n",
              " 2008.0: 1427,\n",
              " 2009.0: 1426,\n",
              " 2010.0: 1255,\n",
              " 2011.0: 1136,\n",
              " 2012.0: 653,\n",
              " 2013.0: 544,\n",
              " 2014.0: 581,\n",
              " 2015.0: 606,\n",
              " 2016.0: 502,\n",
              " 2017.0: 3,\n",
              " 2020.0: 1,\n",
              " 'N/A': 269}"
            ]
          },
          "metadata": {},
          "execution_count": 29
        }
      ],
      "source": [
        "#TODO\n",
        "games_per_year = {}\n",
        "na = 0\n",
        "for i in games:\n",
        "  if i[\"Year_of_Release\"] > 1:\n",
        "    games_per_year.setdefault(i[\"Year_of_Release\"],0)\n",
        "    games_per_year[i[\"Year_of_Release\"]] += 1\n",
        "  else:\n",
        "    na += 1\n",
        "games_per_year[\"N/A\"] = na\n",
        "games_per_year"
      ]
    },
    {
      "cell_type": "markdown",
      "metadata": {
        "id": "ITxv-5gto76B"
      },
      "source": [
        "# Objective 2\n",
        "Based on how many games were released per year, find the year when the most games were released and then find out which `publisher` released the most games for that year and how many games that got released. \n",
        "\n",
        "## Example output\n",
        "```python\n",
        "max_release_year = 2012\n",
        "'In 2012 Nintendo released the most games with a total of 22'\n",
        "```"
      ]
    },
    {
      "cell_type": "code",
      "execution_count": 33,
      "metadata": {
        "id": "uzQUOSP_o76B",
        "outputId": "dba5dbf0-6e2a-496c-a176-374783641a1e",
        "colab": {
          "base_uri": "https://localhost:8080/"
        }
      },
      "outputs": [
        {
          "output_type": "execute_result",
          "data": {
            "text/plain": [
              "(2008.0, 1427)"
            ]
          },
          "metadata": {},
          "execution_count": 33
        }
      ],
      "source": [
        "#TODO\n",
        "switch = {}\n",
        "for i in games_per_year:\n",
        "  switch[games_per_year[i]] = i\n",
        "\n",
        "amount = max(switch)\n",
        "year = switch[max(switch)]\n",
        "year, amount"
      ]
    },
    {
      "cell_type": "markdown",
      "metadata": {
        "id": "jIFd3mcmo76C"
      },
      "source": [
        "# Objective 3\n",
        "What is the most common game `genre` and which `publisher` released the most games under that `genre`?\n",
        "\n",
        "## Example output \n",
        "```python \n",
        "'The most common genre is Racing and Nintendo released the most racing games'\n",
        "```"
      ]
    },
    {
      "cell_type": "code",
      "execution_count": null,
      "metadata": {
        "id": "ej6rjNnXo76C"
      },
      "outputs": [],
      "source": [
        "#TODO"
      ]
    },
    {
      "cell_type": "markdown",
      "metadata": {
        "id": "jKacHpG7o76C"
      },
      "source": [
        "# Objective 4\n",
        "Have the user input a year and find which `game` and `publisher` had the highest `Global_Sales` in that year, as well as the amount of global sales they had?\n",
        "\n",
        "## Example output\n",
        "```python\n",
        "\"The game Wii Sports Resort had the higherst global sales in 2009 with a total of 32.77\"\n",
        "```"
      ]
    },
    {
      "cell_type": "code",
      "execution_count": null,
      "metadata": {
        "id": "CGapY3-Wo76D"
      },
      "outputs": [],
      "source": [
        "#TODO"
      ]
    }
  ],
  "metadata": {
    "interpreter": {
      "hash": "f1a916808f2d29f1a5fbd48aa1cb9129993ca703ecce713879d0cd946e898e32"
    },
    "kernelspec": {
      "display_name": "Python 3.9.7 64-bit ('legacy': conda)",
      "language": "python",
      "name": "python3"
    },
    "language_info": {
      "codemirror_mode": {
        "name": "ipython",
        "version": 3
      },
      "file_extension": ".py",
      "mimetype": "text/x-python",
      "name": "python",
      "nbconvert_exporter": "python",
      "pygments_lexer": "ipython3",
      "version": "3.9.7"
    },
    "orig_nbformat": 4,
    "colab": {
      "name": "4. video_game_analysis.ipynb",
      "provenance": []
    }
  },
  "nbformat": 4,
  "nbformat_minor": 0
}