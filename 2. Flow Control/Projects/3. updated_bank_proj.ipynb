{
  "nbformat": 4,
  "nbformat_minor": 0,
  "metadata": {
    "colab": {
      "name": "3. updated_bank_proj.ipynb",
      "provenance": [],
      "include_colab_link": true
    },
    "orig_nbformat": 4,
    "language_info": {
      "name": "python"
    },
    "kernelspec": {
      "name": "python3",
      "display_name": "Python 3"
    }
  },
  "cells": [
    {
      "cell_type": "markdown",
      "metadata": {
        "id": "view-in-github",
        "colab_type": "text"
      },
      "source": [
        "<a href=\"https://colab.research.google.com/github/MostleeMolde/PYTHONCOURSE101/blob/main/2.%20Flow%20Control/Projects/3.%20updated_bank_proj.ipynb\" target=\"_parent\"><img src=\"https://colab.research.google.com/assets/colab-badge.svg\" alt=\"Open In Colab\"/></a>"
      ]
    },
    {
      "cell_type": "markdown",
      "metadata": {
        "id": "_5_wDW2T7nO2"
      },
      "source": [
        "# Instructions\n",
        "Using the code from our previous bank project, update it so that all of the operations can be done inside of a loop. Doing this this will let users do multiple operations one after another.\n",
        "-----\n",
        "\n",
        "**For example: I could deposit $100, withdraw $27, then deposit another $100**\n",
        "\n",
        "- Let the users choose which transaction they want to do (withdraw or deposit)\n",
        "- keep updating the total bank balance after each transaction\n",
        "- create a list (or two) that will keep track of each transaction the user makes\n",
        "- break the loop if the user enters `logout` as a transaction\n",
        "- when the user logs out, print that the user has logged out along with the current bank balance and how many deposits and withdraws they made\n",
        "\n",
        "### Example output\n",
        "- `\"You deposited $100\"`\n",
        "- `\"You withdrew $57\"`\n",
        "- `\"You withdrew $19\"`\n",
        "- `\"You have logged out. Your current balance is $24 and you made 1 deposit and 2 withdrawls\"`"
      ]
    },
    {
      "cell_type": "code",
      "metadata": {
        "id": "TBniS9jx7nO-",
        "outputId": "89992cc3-e0b5-481e-dea9-1332c6f71715",
        "colab": {
          "base_uri": "https://localhost:8080/"
        }
      },
      "source": [
        "from random import randint\n",
        "amount = randint(500,100000)\n",
        "W = 0\n",
        "D = 0\n",
        "while True:\n",
        "  print(f\"Your money: ${amount}\")\n",
        "  action = input(\"What would you like to do? D/W/logout\")\n",
        "  if action.upper() == \"D\":\n",
        "    money = int(input(\"How much would you like to deposit?\"))\n",
        "    amount += money\n",
        "    print(f\"Deposited ${money}\")\n",
        "    D += 1\n",
        "  elif action.upper() == \"W\":\n",
        "    money = int(input(\"How much would you like to withdraw?\"))\n",
        "    amount -= money\n",
        "    print(f\"Withdrew ${money}\")\n",
        "    W += 1\n",
        "  elif action.lower() == \"logout\":\n",
        "   break\n",
        "   print(\"HELP\")\n",
        "\n",
        "print(f\"Your final account amount: ${amount}, depositing {D} times and withdrawing {W} times.\")"
      ],
      "execution_count": 9,
      "outputs": [
        {
          "output_type": "stream",
          "name": "stdout",
          "text": [
            "Your money: $96637\n",
            "What would you like to do? D/W/logoutD\n",
            "How much would you like to deposit?90909024\n",
            "Deposited $90909024\n",
            "Your money: $91005661\n",
            "What would you like to do? D/W/logoutW\n",
            "How much would you like to withdraw?4902408\n",
            "Withdrew $4902408\n",
            "Your money: $86103253\n",
            "What would you like to do? D/W/logoutD\n",
            "How much would you like to deposit?29382\n",
            "Deposited $29382\n",
            "Your money: $86132635\n",
            "What would you like to do? D/W/logoutD\n",
            "How much would you like to deposit?20932\n",
            "Deposited $20932\n",
            "Your money: $86153567\n",
            "What would you like to do? D/W/logoutlogout\n",
            "Your final account amount: $86153567, depositing 3 times and withdrawing 1 times.\n"
          ]
        }
      ]
    },
    {
      "cell_type": "code",
      "metadata": {
        "id": "FD-pNqOw4N_1"
      },
      "source": [
        ""
      ],
      "execution_count": null,
      "outputs": []
    }
  ]
}