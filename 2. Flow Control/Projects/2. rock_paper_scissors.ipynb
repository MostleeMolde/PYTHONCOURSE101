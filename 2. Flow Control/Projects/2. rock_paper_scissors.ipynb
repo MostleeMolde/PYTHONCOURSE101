{
  "nbformat": 4,
  "nbformat_minor": 0,
  "metadata": {
    "orig_nbformat": 4,
    "colab": {
      "name": "2. rock_paper_scissors.ipynb",
      "provenance": [],
      "include_colab_link": true
    },
    "language_info": {
      "name": "python"
    },
    "kernelspec": {
      "name": "python3",
      "display_name": "Python 3"
    }
  },
  "cells": [
    {
      "cell_type": "markdown",
      "metadata": {
        "id": "view-in-github",
        "colab_type": "text"
      },
      "source": [
        "<a href=\"https://colab.research.google.com/github/MostleeMolde/PYTHONCOURSE101/blob/main/2.%20Flow%20Control/Projects/2.%20rock_paper_scissors.ipynb\" target=\"_parent\"><img src=\"https://colab.research.google.com/assets/colab-badge.svg\" alt=\"Open In Colab\"/></a>"
      ]
    },
    {
      "cell_type": "markdown",
      "metadata": {
        "id": "gXqP5cl3mFTY"
      },
      "source": [
        "# Instructions\n",
        "implement the game rock, paper, scissors using flow control. It's you agains the computer and your task is to implement the logic below.\n",
        "\n",
        "- have the computer randomly pick a move `rock, paper, or scissors`\n",
        "- input your move `rock, paper, or scissors`\n",
        "- determine the winner based on your choice and the computer choice\n",
        "\n",
        "<br>\n",
        "\n",
        "- rock beats scissors\n",
        "- scissors beats paper\n",
        "- paper beats rock"
      ]
    },
    {
      "cell_type": "code",
      "metadata": {
        "id": "47dqFxgZmFTc",
        "outputId": "88078a27-0a74-41f6-f12d-4b364a9a4b60",
        "colab": {
          "base_uri": "https://localhost:8080/"
        }
      },
      "source": [
        "from random import choice\n",
        "moves = [\"Rock\",\"Paper\",\"Scissors\"]\n",
        "move = choice(moves)\n",
        "Pmove = input(\"What's your move? R/P/S\")\n",
        "if Pmove == \"R\":\n",
        "  if move == \"Scissors\":\n",
        "    Print(\"You Win! Rock beats Scissors\")\n",
        "  elif move == \"Paper\":\n",
        "    print(\"You lose! Rock loses to Paper\")\n",
        "  else:\n",
        "    print(\"Tie! Both Rock\")\n",
        "if Pmove == \"P\":\n",
        "  if move == \"Rock\":\n",
        "    print(\"You Win! Paper beats Rock\")\n",
        "  elif move == \"Scissors\":\n",
        "    print(\"You lose! Paper loses to Scissors\")\n",
        "  else:\n",
        "    print(\"Tie! Both Paper\")\n",
        "if Pmove == \"S\":\n",
        "  if move == \"Paper\":\n",
        "    print(\"You Win! Scissors beats Paper\")\n",
        "  elif move == \"Rock\":\n",
        "    print(\"You Lose! Scissors loses to Rock\")\n",
        "  else:\n",
        "    print(\"Tie! Both Scissors\")\n",
        "\n",
        "\n"
      ],
      "execution_count": 9,
      "outputs": [
        {
          "output_type": "stream",
          "name": "stdout",
          "text": [
            "What's your move? R/P/SP\n",
            "You Win! Paper beats Rock\n"
          ]
        }
      ]
    },
    {
      "cell_type": "code",
      "metadata": {
        "id": "HPUFOkHJJj7_"
      },
      "source": [
        ""
      ],
      "execution_count": null,
      "outputs": []
    }
  ]
}