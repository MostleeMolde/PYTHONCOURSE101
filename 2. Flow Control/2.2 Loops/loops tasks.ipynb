{
  "nbformat": 4,
  "nbformat_minor": 0,
  "metadata": {
    "interpreter": {
      "hash": "fd61235da8d855c081cbd5d7c6398e4c179a40a950675235256f7f30499f1124"
    },
    "kernelspec": {
      "display_name": "Python 3.7.4 64-bit ('base': conda)",
      "name": "python3"
    },
    "language_info": {
      "codemirror_mode": {
        "name": "ipython",
        "version": 3
      },
      "file_extension": ".py",
      "mimetype": "text/x-python",
      "name": "python",
      "nbconvert_exporter": "python",
      "pygments_lexer": "ipython3",
      "version": "3.7.4"
    },
    "orig_nbformat": 4,
    "colab": {
      "name": "loops tasks.ipynb",
      "provenance": [],
      "include_colab_link": true
    }
  },
  "cells": [
    {
      "cell_type": "markdown",
      "metadata": {
        "id": "view-in-github",
        "colab_type": "text"
      },
      "source": [
        "<a href=\"https://colab.research.google.com/github/MostleeMolde/PYTHONCOURSE101/blob/main/2.%20Flow%20Control/2.2%20Loops/loops%20tasks.ipynb\" target=\"_parent\"><img src=\"https://colab.research.google.com/assets/colab-badge.svg\" alt=\"Open In Colab\"/></a>"
      ]
    },
    {
      "cell_type": "markdown",
      "metadata": {
        "id": "GhdE4ELP7DrR"
      },
      "source": [
        "## TASK 1\n",
        "* create a 5 element list of strings \n",
        "* loop over each string and print out the string along with its length"
      ]
    },
    {
      "cell_type": "code",
      "metadata": {
        "id": "4UoQwRpS7DrW",
        "colab": {
          "base_uri": "https://localhost:8080/"
        },
        "outputId": "b3c354c6-ea65-4a2c-ac76-6f1a57375aa4"
      },
      "source": [
        "#TODO \n",
        "thing = [\"One\",\"Two\",\"Three\",\"Four\",\"Five\"]\n",
        "for i in thing:\n",
        "  print(i,len(i))"
      ],
      "execution_count": null,
      "outputs": [
        {
          "output_type": "stream",
          "name": "stdout",
          "text": [
            "One 3\n",
            "Two 3\n",
            "Three 5\n",
            "Four 4\n",
            "Five 4\n"
          ]
        }
      ]
    },
    {
      "cell_type": "markdown",
      "metadata": {
        "id": "3tf9E08U7DrY"
      },
      "source": [
        "## TASK 2\n",
        "- create a 6 element list or tuple\n",
        "- loop through a range equal to the length of the list or tuple\n",
        "- print out the current `iteration value` along with the element in your list or tuple at that position\n",
        "\n",
        "**Example**\n",
        "```python\n",
        "var = [10, 45, 32, 16]\n",
        "\n",
        "# should output\n",
        "0) 10\n",
        "1) 45\n",
        "2) 32\n",
        "3) 16\n",
        "```"
      ]
    },
    {
      "cell_type": "code",
      "metadata": {
        "id": "NaO69ED87DrZ",
        "colab": {
          "base_uri": "https://localhost:8080/"
        },
        "outputId": "dcb759af-1754-4ed8-8391-d3cce26bea4f"
      },
      "source": [
        "#TODO\n",
        "thing = [94,55,63,22,77,22]\n",
        "for i in range(len(thing)):\n",
        "  print(i,thing[i])\n"
      ],
      "execution_count": null,
      "outputs": [
        {
          "output_type": "stream",
          "name": "stdout",
          "text": [
            "0 94\n",
            "1 55\n",
            "2 63\n",
            "3 22\n",
            "4 77\n",
            "5 22\n"
          ]
        }
      ]
    },
    {
      "cell_type": "markdown",
      "metadata": {
        "id": "fZeyQ7bb7DrZ"
      },
      "source": [
        "## TASK 3\n",
        "- create an infinite while loop\n",
        "- ask the user to input their name \n",
        "- display the name\n",
        "- break the loop if the name is equal to `exit`"
      ]
    },
    {
      "cell_type": "code",
      "metadata": {
        "id": "qvH07UZ07Dra",
        "colab": {
          "base_uri": "https://localhost:8080/"
        },
        "outputId": "0274159f-0676-41e3-d487-a93c101f37b6"
      },
      "source": [
        "#TODO\n",
        "while True:\n",
        "  name = input(\"What's your name\")\n",
        "  print(name)\n",
        "  if name.lower() == \"exit\":\n",
        "    break"
      ],
      "execution_count": null,
      "outputs": [
        {
          "output_type": "stream",
          "name": "stdout",
          "text": [
            "What's your names\n",
            "s\n",
            "What's your nameOliv\n",
            "Oliv\n",
            "What's your nameOlie\n",
            "Olie\n",
            "What's your nameExit\n",
            "Exit\n"
          ]
        }
      ]
    },
    {
      "cell_type": "markdown",
      "metadata": {
        "id": "XNsxgJHJ7Dra"
      },
      "source": [
        "## TASK 4\n",
        "- use any type of loop you want to find the largest value in the list\n",
        "\n",
        "**Hint**\n",
        "- declare a `maximum` variable outside of the loop and set it equal to 0\n",
        "- find values bigger than the current max"
      ]
    },
    {
      "cell_type": "code",
      "metadata": {
        "id": "Tm5OIplU7Drb",
        "colab": {
          "base_uri": "https://localhost:8080/"
        },
        "outputId": "70c07148-a47c-464c-aa29-f6c8a3a163dc"
      },
      "source": [
        "var = [20.542, .0432, 65.88, 69.689, .00053, 102.432, 66.32]\n",
        "maximum = 0\n",
        "#TODO: Find largest value\n",
        "for i in var:\n",
        "  if i > maximum:\n",
        "    maximum = i\n",
        "print(maximum)"
      ],
      "execution_count": null,
      "outputs": [
        {
          "output_type": "stream",
          "name": "stdout",
          "text": [
            "102.432\n"
          ]
        }
      ]
    },
    {
      "cell_type": "markdown",
      "metadata": {
        "id": "dn6gBxr-7Drc"
      },
      "source": [
        "## TASK 5\n",
        "- create a 10 element list of numbers\n",
        "- Use a for loop to loop through each `value`\n",
        "- convert the current `value` to a string and store it in the variable `string_number`\n",
        "- index the first value in the `string_number` and convert it back to an integer and assign it to `reconverted`\n",
        "- multiply `reconverted` and `value` and assign the result to the variable `product`\n",
        "- check to see if `product` is even or odd\n",
        "- if it's even print EVEN along with the `product`\n",
        "- if it's odd print ODD along with the `product`"
      ]
    },
    {
      "cell_type": "code",
      "metadata": {
        "id": "zDq1o7AL7Drd",
        "colab": {
          "base_uri": "https://localhost:8080/"
        },
        "outputId": "9a06ac39-49e9-4ea2-e221-9c793164a4e0"
      },
      "source": [
        "#TODO\n",
        "numbers = [23, 65, 33, 65, 12, 34, 44, 48, 64, 79]\n",
        "for value in numbers:\n",
        "  string_number = str(value)\n",
        "  reconverted = int(string_number[0])\n",
        "  product = reconverted * value\n",
        "  if product % 2 == 0:\n",
        "    print(\"EVEN\", product)\n",
        "  else:\n",
        "    print(\"ODD\", product)\n"
      ],
      "execution_count": null,
      "outputs": [
        {
          "output_type": "stream",
          "name": "stdout",
          "text": [
            "EVEN 46\n",
            "EVEN 390\n",
            "ODD 99\n",
            "EVEN 390\n",
            "EVEN 12\n",
            "EVEN 102\n",
            "EVEN 176\n",
            "EVEN 192\n",
            "EVEN 384\n",
            "ODD 553\n"
          ]
        }
      ]
    },
    {
      "cell_type": "markdown",
      "metadata": {
        "id": "YO3E1lEp7Dre"
      },
      "source": [
        "## TASK 6\n",
        "- create an empty list called `divisible_by_5`\n",
        "- loop through the list of numbers\n",
        "- find all of the numbers divisible by 5 (a number is divisible by 5 if the remainder is 0)\n",
        "- If a number is divisible by 5, add it to the `divisible_by_5` list"
      ]
    },
    {
      "cell_type": "code",
      "metadata": {
        "id": "x2zzsl3M7Dre",
        "colab": {
          "base_uri": "https://localhost:8080/"
        },
        "outputId": "48da634e-6e43-4e15-8895-d94a555c2fa4"
      },
      "source": [
        "var = [12, 15, 34, 55, 300, 62, 40, 23, 56, 99, 100, 52, 5125, 220, 903, 435]\n",
        "#TODO\n",
        "divisible_by_5 = []\n",
        "for i in var:\n",
        "  if i % 5 == 0:\n",
        "    divisible_by_5.append(i)\n",
        "print(divisible_by_5)"
      ],
      "execution_count": 1,
      "outputs": [
        {
          "output_type": "stream",
          "name": "stdout",
          "text": [
            "[15, 55, 300, 40, 100, 5125, 220, 435]\n"
          ]
        }
      ]
    },
    {
      "cell_type": "markdown",
      "metadata": {
        "id": "ZQZiXnDU7Drf"
      },
      "source": [
        "# TASK 7\n",
        "Write a for loop to print the current list item, as well as the next item. The loop should stop when the next element is the last element in the list. \n",
        "\n",
        "*In this case, stop the loop when next is equal to 23.*\n",
        "\n",
        "**Should look like this:**\n",
        "[10, 5, 34, 2, 65, 23]\n",
        "> current = 10, next = 5\n",
        "\n",
        "> current = 5, next = 34\n",
        "\n",
        "> current = 34, next = 2\n",
        "\n",
        "> current = 2, next = 65\n",
        "\n",
        "> current = 65, next = 23"
      ]
    },
    {
      "cell_type": "code",
      "metadata": {
        "id": "Hv4nfyMx7Drf",
        "outputId": "bec5ee4b-5442-4ff1-f7f1-711eb52fcf43",
        "colab": {
          "base_uri": "https://localhost:8080/"
        }
      },
      "source": [
        "#TODO\n",
        "items = [2, 7, 66, 12, 70, 54, 34, 88]\n",
        "for i in range(len(items) - 1):\n",
        "  print(f\"Current = {items[i]}, next = {items[i+1]}\")\n"
      ],
      "execution_count": 3,
      "outputs": [
        {
          "output_type": "stream",
          "name": "stdout",
          "text": [
            "Current = 2, next = 7\n",
            "Current = 7, next = 66\n",
            "Current = 66, next = 12\n",
            "Current = 12, next = 70\n",
            "Current = 70, next = 54\n",
            "Current = 54, next = 34\n",
            "Current = 34, next = 88\n"
          ]
        }
      ]
    },
    {
      "cell_type": "markdown",
      "metadata": {
        "id": "crn9UiYc7Drg"
      },
      "source": [
        "# TASK 8\n",
        "Using the same logic from the previous task, check to see if the next value is greater than or less than the current value.\n",
        "- if the `next` value is greater than `current`, divide the `next` value by current and print the result\n",
        "- if the `next` value is less than `current`, multiple the `current` value by `next` and print the result\n",
        "- if `next` and `current` are equal skip the iteration and go to the next"
      ]
    },
    {
      "cell_type": "code",
      "metadata": {
        "id": "Nj_y23yq7Drg",
        "outputId": "62c553ef-10e6-43b8-fbff-55cbc392884f",
        "colab": {
          "base_uri": "https://localhost:8080/"
        }
      },
      "source": [
        "#TODO\n",
        "items = [1, 17, 9, 16, 32, 49, 24, 13, 13, 91, 89, 95, 99]\n",
        "for i in range(len(items)-1):\n",
        "  if items[i+1] > items[i]:\n",
        "    print(items[i+1]/items[i])\n",
        "  elif items[i+1] < items[i]:\n",
        "    print(items[i]/items[i+1])\n",
        "  elif items[i+1] == items[i]:\n",
        "    break\n"
      ],
      "execution_count": 4,
      "outputs": [
        {
          "output_type": "stream",
          "name": "stdout",
          "text": [
            "17.0\n",
            "1.8888888888888888\n",
            "1.7777777777777777\n",
            "2.0\n",
            "1.53125\n",
            "2.0416666666666665\n",
            "1.8461538461538463\n"
          ]
        }
      ]
    },
    {
      "cell_type": "markdown",
      "metadata": {
        "id": "tCNzFFj-7Drh"
      },
      "source": [
        "# TASK 9 \n",
        "generate a list of 10 random *even* numbers and find the average of the list.\n",
        "\n",
        "***The average is the sum of the list divided by the total number of list elements***"
      ]
    },
    {
      "cell_type": "code",
      "metadata": {
        "id": "OiEB-PB97Drh",
        "outputId": "f92765be-844d-4e6a-9884-0e17e7d26afb",
        "colab": {
          "base_uri": "https://localhost:8080/"
        }
      },
      "source": [
        "#TODO Find the average of a 10 element list of even numbers\n",
        "from random import randint\n",
        "num = []\n",
        "sum = 0\n",
        "for i in range(10):\n",
        "  num.append(randint(1,1000) * 2)\n",
        "for i in num:\n",
        "  sum += i\n",
        "print(sum)"
      ],
      "execution_count": 5,
      "outputs": [
        {
          "output_type": "stream",
          "name": "stdout",
          "text": [
            "8892\n"
          ]
        }
      ]
    },
    {
      "cell_type": "code",
      "metadata": {
        "id": "DrkIrfFj2FGh"
      },
      "source": [
        ""
      ],
      "execution_count": null,
      "outputs": []
    }
  ]
}