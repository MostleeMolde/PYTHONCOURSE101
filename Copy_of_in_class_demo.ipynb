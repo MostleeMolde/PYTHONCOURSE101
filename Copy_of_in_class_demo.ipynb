{
  "nbformat": 4,
  "nbformat_minor": 0,
  "metadata": {
    "interpreter": {
      "hash": "fd61235da8d855c081cbd5d7c6398e4c179a40a950675235256f7f30499f1124"
    },
    "kernelspec": {
      "display_name": "Python 3.7.4 64-bit ('base': conda)",
      "name": "python3"
    },
    "language_info": {
      "codemirror_mode": {
        "name": "ipython",
        "version": 3
      },
      "file_extension": ".py",
      "mimetype": "text/x-python",
      "name": "python",
      "nbconvert_exporter": "python",
      "pygments_lexer": "ipython3",
      "version": "3.7.4"
    },
    "orig_nbformat": 4,
    "colab": {
      "name": "Copy of in_class_demo.ipynb",
      "provenance": [],
      "collapsed_sections": [],
      "include_colab_link": true
    }
  },
  "cells": [
    {
      "cell_type": "markdown",
      "metadata": {
        "id": "view-in-github",
        "colab_type": "text"
      },
      "source": [
        "<a href=\"https://colab.research.google.com/github/MostleeMolde/PYTHONCOURSE101/blob/main/Copy_of_in_class_demo.ipynb\" target=\"_parent\"><img src=\"https://colab.research.google.com/assets/colab-badge.svg\" alt=\"Open In Colab\"/></a>"
      ]
    },
    {
      "cell_type": "markdown",
      "metadata": {
        "id": "ktJkJW_cdeyh"
      },
      "source": [
        "<style>\n",
        "    h1{\n",
        "        /* color: #A900FF; */\n",
        "        font-family: \"fira code\";\n",
        "    }\n",
        "</style> \n",
        "<h1>Variables</h1>\n",
        "Variables are like named containers that store data in memory and can be changed throughout the program. "
      ]
    },
    {
      "cell_type": "code",
      "metadata": {
        "id": "83s84k2Rdeyi",
        "colab": {
          "base_uri": "https://localhost:8080/"
        },
        "outputId": "ce170f83-6d9c-4544-b7bd-89326a1adce2"
      },
      "source": [
        "#TODO: create a variable with the value of 25 and print it\n",
        "var = 25\n",
        "var"
      ],
      "execution_count": null,
      "outputs": [
        {
          "output_type": "execute_result",
          "data": {
            "text/plain": [
              "25"
            ]
          },
          "metadata": {},
          "execution_count": 2
        }
      ]
    },
    {
      "cell_type": "markdown",
      "metadata": {
        "id": "NQWclSVLdeyj"
      },
      "source": [
        "<p style = \"font-size: 20px\"> In a computer, Memory is like a giant container that can store values and/or objects. Think of memory as being like lockers in a hallway. Each locker is assigned a number, and inside each locker there are objects like backpacks, or books, maybe even people. I won't judge yall for what u keep in there. The only information that I would need to access the contents of any given locker, is the value that it is assigned. </p>\n",
        "\n",
        "<p style = \"font-size: 20px\"> Memory or RAM, works the same way. Each \"cell\" in memory is associated with a unique number, which is called a memory address. When a computer wants to read/write data to memory, all it needs to know is the address of the cell that it's storing the data in. </p>\n",
        "\n",
        "**In Python, we can view a object or values memory address by using the `id()` method**"
      ]
    },
    {
      "cell_type": "code",
      "metadata": {
        "id": "XUAMfB8Odeyj",
        "colab": {
          "base_uri": "https://localhost:8080/"
        },
        "outputId": "6fbb7291-a78a-43a1-8db9-dda9a3851eea"
      },
      "source": [
        "#TODO: print the memory address of the literal value 25 and 'var'\n",
        "hex(id(var))"
      ],
      "execution_count": null,
      "outputs": [
        {
          "output_type": "execute_result",
          "data": {
            "text/plain": [
              "25"
            ]
          },
          "metadata": {},
          "execution_count": 4
        }
      ]
    },
    {
      "cell_type": "markdown",
      "metadata": {
        "id": "L3ZdIankdeyk"
      },
      "source": [
        "All Memory addresses are unique, but if two variabes reference the same value in memory, then they will share memory addresses.\n",
        "\n",
        "<p style = \"font-size: 15px\"> This is like two people sharing a locker. </p>"
      ]
    },
    {
      "cell_type": "code",
      "metadata": {
        "id": "6K3YsQ2Ddeyk",
        "colab": {
          "base_uri": "https://localhost:8080/"
        },
        "outputId": "a669b540-2f13-46d2-f5e0-b6b845d12085"
      },
      "source": [
        "var = 10\n",
        "var2 = var\n",
        "message = \"hello\"\n",
        "\n",
        "#TODO Print the memory address of the value 10\n",
        "print(id(10),\"Memory address of value 10\")\n",
        "#TODO Print the memory address of var\n",
        "print(id(var),\"Memory address of the value var\")\n",
        "#TODO Print the memory address of var2\n",
        "print(id(var2), \"Memory address of the value var2\")\n",
        "#TODO Print the memory address of message\n",
        "print(id(message),\"Memory address of the value message\")"
      ],
      "execution_count": null,
      "outputs": [
        {
          "output_type": "stream",
          "name": "stdout",
          "text": [
            "93960303315744 Memory address of value 10\n",
            "93960303315744 Memory address of the value var\n",
            "93960303315744 Memory address of the value var2\n",
            "140522576966448 Memory address of the value message\n"
          ]
        }
      ]
    },
    {
      "cell_type": "markdown",
      "metadata": {
        "id": "HzZKiXdxdeyl"
      },
      "source": [
        "<img src = \"memory.png\" width = 700 height = 400>"
      ]
    },
    {
      "cell_type": "markdown",
      "metadata": {
        "id": "_XapcjYkdeyl"
      },
      "source": [
        "------------------------------\n",
        "# Variable assignment and Manipulation\n",
        "\n",
        "<p style = \"font-size: 15px\"> You assign a value to a variable by using the equals sign. </p>\n",
        "\n",
        "<p style = \"font-size: 15px\"> Python is a type-inffered language so you dont need to explicitly define the variable type. If you change the value of the variable later in the program, it can be of a different type, however, this can cause errors if you're not careful. </p>"
      ]
    },
    {
      "cell_type": "code",
      "metadata": {
        "id": "HrWCPMMqdeym",
        "colab": {
          "base_uri": "https://localhost:8080/"
        },
        "outputId": "01bfa2e1-1f3c-4fb5-e099-664c6e0c8d2b"
      },
      "source": [
        "# assigning a value to a variable then change the value\n",
        "\n",
        "#TODO: Assign an int to var\n",
        "alex = 100\n",
        "print(alex)\n",
        "\n",
        "#TODO: Assign a new int value to var\n",
        "alex = 400\n",
        "print(alex)\n"
      ],
      "execution_count": null,
      "outputs": [
        {
          "output_type": "stream",
          "name": "stdout",
          "text": [
            "100\n",
            "400\n"
          ]
        },
        {
          "output_type": "execute_result",
          "data": {
            "text/plain": [
              "5"
            ]
          },
          "metadata": {},
          "execution_count": 10
        }
      ]
    },
    {
      "cell_type": "code",
      "metadata": {
        "id": "b3NnM9MWdeym",
        "colab": {
          "base_uri": "https://localhost:8080/",
          "height": 54
        },
        "outputId": "803faecb-7e32-4a97-ae6e-c57efd0edb82"
      },
      "source": [
        "# assigning a value to a variable then changing its type\n",
        "#TODO: assign an int to var\n",
        "alex = 600\n",
        "print(alex)\n",
        "\n",
        "#TODO: assign a string to var\n",
        "alex = \"String\"\n"
      ],
      "execution_count": null,
      "outputs": [
        {
          "output_type": "stream",
          "name": "stdout",
          "text": [
            "600\n"
          ]
        },
        {
          "output_type": "execute_result",
          "data": {
            "application/vnd.google.colaboratory.intrinsic+json": {
              "type": "string"
            },
            "text/plain": [
              "'0x7fce174c1b70'"
            ]
          },
          "metadata": {},
          "execution_count": 14
        }
      ]
    },
    {
      "cell_type": "markdown",
      "metadata": {
        "id": "PryLWTWddeyn"
      },
      "source": [
        "**you can also assign multiple values to multiple variables at the same time**"
      ]
    },
    {
      "cell_type": "code",
      "metadata": {
        "id": "1sOgdDgadeyn",
        "colab": {
          "base_uri": "https://localhost:8080/"
        },
        "outputId": "6ac66d1d-c9df-497b-d041-48bdd6ac9e99"
      },
      "source": [
        "#TODO: create the variables x y and z and assign different values to them simultaneously.\n",
        "\n",
        "x,y,z = 12, 15, -98\n",
        "print(x,y,z)"
      ],
      "execution_count": null,
      "outputs": [
        {
          "output_type": "stream",
          "name": "stdout",
          "text": [
            "12 15 -98\n"
          ]
        }
      ]
    },
    {
      "cell_type": "markdown",
      "metadata": {
        "id": "OKQuHrGideyn"
      },
      "source": [
        "----------------------\n",
        "# Variables Key Ideas\n",
        "* variables are containers that hold data\n",
        "* the data that variables can hold may change throughout the program\n",
        "* you can create multiple variables at the same time\n",
        "\n",
        "Now that we know what variables are, lets talk about the type of data they can hold."
      ]
    },
    {
      "cell_type": "markdown",
      "metadata": {
        "id": "wEkbfJTJdeyo"
      },
      "source": [
        "-----------\n",
        "# Data Types\n",
        "A data type is a description of what type of data you're working with.\n",
        "\n",
        "All values in python have a data type and the type of data allows for different types of operations.\n",
        "\n",
        "\n",
        "# Numbers\n",
        "In python numbers come in 3 flavors \n",
        "\n",
        "* **Integers**, which are any positive or negative whole number.\n",
        "* **Floats**, which are any positive or negative number with a fractional part\n",
        "* **Complex numbers**, which are specified as real_part + imaginary_part, where the imaginary_part is written with a j or J."
      ]
    },
    {
      "cell_type": "code",
      "metadata": {
        "id": "ZGybt4PYdeyo"
      },
      "source": [
        "Integer = 4\n",
        "Integer = 30\n",
        "Integer = -64\n",
        "Integer = 23555431588754\n",
        "\n",
        "Float = 4.0\n",
        "Float = 35.87\n",
        "Float = -842.555734\n",
        "Float = 3.141592653589793\n",
        "\n",
        "Complex = 1j\n",
        "Complex = 43 + 2j\n",
        "Complex = -3 + 10j"
      ],
      "execution_count": null,
      "outputs": []
    },
    {
      "cell_type": "markdown",
      "metadata": {
        "id": "_xWBNYbWdeyp"
      },
      "source": [
        "# The `type()` funtion\n",
        "This method is useful for inspecting the type of an object. A type is simply a description of the category of data being worked with.\n",
        "\n",
        "**Check the data type of an object by putting the object/variable indide of the `type` functions arguments**"
      ]
    },
    {
      "cell_type": "code",
      "metadata": {
        "id": "idhW8Ku3deyp",
        "colab": {
          "base_uri": "https://localhost:8080/"
        },
        "outputId": "551682a9-f927-43db-ed79-499f8a3cb986"
      },
      "source": [
        "# use the type function to inspect a variables type\n",
        "\n",
        "var = 4555854 # what is the type?\n",
        "#TODO: Print the variables type\n",
        "print(type(var))\n",
        "var = 45.2544558 # what is the type?\n",
        "#TODO: Print the variables type\n",
        "print(type(var))\n",
        "var = 4j + 56 # what is the type?\n",
        "#TODO: Print the variables type\n",
        "print(type(var))"
      ],
      "execution_count": null,
      "outputs": [
        {
          "output_type": "stream",
          "name": "stdout",
          "text": [
            "<class 'int'>\n",
            "<class 'float'>\n",
            "<class 'complex'>\n"
          ]
        }
      ]
    },
    {
      "cell_type": "markdown",
      "metadata": {
        "id": "X4aydZ-ldeyp"
      },
      "source": [
        "# Strings\n",
        "Strings are used to represent text, or more technically, a sequence of Unicode characters. Strings are denoted using either single ('') or double (\"\") qutoes."
      ]
    },
    {
      "cell_type": "code",
      "metadata": {
        "id": "znX5kR0Sdeyp",
        "colab": {
          "base_uri": "https://localhost:8080/"
        },
        "outputId": "56d914af-cdf5-4b5f-bd15-d41a7718a8d5"
      },
      "source": [
        "#TODO: creating strings\n",
        "string = \"I am a double quoted string\"\n",
        "string2 = \"I am a single quoted string\"\n",
        "print(string, string2)\n",
        "print(type(string),type(string2))"
      ],
      "execution_count": null,
      "outputs": [
        {
          "output_type": "stream",
          "name": "stdout",
          "text": [
            "I am a double quoted string I am a single quoted string\n",
            "<class 'str'> <class 'str'>\n"
          ]
        }
      ]
    },
    {
      "cell_type": "markdown",
      "metadata": {
        "id": "oB81DiOCdeyq"
      },
      "source": [
        "# Strings and Indexing\n",
        "Because strings are a sequence of characters, you can select parts of a string by using an index.\n",
        "\n",
        "<em style = \"color: #6F69AC\">An index is a numerical representation of an item's position in a sequence.</em>\n",
        "\n",
        "In most programming languages, python included, index values start at 0. Since they start at zero, the last index value will be equal to the length of the sequence minus 1. \n",
        "\n",
        "<img src =\"strings.png\" width = \"700\" height = \"400\">\n",
        "\n",
        "<em><b>You will learn more about indexing in the lists module</b></em>"
      ]
    },
    {
      "cell_type": "code",
      "metadata": {
        "id": "mD9JwFKpdeyq",
        "colab": {
          "base_uri": "https://localhost:8080/",
          "height": 37
        },
        "outputId": "110724bc-73fa-44d2-cf27-d4d56ec1040d"
      },
      "source": [
        "word = \"Python\"\n",
        "#TODO: Print the fist character in the string\n",
        "word[0]"
      ],
      "execution_count": null,
      "outputs": [
        {
          "output_type": "execute_result",
          "data": {
            "application/vnd.google.colaboratory.intrinsic+json": {
              "type": "string"
            },
            "text/plain": [
              "'P'"
            ]
          },
          "metadata": {},
          "execution_count": 21
        }
      ]
    },
    {
      "cell_type": "code",
      "metadata": {
        "id": "Q19aObG5deyr",
        "colab": {
          "base_uri": "https://localhost:8080/",
          "height": 37
        },
        "outputId": "d56da13e-2b30-4e2d-f557-70076cf25147"
      },
      "source": [
        "word = \"Python\"\n",
        "#TODO: print the last character in the string\n",
        "word[5]\n",
        "word[-1]\n"
      ],
      "execution_count": null,
      "outputs": [
        {
          "output_type": "execute_result",
          "data": {
            "application/vnd.google.colaboratory.intrinsic+json": {
              "type": "string"
            },
            "text/plain": [
              "'n'"
            ]
          },
          "metadata": {},
          "execution_count": 24
        }
      ]
    },
    {
      "cell_type": "markdown",
      "metadata": {
        "id": "65_jigtZdeyr"
      },
      "source": [
        "## The len() function\n",
        "The len() function is used to find the length of a sequence. It returns the total number of items present in a sequence, making it a useful tool when working with sequences."
      ]
    },
    {
      "cell_type": "code",
      "metadata": {
        "id": "NlGlQxBPdeyr",
        "colab": {
          "base_uri": "https://localhost:8080/"
        },
        "outputId": "74fd727c-9036-426b-b5f6-ef91d31a5df2"
      },
      "source": [
        "word = 'Washburn'\n",
        "#TODO: print the length of the string\n",
        "len(word)"
      ],
      "execution_count": null,
      "outputs": [
        {
          "output_type": "execute_result",
          "data": {
            "text/plain": [
              "8"
            ]
          },
          "metadata": {},
          "execution_count": 25
        }
      ]
    },
    {
      "cell_type": "code",
      "metadata": {
        "id": "kGHxIR2Jdeyr",
        "colab": {
          "base_uri": "https://localhost:8080/"
        },
        "outputId": "677c7554-9533-4ded-f4b1-5eacd9ca21a9"
      },
      "source": [
        "# using the len function to return the last value in a sequence \n",
        "seq = \"I am a sequence 😊\"\n",
        "len(seq)\n",
        "# remember, sequences start at index 0, so the last index is -> (the length of the sequence - 1)\n",
        "#TODO: assign the numerical location of the last character in `seq` to index using the len() function\n",
        "index = len(seq) - 1 \n",
        "#TODO Print the length of the sequence\n",
        "print(len(seq))\n",
        "#TODO Print the value of index (which is the last position in the sequence)\n",
        "print(index)\n",
        "#TODO use the index variable to print the last character in the sequence\n",
        "print(seq[index])                                                    "
      ],
      "execution_count": null,
      "outputs": [
        {
          "output_type": "stream",
          "name": "stdout",
          "text": [
            "17\n",
            "16\n",
            "😊\n"
          ]
        }
      ]
    },
    {
      "cell_type": "markdown",
      "metadata": {
        "id": "6hTDkxRYdeys"
      },
      "source": [
        "## Strings are Immutable\n",
        "When a data type is immutable, that means that you can't change its values once it has been created. \n",
        "\n",
        "For example, if we create the string 'hello' and try to change the first character to a j so we can change it to 'jello', python will throw us an error."
      ]
    },
    {
      "cell_type": "code",
      "metadata": {
        "id": "wyjh8EyBdeys",
        "colab": {
          "base_uri": "https://localhost:8080/",
          "height": 37
        },
        "outputId": "dd7daaa5-bfee-4ffe-a579-70e64ec27bd1"
      },
      "source": [
        "var = \"hello\"\n",
        "#TODO: try and change the 'h' to a 'j'\n",
        "var = var + \"world\"\n",
        "var"
      ],
      "execution_count": null,
      "outputs": [
        {
          "output_type": "execute_result",
          "data": {
            "application/vnd.google.colaboratory.intrinsic+json": {
              "type": "string"
            },
            "text/plain": [
              "'helloworld'"
            ]
          },
          "metadata": {},
          "execution_count": 35
        }
      ]
    },
    {
      "cell_type": "markdown",
      "metadata": {
        "id": "zlhpVdF4deys"
      },
      "source": [
        "## String concatenation\n",
        "**Concatenations means: The action of linking things together.**\n",
        "\n",
        "In python, we can concatenate strings by using the addition operator (+). "
      ]
    },
    {
      "cell_type": "code",
      "metadata": {
        "id": "vElp7s7kdeys",
        "colab": {
          "base_uri": "https://localhost:8080/",
          "height": 37
        },
        "outputId": "309921ab-d1dc-40c2-86cd-25cd67466e2b"
      },
      "source": [
        "#TODO: Concatenate two strings and print the result\n",
        "\"hello\"+\" \"+\"Harper\""
      ],
      "execution_count": null,
      "outputs": [
        {
          "output_type": "execute_result",
          "data": {
            "application/vnd.google.colaboratory.intrinsic+json": {
              "type": "string"
            },
            "text/plain": [
              "'hello Harper'"
            ]
          },
          "metadata": {},
          "execution_count": 36
        }
      ]
    },
    {
      "cell_type": "code",
      "metadata": {
        "id": "NBoo4zRKdeyt",
        "colab": {
          "base_uri": "https://localhost:8080/",
          "height": 37
        },
        "outputId": "dbade796-333a-429d-ea62-15d894429929"
      },
      "source": [
        "var1 = \"I am\"\n",
        "var2 = \" the goat\"\n",
        "#TODO: Concatenate the variables and print the result\n",
        "var1+var2"
      ],
      "execution_count": null,
      "outputs": [
        {
          "output_type": "execute_result",
          "data": {
            "application/vnd.google.colaboratory.intrinsic+json": {
              "type": "string"
            },
            "text/plain": [
              "'I am the goat'"
            ]
          },
          "metadata": {},
          "execution_count": 37
        }
      ]
    },
    {
      "cell_type": "code",
      "metadata": {
        "id": "A2cby4vUdeyt",
        "colab": {
          "base_uri": "https://localhost:8080/"
        },
        "outputId": "d98c5a16-c39a-41e6-83fe-dfbe9ff3018f"
      },
      "source": [
        "var = \"I am a string variable\"\n",
        "#TODO: assign the concatination of `var` and \" I am a string literal\", to message\n",
        "message =  var +\"I am a string literal\"\n",
        "print(message)"
      ],
      "execution_count": null,
      "outputs": [
        {
          "output_type": "stream",
          "name": "stdout",
          "text": [
            "I am a string variableI am a string literal\n"
          ]
        }
      ]
    },
    {
      "cell_type": "markdown",
      "metadata": {
        "id": "s2bA9nfpdeyt"
      },
      "source": [
        "# Lists\n",
        "A list is a sequence of items separated by commas.\n",
        "<hr>\n",
        "\n",
        "### Creating Lists\n",
        "A list is created by putting elements within square brackets [] separated by commas.\n",
        "```python\n",
        "var = [1,2,3,4]\n",
        "```\n",
        "\n",
        "**You can also add elements of different types to a list, including other lists**\n",
        "```python\n",
        "var = [1, 2, 'list with string', 4.32, [5,4,3,2]]\n",
        "```\n",
        "\n",
        "Lists, like strings, are sequences meaning their elements are accessed using an index. \n",
        "\n",
        "**Remember:**<em> An index is a numerical representation of an item's position in a sequence. The index of the first item in a sequence always starts at 0</em>"
      ]
    },
    {
      "cell_type": "code",
      "metadata": {
        "id": "WT3sKb6bdeyt",
        "colab": {
          "base_uri": "https://localhost:8080/"
        },
        "outputId": "7e5172a5-98d7-4c8f-8e66-24c267d2d296"
      },
      "source": [
        "# creation of a list \n",
        "var = [10, 20, 30, 40, 50]\n",
        "\n",
        "# TODO: accessing list elements\n",
        "# what is the first value\n",
        "var[0]\n",
        "# what is the middle value\n",
        "var[2]\n",
        "# what is the last value\n",
        "var[4]\n"
      ],
      "execution_count": null,
      "outputs": [
        {
          "output_type": "execute_result",
          "data": {
            "text/plain": [
              "10"
            ]
          },
          "metadata": {},
          "execution_count": 39
        }
      ]
    },
    {
      "cell_type": "markdown",
      "metadata": {
        "id": "S5bQTq0Odeyu"
      },
      "source": [
        "## Lists are Mutable\n",
        "You can change the values of elements in a list by indicating the index of the value you want to change, and assigning the new value to that index."
      ]
    },
    {
      "cell_type": "code",
      "metadata": {
        "id": "i6xWv-9Fdeyu",
        "colab": {
          "base_uri": "https://localhost:8080/"
        },
        "outputId": "790a5a61-352c-4771-f840-a9a7440d6f44"
      },
      "source": [
        "# changing list elements\n",
        "var = [1, 2, 3, 4, 5]\n",
        "print(f\"List before editing: {var}\")\n",
        "\n",
        "var[2] = 30\n",
        "# TODO: change the third list element from 3 to 30\n",
        "print(f\"List after editing: {var}\")\n"
      ],
      "execution_count": null,
      "outputs": [
        {
          "output_type": "stream",
          "name": "stdout",
          "text": [
            "List before editing: [1, 2, 3, 4, 5]\n",
            "List after editing: [1, 2, 30, 4, 5]\n"
          ]
        }
      ]
    },
    {
      "cell_type": "markdown",
      "metadata": {
        "id": "iuV1zUUQdeyv"
      },
      "source": [
        "## Adding new elements to a list\n",
        "The list object has a method called `append()`. This method instructs python to add new values to the end of a list."
      ]
    },
    {
      "cell_type": "code",
      "metadata": {
        "id": "-3UVoML4deyv",
        "colab": {
          "base_uri": "https://localhost:8080/"
        },
        "outputId": "9f0b32a7-0653-4db1-bf35-b0021c70a5c6"
      },
      "source": [
        "#TODO: create a list of names and append 3 new names to it.\n",
        "names = [\"John\", \"Mary\", \"Frank\"]\n",
        "names.append([\"Lucas\",\"Brandon\",\"Darryl\"])\n",
        "names.extend([\"Lucas\",\"Brandon\",\"Darryl\"])\n",
        "print(names)"
      ],
      "execution_count": null,
      "outputs": [
        {
          "output_type": "stream",
          "name": "stdout",
          "text": [
            "['John', 'Mary', 'Frank', ['Lucas', 'Brandon', 'Darryl'], 'Lucas', 'Brandon', 'Darryl']\n"
          ]
        }
      ]
    },
    {
      "cell_type": "markdown",
      "metadata": {
        "id": "rcfDp3-ideyv"
      },
      "source": [
        "# Mutable vs. Immutable data types \n",
        "* **Mutable** - Has the ability to change, or mutate.\n",
        "* **Immutable** - Does not have the ability to change, or mutate.\n",
        "\n",
        "Data types that are mutable **are allowed** to have their values changed throughout the program. \n",
        "-----\n",
        "\n",
        "> <p style = \"color:#D36582\"><b>Imagine Mutable data types as going to a class where you don't have assigned seats. Since there was no seat assignment from the start, you are allowed to change your seat anytime during the year.</b></p>\n",
        "\n",
        "<br><br>\n",
        "\n",
        "Data types that are immutable **aren't allowed** to have their values changed throughout the program.\n",
        "----\n",
        "> <p style = \"color:#D36582\"><b>Imagine Immutable data types as going to a class where you do have assigned seats. Since there was a specific seating arrangement from the start, that seating arrangement stays the same throughout the year.</b></p>\n",
        "\n",
        "### **Lets look at an immutable data type to get a better understanding of this**\n",
        "\n",
        "-----------------\n",
        "# Tuples \n",
        "A tuple is like a list, in that it is a sequence of elements. However, once a tuple is created, it never changes. \n",
        "\n",
        "Tuples are created by putting elements inside of parenthesis ().\n",
        "\n",
        "**<em>All of these concepts will be explored further in the data structures and methods section</em>**"
      ]
    },
    {
      "cell_type": "code",
      "metadata": {
        "id": "nuYyP2G4deyv",
        "colab": {
          "base_uri": "https://localhost:8080/"
        },
        "outputId": "79e18019-ee5a-496c-9cab-b28d65d4a50b"
      },
      "source": [
        "# TODO: create a 4 element tuple and print the variable\n",
        "var = (1,2,3,4)\n",
        "print(var)\n",
        "print(type(var))"
      ],
      "execution_count": null,
      "outputs": [
        {
          "output_type": "stream",
          "name": "stdout",
          "text": [
            "(1, 2, 3, 4)\n",
            "<class 'tuple'>\n"
          ]
        }
      ]
    },
    {
      "cell_type": "code",
      "metadata": {
        "id": "EYPVab8mdeyw",
        "colab": {
          "base_uri": "https://localhost:8080/"
        },
        "outputId": "92c642d3-5805-4a8d-c962-c5ad32795b82"
      },
      "source": [
        "# TODO: Create a tuple with a string, float, list and integer\n",
        "var = (1,3.3,5j,True,\"Yes\",(5,6,5),[\"HAHAHA\",\"Noo\"])\n",
        "print(var)  #Can still edit lists in Tuples\n"
      ],
      "execution_count": null,
      "outputs": [
        {
          "output_type": "stream",
          "name": "stdout",
          "text": [
            "(1, 3.3, 5j, True, 'Yes', (5, 6, 5), ['HAHAHA', 'Noo'])\n"
          ]
        }
      ]
    },
    {
      "cell_type": "code",
      "metadata": {
        "id": "OPs5yu8mdeyw",
        "colab": {
          "base_uri": "https://localhost:8080/",
          "height": 198
        },
        "outputId": "7909b165-bb67-439d-fa0f-4314d23cb94e"
      },
      "source": [
        "#TODO: indexing tuples is the same as indexing lists\n",
        "#index a tuple element\n"
      ],
      "execution_count": null,
      "outputs": [
        {
          "output_type": "error",
          "ename": "TypeError",
          "evalue": "ignored",
          "traceback": [
            "\u001b[0;31m---------------------------------------------------------------------------\u001b[0m",
            "\u001b[0;31mTypeError\u001b[0m                                 Traceback (most recent call last)",
            "\u001b[0;32m<ipython-input-52-a72e59b29541>\u001b[0m in \u001b[0;36m<module>\u001b[0;34m()\u001b[0m\n\u001b[1;32m      1\u001b[0m \u001b[0;31m#TODO: indexing tuples is the same as indexing lists\u001b[0m\u001b[0;34m\u001b[0m\u001b[0;34m\u001b[0m\u001b[0;34m\u001b[0m\u001b[0m\n\u001b[1;32m      2\u001b[0m \u001b[0;31m#index a tuple element\u001b[0m\u001b[0;34m\u001b[0m\u001b[0;34m\u001b[0m\u001b[0;34m\u001b[0m\u001b[0m\n\u001b[0;32m----> 3\u001b[0;31m \u001b[0mindex\u001b[0m\u001b[0;34m(\u001b[0m\u001b[0mvar\u001b[0m\u001b[0;34m)\u001b[0m\u001b[0;34m\u001b[0m\u001b[0;34m\u001b[0m\u001b[0m\n\u001b[0m",
            "\u001b[0;31mTypeError\u001b[0m: 'int' object is not callable"
          ]
        }
      ]
    },
    {
      "cell_type": "code",
      "metadata": {
        "id": "9XOOEsiQdeyw",
        "colab": {
          "base_uri": "https://localhost:8080/",
          "height": 198
        },
        "outputId": "b6330cde-f59b-4df9-c377-71b07a106855"
      },
      "source": [
        "var = (1, 2, 3, 4)\n",
        "# TODO: try to change the first element in the tuple\n",
        "var[0] = 10"
      ],
      "execution_count": null,
      "outputs": [
        {
          "output_type": "error",
          "ename": "TypeError",
          "evalue": "ignored",
          "traceback": [
            "\u001b[0;31m---------------------------------------------------------------------------\u001b[0m",
            "\u001b[0;31mTypeError\u001b[0m                                 Traceback (most recent call last)",
            "\u001b[0;32m<ipython-input-51-d7d5259d50a5>\u001b[0m in \u001b[0;36m<module>\u001b[0;34m()\u001b[0m\n\u001b[1;32m      1\u001b[0m \u001b[0mvar\u001b[0m \u001b[0;34m=\u001b[0m \u001b[0;34m(\u001b[0m\u001b[0;36m1\u001b[0m\u001b[0;34m,\u001b[0m \u001b[0;36m2\u001b[0m\u001b[0;34m,\u001b[0m \u001b[0;36m3\u001b[0m\u001b[0;34m,\u001b[0m \u001b[0;36m4\u001b[0m\u001b[0;34m)\u001b[0m\u001b[0;34m\u001b[0m\u001b[0;34m\u001b[0m\u001b[0m\n\u001b[1;32m      2\u001b[0m \u001b[0;31m# TODO: try to change the first element in the tuple\u001b[0m\u001b[0;34m\u001b[0m\u001b[0;34m\u001b[0m\u001b[0;34m\u001b[0m\u001b[0m\n\u001b[0;32m----> 3\u001b[0;31m \u001b[0mvar\u001b[0m\u001b[0;34m[\u001b[0m\u001b[0;36m0\u001b[0m\u001b[0;34m]\u001b[0m \u001b[0;34m=\u001b[0m \u001b[0;36m10\u001b[0m\u001b[0;34m\u001b[0m\u001b[0;34m\u001b[0m\u001b[0m\n\u001b[0m",
            "\u001b[0;31mTypeError\u001b[0m: 'tuple' object does not support item assignment"
          ]
        }
      ]
    },
    {
      "cell_type": "code",
      "metadata": {
        "id": "ovilvVQTugdc"
      },
      "source": [
        ""
      ],
      "execution_count": null,
      "outputs": []
    }
  ]
}