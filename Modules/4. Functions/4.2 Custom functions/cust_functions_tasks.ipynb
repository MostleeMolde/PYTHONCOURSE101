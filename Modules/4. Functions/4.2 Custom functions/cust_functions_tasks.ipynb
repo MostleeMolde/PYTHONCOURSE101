{
  "cells": [
    {
      "cell_type": "markdown",
      "metadata": {
        "id": "view-in-github",
        "colab_type": "text"
      },
      "source": [
        "<a href=\"https://colab.research.google.com/github/MostleeMolde/PYTHONCOURSE101/blob/main/Modules/4.%20Functions/4.2%20Custom%20functions/cust_functions_tasks.ipynb\" target=\"_parent\"><img src=\"https://colab.research.google.com/assets/colab-badge.svg\" alt=\"Open In Colab\"/></a>"
      ]
    },
    {
      "cell_type": "markdown",
      "metadata": {
        "id": "RM4eMB8Tk06W"
      },
      "source": [
        "# TASK 1\n",
        "Have the user input 2 numbers and write a function that returns the largest of the two.\n",
        "\n",
        "## Example output\n",
        "```python\n",
        "def function(arg1, arg2):\n",
        "    return largest\n",
        "\n",
        "# output\n",
        "\"10 is bigger than 2\"\n",
        "```"
      ]
    },
    {
      "cell_type": "code",
      "execution_count": 2,
      "metadata": {
        "id": "vqsdaJs-k06W",
        "outputId": "5198981a-5e86-4ede-d049-8820b7886aee",
        "colab": {
          "base_uri": "https://localhost:8080/"
        }
      },
      "outputs": [
        {
          "name": "stdout",
          "output_type": "stream",
          "text": [
            "What is number?17\n",
            "What is other number?82\n"
          ]
        },
        {
          "output_type": "execute_result",
          "data": {
            "text/plain": [
              "82"
            ]
          },
          "metadata": {},
          "execution_count": 2
        }
      ],
      "source": [
        "#TODO\n",
        "def function():\n",
        "  x = int(input(\"What is number?\"))\n",
        "  y = int(input(\"What is other number?\"))\n",
        "  if x>y:\n",
        "    return x\n",
        "  if y>x:\n",
        "    return y\n",
        "function()"
      ]
    },
    {
      "cell_type": "markdown",
      "metadata": {
        "id": "PCkfMaNUk06X"
      },
      "source": [
        "# TASK 2\n",
        "Given a lists, write a function named `average` that returns the average value of a list and print the output as message like:\n",
        "\n",
        "`The mean of the list is: 43.3`"
      ]
    },
    {
      "cell_type": "code",
      "execution_count": 15,
      "metadata": {
        "id": "yLxQtJIdk06X",
        "outputId": "6dc4604c-80d1-4208-9dc3-eecb145b8066",
        "colab": {
          "base_uri": "https://localhost:8080/"
        }
      },
      "outputs": [
        {
          "output_type": "execute_result",
          "data": {
            "text/plain": [
              "57.75"
            ]
          },
          "metadata": {},
          "execution_count": 15
        }
      ],
      "source": [
        "from random import randint\n",
        "values = [randint(10, 100) for _ in range(randint(10, 20))]\n",
        "\n",
        "#TODO: function goes here\n",
        "def average(numbers):\n",
        "  return sum(numbers) / len(numbers)\n",
        "average(values)"
      ]
    },
    {
      "cell_type": "markdown",
      "metadata": {
        "id": "k546mb6lk06X"
      },
      "source": [
        "# TASK 3\n",
        "Write a function called `new_list` that returns a list of 10 random numbers, then call the function inside of a list comprehension to create a list of lists.\n",
        "\n",
        "### Expected output\n",
        "```python\n",
        "[\n",
        "    [1, 5, 3, 7, 2, 5, 3],\n",
        "    [4, 6, 2, 7, 44, 2, 11],\n",
        "    [0, 43, 23, 66, 2, 54],\n",
        "    [23, 56, 23, 6, 7, 4],\n",
        "    [1,2,3,4,5,6],\n",
        "]\n",
        "\n",
        "```"
      ]
    },
    {
      "cell_type": "code",
      "execution_count": 10,
      "metadata": {
        "id": "OdBznLeck06X",
        "outputId": "2419eec2-365e-43b4-f055-9214b733583b",
        "colab": {
          "base_uri": "https://localhost:8080/"
        }
      },
      "outputs": [
        {
          "output_type": "execute_result",
          "data": {
            "text/plain": [
              "[[20, 17, 41, 90, 68, 77, 18, 73, 11, 100],\n",
              " [63, 38, 13, 66, 34, 70, 84, 66, 44, 19],\n",
              " [90, 88, 21, 60, 52, 89, 47, 51, 0, 32],\n",
              " [20, 7, 78, 92, 61, 29, 19, 61, 41, 36],\n",
              " [51, 53, 96, 81, 16, 6, 76, 14, 63, 95],\n",
              " [91, 67, 100, 11, 77, 42, 31, 52, 22, 46],\n",
              " [69, 13, 4, 95, 85, 89, 57, 72, 92, 57],\n",
              " [64, 96, 46, 28, 77, 47, 40, 72, 84, 56],\n",
              " [31, 48, 67, 41, 12, 1, 95, 20, 74, 59],\n",
              " [85, 46, 29, 65, 32, 79, 72, 27, 59, 74]]"
            ]
          },
          "metadata": {},
          "execution_count": 10
        }
      ],
      "source": [
        "#TODO: Create function here\n",
        "from random import randint\n",
        "def new_list():\n",
        "  return [randint(0,100) for _ in range(10)]\n",
        "new_list()\n",
        "#TODO: Create list of lists here\n",
        "lists = [new_list() for _ in range(10)]\n",
        "lists"
      ]
    },
    {
      "cell_type": "markdown",
      "metadata": {
        "id": "QY4mseQ1k06X"
      },
      "source": [
        "# TASK 4\n",
        "Using the list of lists from task 2, write a function called `highest_average` that will return the index position of the row with the highest average.\n",
        "\n",
        "### Expected output\n",
        "```python\n",
        "def your_function(list):\n",
        "    return index, average\n",
        "\n",
        "[\n",
        "    [1,2,3,4,5],\n",
        "    [5,6,7,8,9],\n",
        "    [1,3,5,7,9],\n",
        "    [2,4,6,8,10],\n",
        "    [1,2,3,9,8],\n",
        "]\n",
        "\n",
        "# output should look like\n",
        "\"Row 4 has the highest average of 22.3\"\n",
        "```"
      ]
    },
    {
      "cell_type": "code",
      "execution_count": 18,
      "metadata": {
        "id": "d6F6sRFkk06X",
        "outputId": "6ba5a8ad-e36e-4775-a8c5-2144c4d9d870",
        "colab": {
          "base_uri": "https://localhost:8080/",
          "height": 37
        }
      },
      "outputs": [
        {
          "output_type": "execute_result",
          "data": {
            "application/vnd.google.colaboratory.intrinsic+json": {
              "type": "string"
            },
            "text/plain": [
              "'Row 6 has the highest average of 63.3'"
            ]
          },
          "metadata": {},
          "execution_count": 18
        }
      ],
      "source": [
        "#TODO: function goes here\n",
        "def highest_avg(x):\n",
        "   y = [average(i) for i in x]\n",
        "   loc = y.index(max(y))\n",
        "   return f\"Row {loc} has the highest average of {max(y)}\"\n",
        "highest_avg(lists)"
      ]
    },
    {
      "cell_type": "markdown",
      "metadata": {
        "id": "POqOU7qAk06X"
      },
      "source": [
        "# TASK 5\n",
        "Write a function named `generate_data` to generate fake user data for a social media account. The arguments to your function should be structured as follows:\n",
        "* **`int:`**    `num_of_users`: Lets the function know how many users to create\n",
        "* **`tuple:`**  `like_range`: Lets the function know the lower and upper limits for like data. ***(Default (5, 100))***\n",
        "* **`tuple:`**  `comment_range`: Lets the function know the lower and upper limits for comment data ***(Default (5, 30))***\n",
        "* **`tuple:`**  `saved_range`: Lets the function know the lower and upper limits for saved data  ***(Default (0, 10))***\n",
        "\n",
        "The function should return a nested dictionary where the keys are the username and the values are dictionaries with the folllowing `key:value` pairs:\n",
        "* `following`: True or False\n",
        "* `likes`: an int within the range of `like_range`\n",
        "* `comments`: an int within the range of `comment_range`\n",
        "* `saved`: an int within the range of `saved_range` \n",
        "\n",
        "## Expected output\n",
        "```python\n",
        "\n",
        "data = {\n",
        "    \"user_1\":{\n",
        "        \"following\": True,\n",
        "        \"Likes\": 85,\n",
        "        \"Comments\": 31,\n",
        "        \"Saved\": 4\n",
        "    },\n",
        "    \"user_2\":{\n",
        "        \"following\": True,\n",
        "        \"Likes\": 45,\n",
        "        \"Comments\": 23,\n",
        "        \"Saved\": 0\n",
        "    },\n",
        "    \"user_3\":{\n",
        "        \"following\": False,\n",
        "        \"Likes\": 15,\n",
        "        \"Comments\": 3,\n",
        "        \"Saved\": 1\n",
        "    }\n",
        "}\n",
        "```"
      ]
    },
    {
      "cell_type": "code",
      "execution_count": 28,
      "metadata": {
        "id": "w4s2Phplk06Y",
        "outputId": "e9b12277-1154-465d-f26e-b319d540d0d5",
        "colab": {
          "base_uri": "https://localhost:8080/"
        }
      },
      "outputs": [
        {
          "output_type": "execute_result",
          "data": {
            "text/plain": [
              "{'user_1': {'Comments': 12, 'Following': True, 'Likes': 86, 'Saved': 9},\n",
              " 'user_10': {'Comments': 18, 'Following': True, 'Likes': 31, 'Saved': 6},\n",
              " 'user_2': {'Comments': 24, 'Following': False, 'Likes': 34, 'Saved': 8},\n",
              " 'user_3': {'Comments': 11, 'Following': False, 'Likes': 19, 'Saved': 0},\n",
              " 'user_4': {'Comments': 14, 'Following': True, 'Likes': 20, 'Saved': 5},\n",
              " 'user_5': {'Comments': 29, 'Following': True, 'Likes': 33, 'Saved': 9},\n",
              " 'user_6': {'Comments': 25, 'Following': True, 'Likes': 65, 'Saved': 2},\n",
              " 'user_7': {'Comments': 16, 'Following': True, 'Likes': 62, 'Saved': 7},\n",
              " 'user_8': {'Comments': 7, 'Following': False, 'Likes': 66, 'Saved': 5},\n",
              " 'user_9': {'Comments': 16, 'Following': True, 'Likes': 100, 'Saved': 3}}"
            ]
          },
          "metadata": {},
          "execution_count": 28
        }
      ],
      "source": [
        "#TODO\n",
        "from random import randint\n",
        "import random\n",
        "x = (True,False)\n",
        "def generate_data(num_of_users,like_range = (5,100),comment_range = (5,30),saved_range = (0,10)):\n",
        "  data = {}\n",
        "  for i in range(num_of_users):\n",
        "    data[f\"user_{i+1}\"] = {\n",
        "        \"Following\":random.choice(x),\n",
        "        \"Likes\":randint(like_range[0],like_range[1]),\n",
        "        \"Comments\":randint(comment_range[0],comment_range[1]),\n",
        "        \"Saved\":randint(saved_range[0],saved_range[1])\n",
        "    }\n",
        "\n",
        "\n",
        "\n",
        "  return data\n",
        "generate_data(10)\n",
        "\n",
        "    \n",
        "  \n"
      ]
    },
    {
      "cell_type": "markdown",
      "metadata": {
        "id": "58662vzqk06Y"
      },
      "source": [
        "# TASK 6\n",
        "using the fake social media account data generated from the function above, write a new function named `follower_types` that returns a list of primary followers or secondary followers. \n",
        "* A primary follower is any user that follows you and you also follow them\n",
        "* A secondary follower is any user that follows you but you don't follow them \n",
        "\n",
        "The function should accept the following arguments:\n",
        "* `data`: a dictionary that contains all of the follower data\n",
        "* `mode`: a string that determines how the list should be returned ***(Default: both)***\n",
        "    * `mode = \"primary\"`: returns a list of primary followers only\n",
        "    * `mode = \"secondary\"`: returns a list of secondary followers only\n",
        "\n",
        "## Example output\n",
        "```python\n",
        "data = {\n",
        "    \"user_1\":{\n",
        "        \"following\": True,\n",
        "        \"Likes\": 85,\n",
        "        \"Comments\": 31,\n",
        "        \"Saved\": 4\n",
        "    },\n",
        "    \"user_2\":{\n",
        "        \"following\": True,\n",
        "        \"Likes\": 45,\n",
        "        \"Comments\": 23,\n",
        "        \"Saved\": 0\n",
        "    },\n",
        "    \"user_3\":{\n",
        "        \"following\": False,\n",
        "        \"Likes\": 15,\n",
        "        \"Comments\": 3,\n",
        "        \"Saved\": 1\n",
        "    }\n",
        "}\n",
        "\n",
        "primary = follower_types(data, mode = \"primary\")\n",
        "secondary = follower_types(data, mode = \"secondary\")\n",
        "\n",
        "#output\n",
        "print(primary) -> [\"user_1\", \"user_2\"]\n",
        "print(secondary) -> [\"user_3\"]\n",
        "```"
      ]
    },
    {
      "cell_type": "code",
      "source": [
        "#TODO\n",
        "def follower_types(data,mode = \"both\"):\n",
        "  primary = []\n",
        "  secondary = []\n",
        "  for i in data:\n",
        "    if data[i][\"Following\"] == True:\n",
        "      primary.append(i)\n",
        "    else:\n",
        "      secondary.append(i)\n",
        "  if mode == \"primary\":\n",
        "    return primary\n",
        "  elif mode == \"secondary\":\n",
        "    return secondary\n",
        "  else:\n",
        "    return primary,secondary\n",
        "follower_types(generate_data(10),\"primary\"), follower_types(generate_data(10),\"secondary\"), follower_types(generate_data(10),)\n",
        "\n",
        "\n"
      ],
      "metadata": {
        "id": "pEZnhiZrk22x",
        "outputId": "c6922b3b-f340-4dea-be0f-b82d4fa6fc1e",
        "colab": {
          "base_uri": "https://localhost:8080/"
        }
      },
      "execution_count": 40,
      "outputs": [
        {
          "output_type": "execute_result",
          "data": {
            "text/plain": [
              "(['user_1', 'user_2', 'user_3', 'user_6', 'user_9', 'user_10'],\n",
              " ['user_1', 'user_6', 'user_7', 'user_8', 'user_9'],\n",
              " (['user_1', 'user_2', 'user_5', 'user_7', 'user_8', 'user_10'],\n",
              "  ['user_3', 'user_4', 'user_6', 'user_9']))"
            ]
          },
          "metadata": {},
          "execution_count": 40
        }
      ]
    },
    {
      "cell_type": "code",
      "source": [
        ""
      ],
      "metadata": {
        "id": "gLStBu3IS4AX"
      },
      "execution_count": null,
      "outputs": []
    }
  ],
  "metadata": {
    "language_info": {
      "name": "python"
    },
    "orig_nbformat": 4,
    "colab": {
      "name": "cust_functions_tasks.ipynb",
      "provenance": [],
      "include_colab_link": true
    },
    "kernelspec": {
      "name": "python3",
      "display_name": "Python 3"
    }
  },
  "nbformat": 4,
  "nbformat_minor": 0
}