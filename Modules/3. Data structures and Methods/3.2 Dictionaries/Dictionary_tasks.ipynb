{
  "cells": [
    {
      "cell_type": "markdown",
      "metadata": {
        "id": "view-in-github",
        "colab_type": "text"
      },
      "source": [
        "<a href=\"https://colab.research.google.com/github/MostleeMolde/PYTHONCOURSE101/blob/main/Modules/3.%20Data%20structures%20and%20Methods/3.2%20Dictionaries/Dictionary_tasks.ipynb\" target=\"_parent\"><img src=\"https://colab.research.google.com/assets/colab-badge.svg\" alt=\"Open In Colab\"/></a>"
      ]
    },
    {
      "cell_type": "markdown",
      "metadata": {
        "id": "jj598watez6Q"
      },
      "source": [
        "# PART 1 Tasks\n",
        "---"
      ]
    },
    {
      "cell_type": "markdown",
      "metadata": {
        "id": "uOT8pKOQez6R"
      },
      "source": [
        "# TASK 1\n",
        "Create a dictionary where the keys are numbers and the values are equal to the number squared"
      ]
    },
    {
      "cell_type": "code",
      "execution_count": null,
      "metadata": {
        "id": "ajRkaV1Oez6R"
      },
      "outputs": [],
      "source": [
        "#TODO"
      ]
    },
    {
      "cell_type": "markdown",
      "metadata": {
        "id": "N9ofOF2Kez6R"
      },
      "source": [
        "# TASK 2\n",
        "Using the dictionary from Task 1, loop through the keys to print out all the values."
      ]
    },
    {
      "cell_type": "code",
      "execution_count": null,
      "metadata": {
        "id": "DpDs6b0Eez6R"
      },
      "outputs": [],
      "source": [
        "#TODO"
      ]
    },
    {
      "cell_type": "markdown",
      "metadata": {
        "id": "_253Qr5wez6R"
      },
      "source": [
        "# TASK 3\n",
        "create a dictionary called `temperature` with the keys `low, medium, high`. Try and access the key `extreme`, which should result in an error. Resolve this error by having the dictionary return \"Extreme not in temperature\"."
      ]
    },
    {
      "cell_type": "code",
      "execution_count": null,
      "metadata": {
        "id": "cNFJZD9fez6R"
      },
      "outputs": [],
      "source": [
        "#TODO"
      ]
    },
    {
      "cell_type": "markdown",
      "metadata": {
        "id": "ErABLKpxez6R"
      },
      "source": [
        "# TASK 4\n",
        "***Below is a dictionary with words as the keys and `None` as the value. You are also provided with a list that contains all of the keys in the dictionary, plus a few extra.*** \n",
        "\n",
        "Your task is to loop through the list and check if the key is present in the dictionary.\n",
        "- If the key is present, update the value to be equal to the length of the word\n",
        "- If the key is not present, add the key to the dictionary and set the value equal to the length of the word\n",
        "\n",
        "### ***Example Input***\n",
        "\n",
        "`d = {'Hello':None, \"world\": None}`\n",
        "\n",
        "`l = [\"hello\", \"world\", \"good\", \"day\"]`\n",
        "### ***Expected output***\n",
        "`print(d) -> {'Hello':5, \"world\": 5, \"good\": 4, \"day\": 3}`\n",
        "\n"
      ]
    },
    {
      "cell_type": "code",
      "execution_count": null,
      "metadata": {
        "id": "V4gpW0rIez6S"
      },
      "outputs": [],
      "source": [
        "d = {\n",
        "    \"green\": None,\n",
        "    \"eggs\": None\n",
        "}\n",
        "\n",
        "l = [\n",
        "    \"green\",\n",
        "    \"eggs\",\n",
        "    \"and\",\n",
        "    \"ham\"\n",
        "]\n",
        "\n",
        "#TODO: update the dictionary to add all of the elements from the list as keys, and the length of each element as the values"
      ]
    },
    {
      "cell_type": "markdown",
      "metadata": {
        "id": "r_O2n7ozez6S"
      },
      "source": [
        "# TASK 5\n",
        "Create a dictionary where a color are the keys and the values are a list of objects that are that color. For example,\n",
        "`\"red\": [\"stop sign\", \"red pepper\", \"blood\"]`. Then write a for loop to print each key, and another for loop inside the first one to print each value.\n",
        "\n",
        "### **Example Output**\n",
        "```python\n",
        "{\n",
        "    'red':[\"stop sign\", \"red pepper\", \"blood\"],\n",
        "    'blue': ['sky', 'water', 'blueberry']\n",
        "}\n",
        "\n",
        "# output\n",
        "red\n",
        "    stop sign \n",
        "    red pepper\n",
        "    blood\n",
        "\n",
        "blue \n",
        "    sky\n",
        "    water\n",
        "    blueberry\n",
        "```\n",
        "\n",
        "***HINT: May need to use nested for loops***"
      ]
    },
    {
      "cell_type": "code",
      "execution_count": null,
      "metadata": {
        "id": "isGePu39ez6S"
      },
      "outputs": [],
      "source": [
        "#TODO"
      ]
    },
    {
      "cell_type": "markdown",
      "metadata": {
        "id": "e_fYFZNa8fHJ"
      },
      "source": [
        "-----\n",
        "# Dictionary Tasks part 2"
      ]
    },
    {
      "cell_type": "markdown",
      "metadata": {
        "id": "voUSdVnW8fHJ"
      },
      "source": [
        "# TASK 1\n",
        "Using a for loop, have 3 different users enter their name and favorite food to create a list of tuples. Then use the list of tuples to create a dictionary.\n",
        "\n",
        "### Example output\n",
        "```python\n",
        "{\n",
        "    'gabe' : 'sushi',\n",
        "    'nathan' : 'pasta',\n",
        "    'cianni': 'alfredo'\n",
        "}\n",
        "```"
      ]
    },
    {
      "cell_type": "code",
      "execution_count": 2,
      "metadata": {
        "id": "-LCG74_z8fHK",
        "outputId": "9a9bf6be-8a72-4acf-9eec-2095b4ac4e37",
        "colab": {
          "base_uri": "https://localhost:8080/"
        }
      },
      "outputs": [
        {
          "name": "stdout",
          "output_type": "stream",
          "text": [
            "NameOliver\n",
            "Foodburger\n",
            "Nameelias\n",
            "Foodpizza\n",
            "Namegabe\n",
            "Foodsushi\n"
          ]
        },
        {
          "output_type": "execute_result",
          "data": {
            "text/plain": [
              "{'Oliver': 'burger', 'elias': 'pizza', 'gabe': 'sushi'}"
            ]
          },
          "metadata": {},
          "execution_count": 2
        }
      ],
      "source": [
        "# Solution goes here\n",
        "data = []\n",
        "for i in range(3):\n",
        "  name = input(\"Name\")\n",
        "  food = input(\"Food\")\n",
        "  info = (name, food)\n",
        "  data.append(info)\n",
        "data = dict(data)\n",
        "data"
      ]
    },
    {
      "cell_type": "markdown",
      "metadata": {
        "id": "yaHLdOaP8fHL"
      },
      "source": [
        "# TASK 2 \n",
        "Use the list below to create a dictionary with the default values of 10\n",
        "\n",
        "### Expected output\n",
        "```python\n",
        "{\n",
        "    'dime': 10,\n",
        "    'decade': 10,\n",
        "    '1 + 9': 10\n",
        "}\n",
        "```"
      ]
    },
    {
      "cell_type": "code",
      "execution_count": 3,
      "metadata": {
        "id": "bAegTpE48fHL",
        "outputId": "ee816b4e-c7c0-4a02-ce47-ab3057f570b1",
        "colab": {
          "base_uri": "https://localhost:8080/"
        }
      },
      "outputs": [
        {
          "output_type": "execute_result",
          "data": {
            "text/plain": [
              "{'1 + 9': 10, 'Decade': 10, 'Dime': 10}"
            ]
          },
          "metadata": {},
          "execution_count": 3
        }
      ],
      "source": [
        "var = [\"Dime\", \"Decade\", \"1 + 9\"]\n",
        "# Solution goes here\n",
        "default = 10\n",
        "dictionary = dict.fromkeys(var,default)\n",
        "dictionary"
      ]
    },
    {
      "cell_type": "markdown",
      "metadata": {
        "id": "V69SheyR8fHM"
      },
      "source": [
        "# TASK 3\n",
        "Given the dictionary below, group the keys by type and also show which type has the most files."
      ]
    },
    {
      "cell_type": "code",
      "execution_count": 6,
      "metadata": {
        "id": "71gwDs_I8fHM",
        "outputId": "70ca2dd0-24ba-429f-f90d-240199124255",
        "colab": {
          "base_uri": "https://localhost:8080/"
        }
      },
      "outputs": [
        {
          "output_type": "stream",
          "name": "stdout",
          "text": [
            "{'audio': ['file1', 'file5', 'file10'], 'document': ['file2', 'file3', 'file6'], 'project': ['file4', 'file7', 'file8', 'file9']} project has the most files\n"
          ]
        }
      ],
      "source": [
        "var = {\n",
        "    'file1': 'audio',\n",
        "    'file2': 'document',\n",
        "    'file3': 'document',\n",
        "    'file4': 'project',\n",
        "    'file5': 'audio',\n",
        "    'file6': \"document\",\n",
        "    'file7': \"project\",\n",
        "    'file8': 'project',\n",
        "    'file9': \"project\",\n",
        "    'file10': \"audio\"\n",
        "}\n",
        "types = {}\n",
        "for key, value in var.items():\n",
        "  types.setdefault(value, [])\n",
        "  types[value].append(key)\n",
        "\n",
        "most = \"\"\n",
        "most_num = 0\n",
        "for i in types:\n",
        "  if len(types[i]) > most_num:\n",
        "    most_num = len(types[i])\n",
        "    most = i\n",
        "print(types, f\"{most} has the most files\")"
      ]
    },
    {
      "cell_type": "markdown",
      "metadata": {
        "id": "FN7VQX7W8fHN"
      },
      "source": [
        "# TASK 4\n",
        "using the dictionary from task 3, print out the number of unique categories in the dictionary and what those categories are."
      ]
    },
    {
      "cell_type": "code",
      "execution_count": 15,
      "metadata": {
        "id": "11F9mUoy8fHN",
        "outputId": "fc1d9983-90d7-4502-a596-b305bd1e5e64",
        "colab": {
          "base_uri": "https://localhost:8080/"
        }
      },
      "outputs": [
        {
          "output_type": "stream",
          "name": "stdout",
          "text": [
            "Unique categories:3 which are:\n",
            "audio\n",
            "document\n",
            "project\n"
          ]
        }
      ],
      "source": [
        "#TODO\n",
        "categories_num = len(types)\n",
        "print(f\"Unique categories:{categories_num} which are:\")\n",
        "for i in types:\n",
        "  print(i)\n"
      ]
    },
    {
      "cell_type": "markdown",
      "metadata": {
        "id": "7hfUR0pw8fHO"
      },
      "source": [
        "# TASK 5\n",
        "Create a new list in the dictionary that is equal to the sum of each of the elements in the list and tuple.\n",
        "\n",
        "### Expected output\n",
        "```python\n",
        "var = {\n",
        "    'list': [43, 12, 53, 66],\n",
        "    'tuple': (23, 66, 12, 77),\n",
        "    'sum': [66, 78, 65, 143]\n",
        "}\n",
        "```"
      ]
    },
    {
      "cell_type": "code",
      "execution_count": 16,
      "metadata": {
        "id": "CWK0e7sz8fHO",
        "outputId": "fa8e49f3-0528-40ac-8349-c499dc4d1adc",
        "colab": {
          "base_uri": "https://localhost:8080/"
        }
      },
      "outputs": [
        {
          "output_type": "execute_result",
          "data": {
            "text/plain": [
              "{'list': [43, 12, 53, 66], 'sum': [66, 78, 65, 143], 'tuple': (23, 66, 12, 77)}"
            ]
          },
          "metadata": {},
          "execution_count": 16
        }
      ],
      "source": [
        "var = {\n",
        "    'list': [43, 12, 53, 66],\n",
        "    'tuple': (23, 66, 12, 77)\n",
        "}\n",
        "\n",
        "var[\"sum\"] = []\n",
        "for i in range(len(var[\"list\"])):\n",
        "  sum = var['list'][i] + var[\"tuple\"][i]\n",
        "  var[\"sum\"].append(sum)\n",
        "var\n"
      ]
    },
    {
      "cell_type": "markdown",
      "metadata": {
        "id": "NxxQA8vR8fHO"
      },
      "source": [
        "# TASK 6\n",
        "using the dataset below, find the year when the population was the largest and create a dictionary with the year as the key and the population as the value.\n",
        "\n",
        "### Example output\n",
        "```python \n",
        "{\n",
        "    2019: 54388234\n",
        "}\n",
        "```"
      ]
    },
    {
      "cell_type": "code",
      "execution_count": 26,
      "metadata": {
        "id": "8X5Dz1jF8fHP",
        "outputId": "5226df33-958b-48cc-d88f-fdde33207a48",
        "colab": {
          "base_uri": "https://localhost:8080/"
        }
      },
      "outputs": [
        {
          "output_type": "execute_result",
          "data": {
            "text/plain": [
              "(328239523, '2019')"
            ]
          },
          "metadata": {},
          "execution_count": 26
        }
      ],
      "source": [
        "import requests\n",
        "def get_data():\n",
        "    data = requests.get(\"https://datausa.io/api/data?drilldowns=Nation&measures=Population\").json()\n",
        "    return data['data']\n",
        "\n",
        "data = get_data()\n",
        "high_pop = 0\n",
        "year = 0\n",
        "for i in data:\n",
        "  pop = i[\"Population\"]\n",
        "  if pop > high_pop:\n",
        "    high_pop = pop\n",
        "    year = i[\"Year\"]\n",
        "high_pop,year"
      ]
    },
    {
      "cell_type": "markdown",
      "metadata": {
        "id": "c-ywVohg8fHQ"
      },
      "source": [
        "# TASK 7 \n",
        "calling the `get_user()` will return information for a random made up user account. Use the dictionary to create a new dictionary with the following items. Do this for 3 random users and create a list of dictionaries where each dictionary is a list element. Then print out each of the random users names and city.\n",
        "\n",
        "* gender\n",
        "* city\n",
        "* first and last name (combined)\n",
        "* username\n",
        "* password\n",
        "\n",
        "## Example ouput\n",
        "```python\n",
        "[\n",
        "    {\n",
        "        'gender': 'Male',\n",
        "        'city' : 'Minneapolis',\n",
        "        'name': 'gabe flomo',\n",
        "        'username': 'gabe111',\n",
        "        'password': 'securepassword'\n",
        "    },\n",
        "    {\n",
        "        'gender': 'Female',\n",
        "        'city' : 'Chicago',\n",
        "        'name': 'Cherelle bower',\n",
        "        'username': 'cherelle111',\n",
        "        'password': 'securepassword'\n",
        "    },\n",
        "    {\n",
        "        'gender': 'Male',\n",
        "        'city' : 'Minneapolis',\n",
        "        'name': 'Nathan flomo',\n",
        "        'username': 'Nathan111',\n",
        "        'password': 'securepassword'\n",
        "    }\n",
        "]\n",
        "\n",
        "#output\n",
        "\"Gabe - Minneapolis\"\n",
        "\"Cherelle - Chicago\"\n",
        "\"Nathan - Minneapolis\"\n",
        "```\n",
        "\n",
        "**Each time you call the `get_user()` function, you will get different data**"
      ]
    },
    {
      "cell_type": "code",
      "execution_count": 29,
      "metadata": {
        "id": "q83JR5pm8fHQ",
        "outputId": "458636b4-b273-48f5-9890-8d1c6111aa4c",
        "colab": {
          "base_uri": "https://localhost:8080/"
        }
      },
      "outputs": [
        {
          "output_type": "execute_result",
          "data": {
            "text/plain": [
              "{'cell': '0476-552-832',\n",
              " 'dob': {'age': 56, 'date': '1965-01-13T00:44:32.790Z'},\n",
              " 'email': 'letitia.black@example.com',\n",
              " 'gender': 'female',\n",
              " 'id': {'name': 'TFN', 'value': '621840190'},\n",
              " 'location': {'city': 'Nowra',\n",
              "  'coordinates': {'latitude': '-89.5589', 'longitude': '54.4333'},\n",
              "  'country': 'Australia',\n",
              "  'postcode': 7373,\n",
              "  'state': 'Northern Territory',\n",
              "  'street': {'name': 'Country Club Rd', 'number': 3924},\n",
              "  'timezone': {'description': 'Mountain Time (US & Canada)',\n",
              "   'offset': '-7:00'}},\n",
              " 'login': {'md5': '0a9968047a2a5858672d3962a91f0786',\n",
              "  'password': 'yankees',\n",
              "  'salt': 'Q4fpnL1u',\n",
              "  'sha1': 'a536126fcc259aac0b5116d414801f0e4b4bfe53',\n",
              "  'sha256': 'a2e731f9018f824a828e2f3c8f608a1f1b555cefc747f5199165471f4084180a',\n",
              "  'username': 'beautifulswan128',\n",
              "  'uuid': '91226295-bbe1-4339-95f0-e06a710a516c'},\n",
              " 'name': {'first': 'Letitia', 'last': 'Black', 'title': 'Miss'},\n",
              " 'nat': 'AU',\n",
              " 'phone': '00-0631-4760',\n",
              " 'picture': {'large': 'https://randomuser.me/api/portraits/women/45.jpg',\n",
              "  'medium': 'https://randomuser.me/api/portraits/med/women/45.jpg',\n",
              "  'thumbnail': 'https://randomuser.me/api/portraits/thumb/women/45.jpg'},\n",
              " 'registered': {'age': 8, 'date': '2013-03-03T23:34:25.490Z'}}"
            ]
          },
          "metadata": {},
          "execution_count": 29
        }
      ],
      "source": [
        "def get_user():\n",
        "    data = requests.get(\"https://randomuser.me/api/\").json()\n",
        "    return data['results'][0]\n",
        "\n",
        "data = get_user()\n",
        "data"
      ]
    },
    {
      "cell_type": "code",
      "execution_count": 44,
      "metadata": {
        "id": "WhyE9min8fHR",
        "outputId": "a9cd693e-4bf7-447e-e4aa-5b9042ea59e3",
        "colab": {
          "base_uri": "https://localhost:8080/"
        }
      },
      "outputs": [
        {
          "output_type": "execute_result",
          "data": {
            "text/plain": [
              "[{'city': 'Angra dos Reis',\n",
              "  'gender': 'male',\n",
              "  'name': 'Anieloda Luz',\n",
              "  'password': 'columbia',\n",
              "  'username': 'crazygoose535'},\n",
              " {'city': 'Talvik',\n",
              "  'gender': 'male',\n",
              "  'name': 'IdrisMossige',\n",
              "  'password': 'katie',\n",
              "  'username': 'orangefrog496'},\n",
              " {'city': 'Nova Iguaçu',\n",
              "  'gender': 'female',\n",
              "  'name': 'SonjaMonteiro',\n",
              "  'password': '1115',\n",
              "  'username': 'heavybear957'}]"
            ]
          },
          "metadata": {},
          "execution_count": 44
        }
      ],
      "source": [
        "people = []\n",
        "for i in range(3):\n",
        "  data = get_user()\n",
        "  info = {\"gender\":data[\"gender\"],\n",
        "           \"city\":data[\"location\"][\"city\"],\n",
        "          \"name\":data[\"name\"][\"first\"] + data[\"name\"][\"last\"],\n",
        "         \"username\": data[\"login\"][\"username\"],\n",
        "          \"password\":data[\"login\"][\"password\"]}\n",
        "  people.append(info)\n",
        "people\n",
        "  "
      ]
    },
    {
      "cell_type": "code",
      "source": [
        ""
      ],
      "metadata": {
        "id": "0L_VEuoCEvkt"
      },
      "execution_count": null,
      "outputs": []
    }
  ],
  "metadata": {
    "colab": {
      "name": "Dictionary_tasks.ipynb",
      "provenance": [],
      "include_colab_link": true
    },
    "interpreter": {
      "hash": "f1a916808f2d29f1a5fbd48aa1cb9129993ca703ecce713879d0cd946e898e32"
    },
    "kernelspec": {
      "display_name": "Python 3.9.7 64-bit ('legacy': conda)",
      "language": "python",
      "name": "python3"
    },
    "language_info": {
      "codemirror_mode": {
        "name": "ipython",
        "version": 3
      },
      "file_extension": ".py",
      "mimetype": "text/x-python",
      "name": "python",
      "nbconvert_exporter": "python",
      "pygments_lexer": "ipython3",
      "version": "3.9.7"
    },
    "orig_nbformat": 4
  },
  "nbformat": 4,
  "nbformat_minor": 0
}