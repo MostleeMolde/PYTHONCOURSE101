{
  "nbformat": 4,
  "nbformat_minor": 0,
  "metadata": {
    "orig_nbformat": 4,
    "colab": {
      "name": "Dictionary_tasks.ipynb",
      "provenance": [],
      "include_colab_link": true
    },
    "language_info": {
      "name": "python"
    },
    "kernelspec": {
      "name": "python3",
      "display_name": "Python 3"
    }
  },
  "cells": [
    {
      "cell_type": "markdown",
      "metadata": {
        "id": "view-in-github",
        "colab_type": "text"
      },
      "source": [
        "<a href=\"https://colab.research.google.com/github/MostleeMolde/PYTHONCOURSE101/blob/main/Modules/3.%20Data%20structures%20and%20Methods/3.2%20Dictionaries/Dictionary_tasks.ipynb\" target=\"_parent\"><img src=\"https://colab.research.google.com/assets/colab-badge.svg\" alt=\"Open In Colab\"/></a>"
      ]
    },
    {
      "cell_type": "markdown",
      "metadata": {
        "id": "jj598watez6Q"
      },
      "source": [
        "# PART 1 Tasks\n",
        "---"
      ]
    },
    {
      "cell_type": "markdown",
      "metadata": {
        "id": "uOT8pKOQez6R"
      },
      "source": [
        "# TASK 1\n",
        "Create a dictionary where the keys are numbers and the values are equal to the number squared"
      ]
    },
    {
      "cell_type": "code",
      "metadata": {
        "id": "ajRkaV1Oez6R",
        "outputId": "9e3b02c0-12af-40ad-a963-222ad3498be7",
        "colab": {
          "base_uri": "https://localhost:8080/"
        }
      },
      "source": [
        "#TODO\n",
        "var = {}\n",
        "for i in range(20):\n",
        "  var[i] = i*i\n",
        "var\n"
      ],
      "execution_count": 1,
      "outputs": [
        {
          "output_type": "execute_result",
          "data": {
            "text/plain": [
              "{0: 0,\n",
              " 1: 1,\n",
              " 2: 4,\n",
              " 3: 9,\n",
              " 4: 16,\n",
              " 5: 25,\n",
              " 6: 36,\n",
              " 7: 49,\n",
              " 8: 64,\n",
              " 9: 81,\n",
              " 10: 100,\n",
              " 11: 121,\n",
              " 12: 144,\n",
              " 13: 169,\n",
              " 14: 196,\n",
              " 15: 225,\n",
              " 16: 256,\n",
              " 17: 289,\n",
              " 18: 324,\n",
              " 19: 361}"
            ]
          },
          "metadata": {},
          "execution_count": 1
        }
      ]
    },
    {
      "cell_type": "markdown",
      "metadata": {
        "id": "N9ofOF2Kez6R"
      },
      "source": [
        "# TASK 2\n",
        "Using the dictionary from Task 1, loop through the keys to print out all the values."
      ]
    },
    {
      "cell_type": "code",
      "metadata": {
        "id": "DpDs6b0Eez6R",
        "outputId": "b38cf795-7036-44cd-973b-b826c4622ced",
        "colab": {
          "base_uri": "https://localhost:8080/"
        }
      },
      "source": [
        "#TODO\n",
        "for i in var:\n",
        "  print(var[i])"
      ],
      "execution_count": 2,
      "outputs": [
        {
          "output_type": "stream",
          "name": "stdout",
          "text": [
            "0\n",
            "1\n",
            "4\n",
            "9\n",
            "16\n",
            "25\n",
            "36\n",
            "49\n",
            "64\n",
            "81\n",
            "100\n",
            "121\n",
            "144\n",
            "169\n",
            "196\n",
            "225\n",
            "256\n",
            "289\n",
            "324\n",
            "361\n"
          ]
        }
      ]
    },
    {
      "cell_type": "markdown",
      "metadata": {
        "id": "_253Qr5wez6R"
      },
      "source": [
        "# TASK 3\n",
        "create a dictionary called `temperature` with the keys `low, medium, high`. Try and access the key `extreme`, which should result in an error. Resolve this error by having the dictionary return \"Extreme not in temperature\"."
      ]
    },
    {
      "cell_type": "code",
      "metadata": {
        "id": "cNFJZD9fez6R",
        "outputId": "46bee401-1fb0-4bdf-f472-03b7f9b49389",
        "colab": {
          "base_uri": "https://localhost:8080/",
          "height": 37
        }
      },
      "source": [
        "#TODO\n",
        "key = \"extreme\"\n",
        "default = f\"{key} is not in temperature\"\n",
        "temperature = {\n",
        "    \"low\": 0,\n",
        "    \"medium\": 50,\n",
        "    \"high\":80\n",
        "}\n",
        "temperature.get(\"extreme\", default)"
      ],
      "execution_count": 5,
      "outputs": [
        {
          "output_type": "execute_result",
          "data": {
            "application/vnd.google.colaboratory.intrinsic+json": {
              "type": "string"
            },
            "text/plain": [
              "'extreme is not in temperature'"
            ]
          },
          "metadata": {},
          "execution_count": 5
        }
      ]
    },
    {
      "cell_type": "markdown",
      "metadata": {
        "id": "ErABLKpxez6R"
      },
      "source": [
        "\n",
        "# TASK 4\n",
        "***Below is a dictionary with words as the keys and `None` as the value. You are also provided with a list that contains all of the keys in the dictionary, plus a few extra.*** \n",
        "\n",
        "Your task is to loop through the list and check if the key is present in the dictionary.\n",
        "- If the key is present, update the value to be equal to the length of the word\n",
        "- If the key is not present, add the key to the dictionary and set the value equal to the length of the word\n",
        "\n",
        "### ***Example Input***\n",
        "\n",
        "`d = {'Hello':None, \"world\": None}`\n",
        "\n",
        "`l = [\"hello\", \"world\", \"good\", \"day\"]`\n",
        "### ***Expected output***\n",
        "`print(d) -> {'Hello':5, \"world\": 5, \"good\": 4, \"day\": 3}`\n",
        "\n"
      ]
    },
    {
      "cell_type": "code",
      "metadata": {
        "id": "V4gpW0rIez6S",
        "outputId": "3161c8b6-2115-47b7-85af-4e7af83edd27",
        "colab": {
          "base_uri": "https://localhost:8080/"
        }
      },
      "source": [
        "d = {\n",
        "    \"green\": None,\n",
        "    \"eggs\": None\n",
        "}\n",
        "\n",
        "l = [\n",
        "    \"green\",\n",
        "    \"eggs\",\n",
        "    \"and\",\n",
        "    \"ham\"\n",
        "]\n",
        "\n",
        "#TODO: update the dictionary to add all of the elements from the list as keys, and the length of each element as the values\n",
        "for i in l:\n",
        "  if i in d:\n",
        "    d[i] = len(i)\n",
        "  else:\n",
        "    d[i] = len(i)\n",
        "print(d)"
      ],
      "execution_count": 6,
      "outputs": [
        {
          "output_type": "stream",
          "name": "stdout",
          "text": [
            "{'green': 5, 'eggs': 4, 'and': 3, 'ham': 3}\n"
          ]
        }
      ]
    },
    {
      "cell_type": "markdown",
      "metadata": {
        "id": "r_O2n7ozez6S"
      },
      "source": [
        "# TASK 5\n",
        "Create a dictionary where a color are the keys and the values are a list of objects that are that color. For example,\n",
        "`\"red\": [\"stop sign\", \"red pepper\", \"blood\"]`. Then write a for loop to print each key, and another for loop inside the first one to print each value.\n",
        "\n",
        "### **Example Output**\n",
        "```python\n",
        "{\n",
        "    'red':[\"stop sign\", \"red pepper\", \"blood\"],\n",
        "    'blue': ['sky', 'water', 'blueberry']\n",
        "}\n",
        "\n",
        "# output\n",
        "red\n",
        "    stop sign \n",
        "    red pepper\n",
        "    blood\n",
        "\n",
        "blue \n",
        "    sky\n",
        "    water\n",
        "    blueberry\n",
        "```\n",
        "\n",
        "***HINT: May need to use nested for loops***"
      ]
    },
    {
      "cell_type": "code",
      "metadata": {
        "id": "isGePu39ez6S",
        "outputId": "5bba5116-ad86-4429-a349-87ec47c5e1a6",
        "colab": {
          "base_uri": "https://localhost:8080/"
        }
      },
      "source": [
        "#TODO\n",
        "thing = {\n",
        "    \"red\":[\"Apple\", \"Fire Hydrant\", \"blood\"],\n",
        "    \"yellow\":[\"Banana\", \"Submarine\", \"flower\"],\n",
        "    \"blue\":[\"sky\", \"water\", \"ball\"]\n",
        "}\n",
        "for color in thing:\n",
        "  print(f\"{color}:\")\n",
        "  for obj in thing[color]:\n",
        "    print(obj)\n"
      ],
      "execution_count": 13,
      "outputs": [
        {
          "output_type": "stream",
          "name": "stdout",
          "text": [
            "red:\n",
            "Apple\n",
            "Fire Hydrant\n",
            "blood\n",
            "yellow:\n",
            "Banana\n",
            "Submarine\n",
            "flower\n",
            "blue:\n",
            "sky\n",
            "water\n",
            "ball\n"
          ]
        }
      ]
    },
    {
      "cell_type": "code",
      "metadata": {
        "id": "0RKey0C6Akh7"
      },
      "source": [
        ""
      ],
      "execution_count": null,
      "outputs": []
    }
  ]
}