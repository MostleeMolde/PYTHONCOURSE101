{
  "nbformat": 4,
  "nbformat_minor": 0,
  "metadata": {
    "interpreter": {
      "hash": "fd61235da8d855c081cbd5d7c6398e4c179a40a950675235256f7f30499f1124"
    },
    "kernelspec": {
      "display_name": "Python 3.7.4 64-bit ('base': conda)",
      "name": "python3"
    },
    "language_info": {
      "codemirror_mode": {
        "name": "ipython",
        "version": 3
      },
      "file_extension": ".py",
      "mimetype": "text/x-python",
      "name": "python",
      "nbconvert_exporter": "python",
      "pygments_lexer": "ipython3",
      "version": "3.9.7"
    },
    "orig_nbformat": 4,
    "colab": {
      "name": "in_class_demo part1.ipynb",
      "provenance": [],
      "include_colab_link": true
    }
  },
  "cells": [
    {
      "cell_type": "markdown",
      "metadata": {
        "id": "view-in-github",
        "colab_type": "text"
      },
      "source": [
        "<a href=\"https://colab.research.google.com/github/MostleeMolde/PYTHONCOURSE101/blob/main/Modules/3.%20Data%20structures%20and%20Methods/3.2%20Dictionaries/in_class_demo%20part1.ipynb\" target=\"_parent\"><img src=\"https://colab.research.google.com/assets/colab-badge.svg\" alt=\"Open In Colab\"/></a>"
      ]
    },
    {
      "cell_type": "markdown",
      "metadata": {
        "id": "q3lb6seWeeDr"
      },
      "source": [
        "# Dictionaries\n",
        "\n",
        "You can think of a dictionary as a mapping between a set of keys and a set of values. Each key maps to a value. The association of a key and a value is called a **key:value** pair or sometimes an item.\n",
        "--\n",
        "\n",
        "**As an example, we’ll build a dictionary that stores employee record.**\n",
        "--\n",
        "\n",
        "<img src = \"imgs/dict.png\">\n"
      ]
    },
    {
      "cell_type": "markdown",
      "metadata": {
        "id": "KxVMca_4eeDt"
      },
      "source": [
        "# Creating Dictionaries\n",
        "You can create a dictionary by placing a comma-separated list of `key:value` pairs in curly braces `{}`. Each key is separated from its associated value by a colon `:`\n",
        "--\n",
        "\n",
        "```python\n",
        "dictionary = {'key': 'value',\n",
        "              'key2': 'value2'}\n",
        "```\n",
        "\n",
        ">Think about a dictionary in python as being like an actual dictionary, or phone book. All of the words in a dictionary are unique yet two unique words may share similar definitions"
      ]
    },
    {
      "cell_type": "code",
      "metadata": {
        "id": "4hGUnDY1eeDt",
        "colab": {
          "base_uri": "https://localhost:8080/"
        },
        "outputId": "9f86e150-a32c-4c5e-d88d-f390dbfb716c"
      },
      "source": [
        "#TODO: Build the dictionary that stores employee records\n",
        "employees = {\n",
        "    \"Name\":\"Oliver\",\n",
        "    \"age\":22,\n",
        "    \"Job\":\"Unemployed\"\n",
        "}\n",
        "employees"
      ],
      "execution_count": 2,
      "outputs": [
        {
          "output_type": "execute_result",
          "data": {
            "text/plain": [
              "{'Job': 'Unemployed', 'Name': 'Oliver', 'age': 22}"
            ]
          },
          "metadata": {},
          "execution_count": 2
        }
      ]
    },
    {
      "cell_type": "markdown",
      "metadata": {
        "id": "y5IMoxNfeeDu"
      },
      "source": [
        "# Properties of a Dictionary\n",
        "----------\n",
        "\n",
        "## **Keys must be unique:**\n",
        "A key can appear in a dictionary only once.\n",
        "---\n",
        "\n",
        "**if you specify a key more than once during the creation of a dictionary, the last value for that key becomes the associated value.**\n"
      ]
    },
    {
      "cell_type": "code",
      "metadata": {
        "id": "Emrdm7_GeeDu",
        "colab": {
          "base_uri": "https://localhost:8080/"
        },
        "outputId": "a2c7fdf8-1df8-465c-ce49-e7b6e2f5f985"
      },
      "source": [
        "#TODO: Create a dictionary with some of the keys being identical\n",
        "animals = {\n",
        "    \"Cat\":\"Cutie\",\n",
        "     \"Dog\":\"Cutie2\",\n",
        "     \"Cat\":\"AHAHAHA\"      \n",
        "           \n",
        "           \n",
        "           }\n",
        "animals"
      ],
      "execution_count": 5,
      "outputs": [
        {
          "output_type": "execute_result",
          "data": {
            "text/plain": [
              "{'Cat': 'AHAHAHA', 'Dog': 'Cutie2'}"
            ]
          },
          "metadata": {},
          "execution_count": 5
        }
      ]
    },
    {
      "cell_type": "markdown",
      "metadata": {
        "id": "C7BmPsxQeeDu"
      },
      "source": [
        "## **Keys must be immutable:**\n",
        "> *Remember, immutable types can't change.* \n",
        "\n",
        "You can create a key in a dictionary using any immutable data type – such as *numbers, strings, booleans or tuples.*\n",
        "--"
      ]
    },
    {
      "cell_type": "code",
      "metadata": {
        "id": "foq2fR9ueeDv",
        "colab": {
          "base_uri": "https://localhost:8080/"
        },
        "outputId": "f4f59b99-c417-4a8d-8919-addb46d125c4"
      },
      "source": [
        "#TODO Create a dictionary with the key data types -> number, string, tuple\n",
        "data = {\n",
        "    90:\"int\",\n",
        "    \"hello\":\"str\",\n",
        "    80.45:\"float\",\n",
        "    (0,1):\"tuple\"\n",
        "}\n",
        "data[90], data[\"hello\"], data[80.45], data[(0,1)]"
      ],
      "execution_count": 12,
      "outputs": [
        {
          "output_type": "execute_result",
          "data": {
            "text/plain": [
              "('int', 'str', 'float', 'tuple')"
            ]
          },
          "metadata": {},
          "execution_count": 12
        }
      ]
    },
    {
      "cell_type": "code",
      "metadata": {
        "id": "0K4onEOkeeDv",
        "colab": {
          "base_uri": "https://localhost:8080/",
          "height": 232
        },
        "outputId": "995124dc-80d3-4461-ba9e-7304d29cf7b4"
      },
      "source": [
        "#TODO Show what happens when a key is created with a mutable type, such as a list\n",
        "data = {\n",
        "    [1,2,3,4]:\"List\"\n",
        "}\n",
        "data"
      ],
      "execution_count": 13,
      "outputs": [
        {
          "output_type": "error",
          "ename": "TypeError",
          "evalue": "ignored",
          "traceback": [
            "\u001b[0;31m---------------------------------------------------------------------------\u001b[0m",
            "\u001b[0;31mTypeError\u001b[0m                                 Traceback (most recent call last)",
            "\u001b[0;32m<ipython-input-13-d14170d069e8>\u001b[0m in \u001b[0;36m<module>\u001b[0;34m()\u001b[0m\n\u001b[1;32m      1\u001b[0m \u001b[0;31m#TODO Show what happens when a key is created with a mutable type, such as a list\u001b[0m\u001b[0;34m\u001b[0m\u001b[0;34m\u001b[0m\u001b[0;34m\u001b[0m\u001b[0m\n\u001b[1;32m      2\u001b[0m data = {\n\u001b[0;32m----> 3\u001b[0;31m     \u001b[0;34m[\u001b[0m\u001b[0;36m1\u001b[0m\u001b[0;34m,\u001b[0m\u001b[0;36m2\u001b[0m\u001b[0;34m,\u001b[0m\u001b[0;36m3\u001b[0m\u001b[0;34m,\u001b[0m\u001b[0;36m4\u001b[0m\u001b[0;34m]\u001b[0m\u001b[0;34m:\u001b[0m\u001b[0;34m\"List\"\u001b[0m\u001b[0;34m\u001b[0m\u001b[0;34m\u001b[0m\u001b[0m\n\u001b[0m\u001b[1;32m      4\u001b[0m }\n\u001b[1;32m      5\u001b[0m \u001b[0mdata\u001b[0m\u001b[0;34m\u001b[0m\u001b[0;34m\u001b[0m\u001b[0m\n",
            "\u001b[0;31mTypeError\u001b[0m: unhashable type: 'list'"
          ]
        }
      ]
    },
    {
      "cell_type": "markdown",
      "metadata": {
        "id": "jOd4QG_xeeDv"
      },
      "source": [
        "## **Value can be of any type:**\n",
        "There are no restrictions on dictionary values. A dictionary value can be any type of object and can appear in a dictionary multiple times.\n",
        "--"
      ]
    },
    {
      "cell_type": "code",
      "metadata": {
        "id": "wQSpG6Z9eeDw",
        "colab": {
          "base_uri": "https://localhost:8080/"
        },
        "outputId": "6d5498b7-f786-4c84-b441-43d9fc959dc3"
      },
      "source": [
        "#TODO Create dictionary values of types -> string, list, tuple\n",
        "data = {\n",
        "    \"str\":\"Hello im string\",\n",
        "    \"list\":[1,\"yes\", 5.5],\n",
        "    \"tuple\":(1,2,3,4,5)\n",
        "\n",
        "}\n",
        "data"
      ],
      "execution_count": 15,
      "outputs": [
        {
          "output_type": "execute_result",
          "data": {
            "text/plain": [
              "{'list': [1, 'yes', 5.5], 'str': 'Hello im string', 'tuple': (1, 2, 3, 4, 5)}"
            ]
          },
          "metadata": {},
          "execution_count": 15
        }
      ]
    },
    {
      "cell_type": "code",
      "metadata": {
        "id": "R7z0wAvLeeDw",
        "colab": {
          "base_uri": "https://localhost:8080/"
        },
        "outputId": "091c2467-336b-4912-c8f8-108f4fbf1bf5"
      },
      "source": [
        "#TODO Create a dictionary with all identical values\n",
        "data = {\n",
        "    \"name\":None,\n",
        "    \"age\":None,\n",
        "    \"position\":None\n",
        "}\n",
        "data"
      ],
      "execution_count": 16,
      "outputs": [
        {
          "output_type": "execute_result",
          "data": {
            "text/plain": [
              "{'age': None, 'name': None, 'position': None}"
            ]
          },
          "metadata": {},
          "execution_count": 16
        }
      ]
    },
    {
      "cell_type": "markdown",
      "metadata": {
        "id": "2f_prb8deeDw"
      },
      "source": [
        "# Accessing Dictionary Items\n",
        "-----\n",
        "Unlike lists or tuples, the items of a dictionary are not indexed with integer indices. Instead, you use the keys to access the corresponding values.\n",
        "--\n",
        "\n",
        "***You can fetch a value from a dictionary by referring to its key in square brackets [].***\n",
        "\n",
        "```python\n",
        "D = {'name': 'Bob',\n",
        "     'age': 25,\n",
        "     'job': 'Dev'}\n",
        "\n",
        "print(D['name'])\n",
        "# Prints Bob\n",
        "```"
      ]
    },
    {
      "cell_type": "code",
      "metadata": {
        "id": "RoT2GskMeeDw",
        "colab": {
          "base_uri": "https://localhost:8080/"
        },
        "outputId": "1a575c92-5c3a-4133-9e4b-39da120f3110"
      },
      "source": [
        "#TODO print the name and age from the dictionary\n",
        "var = {'name': 'Gabe',\n",
        "       'age': 22,\n",
        "       'job': 'Dev',\n",
        "       'city': 'Minneapolis',\n",
        "       'email': 'Gabe@lituation.com'}\n",
        "\n",
        "print(var[\"name\"],var[\"age\"])\n",
        "\n"
      ],
      "execution_count": 18,
      "outputs": [
        {
          "output_type": "stream",
          "name": "stdout",
          "text": [
            "Gabe 22\n"
          ]
        }
      ]
    },
    {
      "cell_type": "code",
      "metadata": {
        "id": "iWjkk3_HeeDx",
        "colab": {
          "base_uri": "https://localhost:8080/"
        },
        "outputId": "db95b538-b003-4e24-84f0-5baf9566e41e"
      },
      "source": [
        "#TODO print the first and last dictionary values\n",
        "var = {\n",
        "    101: \"Intro to python\",\n",
        "    \"location\": \"Washburn\",\n",
        "    \"Currently teaching\": True,\n",
        "    (3.15, 5.30): \"time\"\n",
        "}\n",
        "var[101], var[(3.15, 5.3)]\n"
      ],
      "execution_count": 20,
      "outputs": [
        {
          "output_type": "execute_result",
          "data": {
            "text/plain": [
              "('Intro to python', 'time')"
            ]
          },
          "metadata": {},
          "execution_count": 20
        }
      ]
    },
    {
      "cell_type": "markdown",
      "metadata": {
        "id": "M-jUQfgxeeDx"
      },
      "source": [
        "If you refer to a key that is not in the dictionary, you’ll get an error. To avoid such exception, you can use the special dictionary `get()` method. This method returns the value for key if key is in the dictionary, else None, so that this method never raises an error.\n",
        "--\n",
        "\n"
      ]
    },
    {
      "cell_type": "code",
      "metadata": {
        "id": "fqii6i00eeDx",
        "colab": {
          "base_uri": "https://localhost:8080/",
          "height": 198
        },
        "outputId": "ff128800-72ba-47cd-a67a-f0eac462429c"
      },
      "source": [
        "#TODO Try an access a key that is not in the dictionary\n",
        "var = {\n",
        "    \"Snapchat\": \"Photo messaging\",\n",
        "    \"Instagram\": \"Photo and video\",\n",
        "    \"Twitter\": \"MicroBlogging\"\n",
        "}\n",
        "var[\"name\"]"
      ],
      "execution_count": 21,
      "outputs": [
        {
          "output_type": "error",
          "ename": "KeyError",
          "evalue": "ignored",
          "traceback": [
            "\u001b[0;31m---------------------------------------------------------------------------\u001b[0m",
            "\u001b[0;31mKeyError\u001b[0m                                  Traceback (most recent call last)",
            "\u001b[0;32m<ipython-input-21-20a133bbb6a4>\u001b[0m in \u001b[0;36m<module>\u001b[0;34m()\u001b[0m\n\u001b[1;32m      5\u001b[0m     \u001b[0;34m\"Twitter\"\u001b[0m\u001b[0;34m:\u001b[0m \u001b[0;34m\"MicroBlogging\"\u001b[0m\u001b[0;34m\u001b[0m\u001b[0;34m\u001b[0m\u001b[0m\n\u001b[1;32m      6\u001b[0m }\n\u001b[0;32m----> 7\u001b[0;31m \u001b[0mvar\u001b[0m\u001b[0;34m[\u001b[0m\u001b[0;34m\"name\"\u001b[0m\u001b[0;34m]\u001b[0m\u001b[0;34m\u001b[0m\u001b[0;34m\u001b[0m\u001b[0m\n\u001b[0m",
            "\u001b[0;31mKeyError\u001b[0m: 'name'"
          ]
        }
      ]
    },
    {
      "cell_type": "code",
      "metadata": {
        "id": "N7W3vblLeeDx"
      },
      "source": [
        "#TODO Try an access a key that is not in the dictionary using the get method\n",
        "var.get(\"Facebook\")"
      ],
      "execution_count": 22,
      "outputs": []
    },
    {
      "cell_type": "code",
      "metadata": {
        "id": "qtD6W6wVeeDx",
        "colab": {
          "base_uri": "https://localhost:8080/",
          "height": 54
        },
        "outputId": "fea907a4-2078-4766-e9b1-fca577e4787f"
      },
      "source": [
        "#TODO: Set a default value for when a key is not found\n",
        "key = input(\"Key\")\n",
        "default = f\"{key} was not found in dictionary\"\n",
        "var.get(key, default)"
      ],
      "execution_count": 24,
      "outputs": [
        {
          "name": "stdout",
          "output_type": "stream",
          "text": [
            "KeySnapchat\n"
          ]
        },
        {
          "output_type": "execute_result",
          "data": {
            "application/vnd.google.colaboratory.intrinsic+json": {
              "type": "string"
            },
            "text/plain": [
              "'Photo messaging'"
            ]
          },
          "metadata": {},
          "execution_count": 24
        }
      ]
    },
    {
      "cell_type": "markdown",
      "metadata": {
        "id": "2FNVGRlreeDx"
      },
      "source": [
        "# Adding/Updating dictionary values\n",
        "-----\n",
        "Adding or updating dictionary values is easy. Just refer to the item by its key and assign a value. If the key is already present in the dictionary, its value is replaced by the new one.\n",
        "--\n",
        "\n"
      ]
    },
    {
      "cell_type": "code",
      "metadata": {
        "id": "_BAgpkIieeDy",
        "colab": {
          "base_uri": "https://localhost:8080/"
        },
        "outputId": "f03a03db-b0c3-40c5-8e82-f44adaa4ebc5"
      },
      "source": [
        "#TODO Update the snapchat value to \"Sneaky Media\"\n",
        "print(f\"Value before edit: {var['Snapchat']}\")\n",
        "var[\"Snapchat\"] = \"Sneaky Media\"\n",
        "print(f\"Value before edit: {var['Snapchat']}\")"
      ],
      "execution_count": 30,
      "outputs": [
        {
          "output_type": "stream",
          "name": "stdout",
          "text": [
            "Value before edit: Sneaky Media\n",
            "Value before edit: Sneaky Media\n"
          ]
        }
      ]
    },
    {
      "cell_type": "markdown",
      "metadata": {
        "id": "r7a9flpNeeDy"
      },
      "source": [
        "You can also add a new `key:value` pair by referring to the item by its key and assign a value. If the key is already present in the dictionary, its value is replaced by the new one.\n",
        "--"
      ]
    },
    {
      "cell_type": "code",
      "metadata": {
        "id": "YnOI39KdeeDy",
        "colab": {
          "base_uri": "https://localhost:8080/"
        },
        "outputId": "e408048d-2d57-4e1a-81e3-6ee742b848ce"
      },
      "source": [
        "#TODO add a new key value pair to the dictionary\n",
        "var[\"meta\"] = \"new facebook\"\n",
        "for i in range(1000):\n",
        "  del var[i]\n",
        "var"
      ],
      "execution_count": 35,
      "outputs": [
        {
          "output_type": "execute_result",
          "data": {
            "text/plain": [
              "{'Instagram': 'Photo and video',\n",
              " 'Snapchat': 'Sneaky Media',\n",
              " 'Twitter': 'MicroBlogging',\n",
              " 'meta': 'new facebook'}"
            ]
          },
          "metadata": {},
          "execution_count": 35
        }
      ]
    },
    {
      "cell_type": "markdown",
      "metadata": {
        "id": "jN3lZDvTeeDy"
      },
      "source": [
        "# Using loops with dictionaries\n",
        "There are many ways to use loop with dictionaries, many of which are useful for the creation of or updating dictionaries.\n",
        "\n",
        "## Creating dictionaries from a list using for loops\n",
        "Given a list, you can loop through the elements and use them as either the keys or values for a dictionary. In this example, we will use the list of names to create 3 different dictionaries using loops.\n",
        "- Names as keys\n",
        "- Names as values\n",
        "- Names as values, Name length as values"
      ]
    },
    {
      "cell_type": "code",
      "metadata": {
        "id": "riU6dEqIeeDy",
        "colab": {
          "base_uri": "https://localhost:8080/"
        },
        "outputId": "87ea08d3-1a2e-4adc-c073-fac8f8119c7a"
      },
      "source": [
        "#TODO create a dictionary using the names list with the names being the keys and the amount of times the name is in the list as the value\n",
        "names = ['Harper', 'Elias', 'Oliver', 'Gabe', 'Gabe']\n",
        "data = {}\n",
        "for name in names:\n",
        "  data[name] = names.count(name)\n",
        "print(data)"
      ],
      "execution_count": 51,
      "outputs": [
        {
          "output_type": "stream",
          "name": "stdout",
          "text": [
            "Harper\n",
            "{'Harper': 1, 'Elias': 1, 'Oliver': 1, 'Gabe': 2}\n"
          ]
        }
      ]
    },
    {
      "cell_type": "code",
      "metadata": {
        "id": "_1hjV3iCeeDy",
        "colab": {
          "base_uri": "https://localhost:8080/"
        },
        "outputId": "9d5ab7a9-32c3-47d6-a039-a7c5189a1a9c"
      },
      "source": [
        "#TODO Create a dictionary where the index of the name is the key and the name is the value\n",
        "data3={}\n",
        "for name in range(len(names)):\n",
        "  data3[name] = names[name]\n",
        "data3"
      ],
      "execution_count": 53,
      "outputs": [
        {
          "output_type": "execute_result",
          "data": {
            "text/plain": [
              "{0: 'Harper', 1: 'Elias', 2: 'Oliver', 3: 'Gabe', 4: 'Gabe'}"
            ]
          },
          "metadata": {},
          "execution_count": 53
        }
      ]
    },
    {
      "cell_type": "code",
      "metadata": {
        "id": "6WiCFlc3eeDy",
        "colab": {
          "base_uri": "https://localhost:8080/"
        },
        "outputId": "005d3544-d270-4077-dd48-9c8044af0545"
      },
      "source": [
        "#TODO create a dictionary where the names are keys and the name length are the values\n",
        "data2 = {}\n",
        "for name in names:\n",
        "  data2[name] = len(name)\n",
        "data2"
      ],
      "execution_count": 45,
      "outputs": [
        {
          "output_type": "execute_result",
          "data": {
            "text/plain": [
              "{'Elias': 5, 'Gabe': 4, 'Harper': 6, 'Oliver': 6}"
            ]
          },
          "metadata": {},
          "execution_count": 45
        }
      ]
    },
    {
      "cell_type": "markdown",
      "metadata": {
        "id": "ASI-GVx5eeDy"
      },
      "source": [
        "# Checking for Key Memebership\n",
        "---\n",
        "You can use the `in` operator to check if a key is present inside of a dictionary. This can be useful for updating dictionaries, as well as creating things like counters (we will go over this in part 2 of this lesson).\n",
        "--"
      ]
    },
    {
      "cell_type": "code",
      "metadata": {
        "id": "sR5-xZB6eeDy",
        "colab": {
          "base_uri": "https://localhost:8080/"
        },
        "outputId": "4e043244-5e57-4df2-8ef4-4fabca809ff7"
      },
      "source": [
        "contacts = {\n",
        "    \"Oliver\": '612-542-7787',\n",
        "    \"Elias\": '651-990-1102',\n",
        "    \"Harper\": '952-665-9088'\n",
        "}\n",
        "\n",
        "#TODO Check is Harper is in the dictionary\n",
        "\"Harper\" in contacts\n",
        "#TODO Check if Gabe is in the dictionary\n",
        "\"Gabe\" in contacts "
      ],
      "execution_count": 55,
      "outputs": [
        {
          "output_type": "execute_result",
          "data": {
            "text/plain": [
              "False"
            ]
          },
          "metadata": {},
          "execution_count": 55
        }
      ]
    },
    {
      "cell_type": "markdown",
      "metadata": {
        "id": "K6y6L74zeeDy"
      },
      "source": [
        "# Looping through Dictionary keys\n",
        "---------\n",
        "Although dictionaries aren't considered sequences in python, they are still iterable objects. You can loop through the keys in a dictionary by using a `for in` loop.\n",
        "--\n",
        "\n",
        "```python\n",
        "d = {'key':'value', 'key2':'value2'}\n",
        "for key in d:\n",
        "    print(key)\n",
        "```"
      ]
    },
    {
      "cell_type": "code",
      "metadata": {
        "id": "a8sSPiWteeDy",
        "colab": {
          "base_uri": "https://localhost:8080/"
        },
        "outputId": "3a29456f-9bf8-4fe8-9edc-25fc16c702e9"
      },
      "source": [
        "contacts = {\n",
        "    \"Oliver\": '612-542-7787',\n",
        "    \"Elias\": '651-990-1102',\n",
        "    \"Harper\": '952-665-9088'\n",
        "}\n",
        "\n",
        "#TODO loop over the contacts dictionary\n",
        "for contact in contacts:\n",
        "  print(contacts[contact])\n",
        "#TODO loop over the contacts and print the values\n"
      ],
      "execution_count": 56,
      "outputs": [
        {
          "output_type": "stream",
          "name": "stdout",
          "text": [
            "612-542-7787\n",
            "651-990-1102\n",
            "952-665-9088\n"
          ]
        }
      ]
    },
    {
      "cell_type": "code",
      "metadata": {
        "colab": {
          "base_uri": "https://localhost:8080/"
        },
        "id": "sqykfQBl6mME",
        "outputId": "0e62f406-01ff-40c1-9adc-e7ab45d210e7"
      },
      "source": [
        "for contact in contacts:\n",
        "  print(contact, contacts[contact])"
      ],
      "execution_count": 57,
      "outputs": [
        {
          "output_type": "stream",
          "name": "stdout",
          "text": [
            "Oliver 612-542-7787\n",
            "Elias 651-990-1102\n",
            "Harper 952-665-9088\n"
          ]
        }
      ]
    },
    {
      "cell_type": "code",
      "metadata": {
        "colab": {
          "base_uri": "https://localhost:8080/"
        },
        "id": "61C_mzsa64Nq",
        "outputId": "140db2ac-5e7b-4f04-cd08-f106aedff096"
      },
      "source": [
        "items = list(contacts.items())\n",
        "print(items)\n",
        "data = dict(items)\n",
        "data"
      ],
      "execution_count": 61,
      "outputs": [
        {
          "output_type": "stream",
          "name": "stdout",
          "text": [
            "[('Oliver', '612-542-7787'), ('Elias', '651-990-1102'), ('Harper', '952-665-9088')]\n"
          ]
        },
        {
          "output_type": "execute_result",
          "data": {
            "text/plain": [
              "{'Elias': '651-990-1102', 'Harper': '952-665-9088', 'Oliver': '612-542-7787'}"
            ]
          },
          "metadata": {},
          "execution_count": 61
        }
      ]
    },
    {
      "cell_type": "code",
      "metadata": {
        "id": "bgfwIWNl7V-v"
      },
      "source": [
        ""
      ],
      "execution_count": null,
      "outputs": []
    }
  ]
}